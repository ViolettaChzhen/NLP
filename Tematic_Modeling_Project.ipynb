{
  "nbformat": 4,
  "nbformat_minor": 0,
  "metadata": {
    "colab": {
      "provenance": [],
      "include_colab_link": true
    },
    "kernelspec": {
      "name": "python3",
      "display_name": "Python 3"
    },
    "language_info": {
      "name": "python"
    }
  },
  "cells": [
    {
      "cell_type": "markdown",
      "metadata": {
        "id": "view-in-github",
        "colab_type": "text"
      },
      "source": [
        "<a href=\"https://colab.research.google.com/github/ViolettaChzhen/NLP/blob/main/Tematic_Modeling_Project.ipynb\" target=\"_parent\"><img src=\"https://colab.research.google.com/assets/colab-badge.svg\" alt=\"Open In Colab\"/></a>"
      ]
    },
    {
      "cell_type": "markdown",
      "source": [
        "# Парсинг"
      ],
      "metadata": {
        "id": "LImkvjXY5jNu"
      }
    },
    {
      "cell_type": "code",
      "execution_count": null,
      "metadata": {
        "id": "V9_0xOyUBpc5"
      },
      "outputs": [],
      "source": [
        "from requests import get      # Библиотека для отправки запросов\n",
        "import numpy as np   # Библиотека для матриц, векторов и линала\n",
        "import pandas as pd  # Библиотека для табличек\n",
        "import time          # Библиотека для времени\n",
        "import requests\n",
        "import time"
      ]
    },
    {
      "cell_type": "code",
      "source": [
        "!pip install fake-useragent"
      ],
      "metadata": {
        "colab": {
          "base_uri": "https://localhost:8080/"
        },
        "id": "ciTxY5j3D4YF",
        "outputId": "a630b0c1-bd36-4622-8593-ede54304c4c8"
      },
      "execution_count": null,
      "outputs": [
        {
          "output_type": "stream",
          "name": "stdout",
          "text": [
            "Looking in indexes: https://pypi.org/simple, https://us-python.pkg.dev/colab-wheels/public/simple/\n",
            "Collecting fake-useragent\n",
            "  Downloading fake_useragent-1.1.3-py3-none-any.whl (50 kB)\n",
            "\u001b[2K     \u001b[90m━━━━━━━━━━━━━━━━━━━━━━━━━━━━━━━━━━━━━━━━\u001b[0m \u001b[32m50.5/50.5 kB\u001b[0m \u001b[31m3.5 MB/s\u001b[0m eta \u001b[36m0:00:00\u001b[0m\n",
            "\u001b[?25hInstalling collected packages: fake-useragent\n",
            "Successfully installed fake-useragent-1.1.3\n"
          ]
        }
      ]
    },
    {
      "cell_type": "code",
      "source": [
        "from fake_useragent import UserAgent"
      ],
      "metadata": {
        "id": "swBq8Pj6Ey_9"
      },
      "execution_count": null,
      "outputs": []
    },
    {
      "cell_type": "code",
      "execution_count": null,
      "metadata": {
        "id": "l_xMJb6-rPmv"
      },
      "outputs": [],
      "source": [
        "page_link = 'https://mybook.ru/author/dzhen-sinsero-2/ni-sy-vostochnaya-mudrost-kotoraya-glasit-bud-uver/reviews/'"
      ]
    },
    {
      "cell_type": "code",
      "source": [
        "response = requests.get(page_link, headers={'User-Agent': UserAgent().chrome})\n",
        "response"
      ],
      "metadata": {
        "colab": {
          "base_uri": "https://localhost:8080/"
        },
        "id": "eG6SMg6QE33V",
        "outputId": "533e71f3-0d05-4de8-b0e1-d12b6e08771d"
      },
      "execution_count": null,
      "outputs": [
        {
          "output_type": "execute_result",
          "data": {
            "text/plain": [
              "<Response [200]>"
            ]
          },
          "metadata": {},
          "execution_count": 5
        }
      ]
    },
    {
      "cell_type": "code",
      "source": [
        "html = response.content\n",
        "html"
      ],
      "metadata": {
        "id": "qt6X0mb-E-9G"
      },
      "execution_count": null,
      "outputs": []
    },
    {
      "cell_type": "code",
      "source": [
        "!pip install beautifulsoup4"
      ],
      "metadata": {
        "colab": {
          "base_uri": "https://localhost:8080/"
        },
        "id": "hCAvNCt2FFW1",
        "outputId": "7172423b-bc98-440c-d481-c96e729b0a56"
      },
      "execution_count": null,
      "outputs": [
        {
          "output_type": "stream",
          "name": "stdout",
          "text": [
            "Looking in indexes: https://pypi.org/simple, https://us-python.pkg.dev/colab-wheels/public/simple/\n",
            "Requirement already satisfied: beautifulsoup4 in /usr/local/lib/python3.10/dist-packages (4.11.2)\n",
            "Requirement already satisfied: soupsieve>1.2 in /usr/local/lib/python3.10/dist-packages (from beautifulsoup4) (2.4.1)\n"
          ]
        }
      ]
    },
    {
      "cell_type": "code",
      "source": [
        "from bs4 import BeautifulSoup"
      ],
      "metadata": {
        "id": "GWL2ku_NFWku"
      },
      "execution_count": null,
      "outputs": []
    },
    {
      "cell_type": "code",
      "source": [
        "soup = BeautifulSoup(html,'html.parser')\n",
        "soup"
      ],
      "metadata": {
        "id": "pmN-Y61mFYC9"
      },
      "execution_count": null,
      "outputs": []
    },
    {
      "cell_type": "code",
      "source": [
        "script = soup.find('script', {'id':'__NEXT_DATA__'})\n",
        "script"
      ],
      "metadata": {
        "id": "7Ajjz_PsgusX"
      },
      "execution_count": null,
      "outputs": []
    },
    {
      "cell_type": "code",
      "source": [
        "import json\n",
        "\n",
        "data = json.loads(script.text)\n",
        "props = data['props']\n",
        "initialProps = props['initialProps']\n",
        "pageProps = initialProps['pageProps']\n",
        "reviews = pageProps['reviews']\n",
        "name = reviews[1]['user']['display_name']\n",
        "comment = reviews[1]['comment_plain']\n",
        "date = reviews[1]['submit_date']\n",
        "rating = reviews[1]['book_rating']\n",
        "share_url = reviews[1]['share_url']\n",
        "print(f'Комментарий: {comment},\\n Дата: {date},\\n Оценка: {rating},\\n Ссылка: {share_url},\\n Имя: {name}')"
      ],
      "metadata": {
        "colab": {
          "base_uri": "https://localhost:8080/"
        },
        "id": "ESqlppP2k1cG",
        "outputId": "5b324a08-6b2e-4ee0-b219-571e083e99dc"
      },
      "execution_count": null,
      "outputs": [
        {
          "output_type": "stream",
          "name": "stdout",
          "text": [
            "Комментарий: Введение Бестселлер, популярнейшая книга, сильнейший мотиватор, всё это можно услышать о \" НИ СЫ\". Джен Синсеро в простой форме объясняет всевозможные методики саморазвития. Ключевой темой книги конечно же является уверенность в собственных силах. Но так ли всё просто. Неужели чтобы в жизни произошел успех надо лишь захотеть стать более уверенным?Мысли о жанре К книгам по саморазвитию у меня особое отношение среди всех жанров литературы. Я этот жанр обхожу стороной, потому что в большинстве случаев такие книги - вода. Дельные мысли есть на пару страниц, но ради этого тратить часы, уж извольте. Конечно это относится не ко всем книгам. Есть полезные книги, которые буквально могут изменить жизнь человека в лучшую сторону. Да и для некоторых людей читать нон-фикшн куда полезнее, чем художку, и я этих людей понимаю.Для меня же намного эффективнее прочитать рецензию на нон-фикшн или посмотреть видео \" книга за n минут\". Информация подана намного интереснее, часто с примерами. Сразу можно записать в блокнот и потихоньку применять в жизни. Всего я прочитал 2 книги по саморазвитию, и вторая из них это НИ СЫ. Почему так мало? Когда я берусь за нон-фикшн у него есть ровно 30 минут, чтобы удержать моё внимание. Если ему это не удается, он благополучно не дочитывается. И такое было не раз. Поэтому я удивился, когда прочитал НИ СЫ, ведь по сути в нём ничего особенного нет.Мысли о книге Помимо того, что это исторический момент, т.к. это первая моя рецензия на нон-фикшн, сама книга меня очень сильно удивила. Тем, как в ней уместилось столько всего.1) Прежде всего напомнило мне, что подсознание - это враг. Неосознанно, но мы ограничиваем себя в некоторых моментах. Если нам будут говорить в детстве, что книги - это напрасная трата времени, мы и во взрослой жизни будем верить в это. Зачем нам проверять эту информацию? Она же истина! Не зря же нам столько раз повторяли это убеждение. И ситуация на самом деле грустная, из-за этих ограничений мы можем потерять классные моменты жизни. Ты можешь что угодно говорить о своих желаниях. Но если у тебя есть противоречащее им подсознательное убеждение, они вряд ли сбудутся. Тут есть 2 варианта:а) Ты не позволишь себе обладать объектом желанияб) Ты позволишь себе обладать им, но весь изведешься из-за этого. А потом у тебя сдадут нервы, и ты все равно его лишишься. 2) Также порой, когда у нас в жизни происходит скачок вперед, случаются какие-то неприятности, и они идут без остановки. Я сам с этим сталкивался, и недоумевал, почему это случается именно в этот промежуток времени. Когда делаешь гигантский скачок вперед, жизнь часто превращается в добычу золотаря, прежде чем превратиться в золото.Оказывается что-то, подставляет нам палки в колеса, лишь бы мы остались на прежнем уровне развития. Оно может долго не останавливаться, но как бы это клишированно не звучало, надо продолжать идти вперед. Что бы ни случилось, придерживайся выбранного курса3) Сравнение с другими. Достаточно интересная проблема. В жизни случается, что люди порой принижают свои поступки или внешность. Насмотрятся на профили в соц.сетях других людей, и будут потом корить себя. Это ошибка, причем достаточно грубая. Каждый из нас уникален, и к сожалению мы это порой забываем.Не твое дело, чем занимаются другие. Единственное что важно, - это чтобы ты наслаждался собой и был доволен, тем что создаешь. Именно твоя уникальность делает тебя классным.4) Не думай - действуй. Как по мне, сложность правильного выполнения этого действия стоит наравне с собственной уверенностью. Мы можем думать, рассуждать, предполагать, просчитывать, анализировать, и тому подобное. Вместо того чтобы выполнить то ради чего всё это затеяно - действие. Мы всячески откладываем, оправдываем себя:а) Зачем мне изучать английский? Он мне пригодиться в жизни пару раз, а на его изучение уйдут сотни часов. Вон, люди и без него спокойно живут, мне то зачем заморачиваться.б) Зачем мне писать рецензии на книги на LiveLib? Как будто я стану экспертом. Так и так это очень сложно, зачем пытаться.А если мы сделаем один шаг к выполнению, вместо рассуждения, обнаружим следующее:а) Английский довольно интересный язык! Теперь можно не ждать пока озвучат сериал на русском, а сразу смотреть в оригинале. Да и наконец-то узнаю, как закончился мой любимый книжный цикл, ведь на русском его не планируют до конца издавать.б) Рецензии, не так сложно и писать оказывается. Всего лишь нужно их опубликовать 15 штук, да и 10 лайков на каждой набрать. А основные правила - это не спойлерить и не оскорблять никого. Да и с помощью рецензий книга в голове легче усваивается. Ответы кроются в действиях, а не в размышленияхВывод Книга мне понравилась. Да, кто знаком с жанром нон-фикшн вряд ли найдет что-то интересное здесь. Здесь очень много всем понятных истин. Но мне это и надо было. Для меня книга - это сборник саморазвития. Здесь я освежил память на многие вещи, и почерпнул новые убеждения. А поспособствовал этому лёгкий слог автора. Мне реально было интересно читать этот нон-фикшн. Информация подавалась не сухо, как обычно, бывает в жанре. Поэтому скучать мне не приходилось. Это отличная книга для тех, кто мало читал книги по саморазвитию, или хочет быстро почерпнуть отсюда распространенные истины.,\n",
            " Дата: 2022-11-02T17:14:00.000000,\n",
            " Оценка: 5,\n",
            " Ссылка: https://mybook.ru/author/dzhen-sinsero-2/ni-sy-vostochnaya-mudrost-kotoraya-glasit-bud-uver/reviews/18052098/,\n",
            " Имя: Arinushk\n"
          ]
        }
      ]
    },
    {
      "cell_type": "code",
      "source": [
        "len(reviews)"
      ],
      "metadata": {
        "colab": {
          "base_uri": "https://localhost:8080/"
        },
        "id": "5C60Kb3VJ2SL",
        "outputId": "7e8c864e-bef5-413d-b709-e4bafdcbed83"
      },
      "execution_count": null,
      "outputs": [
        {
          "output_type": "execute_result",
          "data": {
            "text/plain": [
              "10"
            ]
          },
          "metadata": {},
          "execution_count": 11
        }
      ]
    },
    {
      "cell_type": "code",
      "source": [
        "for i in range(len(reviews)):\n",
        "\n",
        "  name = reviews[i]['user']['display_name']\n",
        "  comment = reviews[i]['comment_plain']\n",
        "  date = reviews[i]['submit_date']\n",
        "  rating = reviews[i]['book_rating']\n",
        "  share_url = reviews[i]['share_url']\n",
        "  print(f'Комментарий: {comment},\\n Дата: {date},\\n Оценка: {rating},\\n Ссылка: {share_url},\\n Имя: {name}')"
      ],
      "metadata": {
        "id": "oal37FSMNgO-"
      },
      "execution_count": null,
      "outputs": []
    },
    {
      "cell_type": "code",
      "source": [
        "def getPageLinks(page_number):\n",
        "    page_links = \"https://mybook.ru/author/dzhen-sinsero-2/ni-sy-vostochnaya-mudrost-kotoraya-glasit-bud-uver/reviews/?page={}\".format(page_number)#составили ссылку на стр поиска\n",
        "    #запрашиваем данные по странице\n",
        "    response = get(page_link)\n",
        "    #получаем содержимое страницы\n",
        "    html = response.content\n",
        "    soup = BeautifulSoup(html,\"html.parser\")\n",
        "    script = soup.find('script', {'id':'__NEXT_DATA__'})\n",
        "\n",
        "    for i in range(len(reviews)):\n",
        "      name = reviews[i]['user']['display_name']\n",
        "      comment = reviews[i]['comment_plain']\n",
        "      date = reviews[i]['submit_date']\n",
        "      rating = reviews[i]['book_rating']\n",
        "      share_url = reviews[i]['share_url']\n",
        "\n",
        "    return name, comment, date, rating, share_url"
      ],
      "metadata": {
        "id": "Rqm2AdjaPAbU"
      },
      "execution_count": null,
      "outputs": []
    },
    {
      "cell_type": "code",
      "source": [
        "def getName(reviews):\n",
        "\n",
        "  Name = []\n",
        "  for i in range(len(reviews)):\n",
        "      name = reviews[i]['user']['display_name']\n",
        "      Name.append(name)\n",
        "  return Name"
      ],
      "metadata": {
        "id": "qgLwNCfcQURG"
      },
      "execution_count": null,
      "outputs": []
    },
    {
      "cell_type": "code",
      "source": [
        "def getComment(reviews):\n",
        "\n",
        "  Comment = []\n",
        "  for i in range(len(reviews)):\n",
        "      name = reviews[i]['comment_plain']\n",
        "      Comment.append(name)\n",
        "  return Comment"
      ],
      "metadata": {
        "id": "0ybp9vKCSetQ"
      },
      "execution_count": null,
      "outputs": []
    },
    {
      "cell_type": "code",
      "source": [
        "def getDate(reviews):\n",
        "\n",
        "  Date = []\n",
        "  for i in range(len(reviews)):\n",
        "      name = reviews[i]['submit_date']\n",
        "      Date.append(name)\n",
        "  return Date"
      ],
      "metadata": {
        "id": "3l-ZsIf8TEBu"
      },
      "execution_count": null,
      "outputs": []
    },
    {
      "cell_type": "code",
      "source": [
        "def getRating(reviews):\n",
        "\n",
        "  Rating = []\n",
        "  for i in range(len(reviews)):\n",
        "      name = reviews[i]['book_rating']\n",
        "      Rating.append(name)\n",
        "  return Rating"
      ],
      "metadata": {
        "id": "VigyogbJTYJw"
      },
      "execution_count": null,
      "outputs": []
    },
    {
      "cell_type": "code",
      "source": [
        "def getShare_url(reviews):\n",
        "\n",
        "  Share_url = []\n",
        "  for i in range(len(reviews)):\n",
        "      name = reviews[i]['share_url']\n",
        "      Share_url.append(name)\n",
        "  return Share_url"
      ],
      "metadata": {
        "id": "bIcHqW-QTqlh"
      },
      "execution_count": null,
      "outputs": []
    },
    {
      "cell_type": "code",
      "source": [
        "def getPaperData(page_link):\n",
        "    response = get(page_link)\n",
        "    html = response.content\n",
        "    soup = BeautifulSoup(html,\"html.parser\")\n",
        "    script = soup.find('script', {'id':'__NEXT_DATA__'})\n",
        "    data = json.loads(script.text)\n",
        "    props = data['props']\n",
        "    initialProps = props['initialProps']\n",
        "    pageProps = initialProps['pageProps']\n",
        "    reviews = pageProps['reviews']\n",
        "    #Используем ранее написанные функции\n",
        "    names = getName(reviews)\n",
        "    comments = getComment(reviews)\n",
        "    dates = getDate(reviews)\n",
        "    ratings = getRating(reviews)\n",
        "    share_urls = getShare_url(reviews)\n",
        "\n",
        "    #Составляем словарь\n",
        "    data_row = []\n",
        "    for i in range(len(reviews)):\n",
        "      Data_row = {'Имя': names[i], 'Коммент': comments[i], 'Дата':dates[i],\n",
        "                  'Рейтинг': ratings[i], 'Ссылка': share_urls[i]}\n",
        "      data_row.append(Data_row)\n",
        "    return  data_row"
      ],
      "metadata": {
        "id": "cQgYKMoYccCj"
      },
      "execution_count": null,
      "outputs": []
    },
    {
      "cell_type": "code",
      "source": [
        "data_row = getPaperData(getPageLinks(2))\n",
        "data_row"
      ],
      "metadata": {
        "id": "udigh8XjW7WB"
      },
      "execution_count": null,
      "outputs": []
    },
    {
      "cell_type": "code",
      "source": [
        "final_df = pd.DataFrame(columns=['Имя', 'Коммент',\n",
        "               'Дата', 'Рейтинг', 'Ссылка'])"
      ],
      "metadata": {
        "id": "NNH0zqdSXoHw"
      },
      "execution_count": null,
      "outputs": []
    },
    {
      "cell_type": "code",
      "source": [
        "final_df = final_df.append(data_row, ignore_index=True)"
      ],
      "metadata": {
        "colab": {
          "base_uri": "https://localhost:8080/"
        },
        "id": "iYxzZyRyXwGf",
        "outputId": "664c0766-6416-4c5f-9436-1968bcfc0bd3"
      },
      "execution_count": null,
      "outputs": [
        {
          "output_type": "stream",
          "name": "stderr",
          "text": [
            "<ipython-input-226-d7ed244fc475>:1: FutureWarning: The frame.append method is deprecated and will be removed from pandas in a future version. Use pandas.concat instead.\n",
            "  final_df = final_df.append(data_row, ignore_index=True)\n"
          ]
        }
      ]
    },
    {
      "cell_type": "code",
      "source": [
        "final_df"
      ],
      "metadata": {
        "colab": {
          "base_uri": "https://localhost:8080/",
          "height": 363
        },
        "id": "S_9tCS7pYIRK",
        "outputId": "3a64f334-f830-4c50-dc17-31f9cc6b5f2a"
      },
      "execution_count": null,
      "outputs": [
        {
          "output_type": "execute_result",
          "data": {
            "text/plain": [
              "                    Имя                                            Коммент  \\\n",
              "0  Ангелина Пономаренко  Рекомендую. Коротко о главном. При прочтении с...   \n",
              "1          Андрей Кудин  Я прочел эту книгу по рекомендации сына. Ему с...   \n",
              "2           Kamukaze Si  Если вы больны физически и вам глубоко в душе ...   \n",
              "3    Анонимный читатель  отличная книга, автор с юмором рассказывает о ...   \n",
              "4       Евгения Иванова  Спасибо, за такую чудесную книгу! Она меня вдо...   \n",
              "5        Алёна Смирнова  Это моя первая мотивационная книга, она очень ...   \n",
              "6    Анонимный читатель  В первый раз встречаю автора, который сумел по...   \n",
              "7      fak...@gmail.com  Книгу ещё до конца не прочитал,но я уже понима...   \n",
              "8    katiu...@gmail.com  Единственная книга, которую прочитала в электр...   \n",
              "9      shvets....@bk.ru  Определённо рекомендую! Сразу после выхода кни...   \n",
              "\n",
              "                         Дата Рейтинг  \\\n",
              "0  2022-07-28T13:02:05.774317       5   \n",
              "1  2023-04-07T05:44:18.000000       5   \n",
              "2  2023-02-08T16:17:50.000000       5   \n",
              "3  2022-07-22T09:09:36.000000       5   \n",
              "4  2022-05-18T21:32:13.000000       5   \n",
              "5  2022-12-12T19:55:30.000000       5   \n",
              "6  2018-05-04T23:07:08.455662       5   \n",
              "7  2023-03-19T23:30:48.875490       5   \n",
              "8  2019-03-25T00:04:04.010201       5   \n",
              "9  2022-11-15T22:21:26.158823       5   \n",
              "\n",
              "                                              Ссылка  \n",
              "0  https://mybook.ru/author/dzhen-sinsero-2/ni-sy...  \n",
              "1  https://mybook.ru/author/dzhen-sinsero-2/ni-sy...  \n",
              "2  https://mybook.ru/author/dzhen-sinsero-2/ni-sy...  \n",
              "3  https://mybook.ru/author/dzhen-sinsero-2/ni-sy...  \n",
              "4  https://mybook.ru/author/dzhen-sinsero-2/ni-sy...  \n",
              "5  https://mybook.ru/author/dzhen-sinsero-2/ni-sy...  \n",
              "6  https://mybook.ru/author/dzhen-sinsero-2/ni-sy...  \n",
              "7  https://mybook.ru/author/dzhen-sinsero-2/ni-sy...  \n",
              "8  https://mybook.ru/author/dzhen-sinsero-2/ni-sy...  \n",
              "9  https://mybook.ru/author/dzhen-sinsero-2/ni-sy...  "
            ],
            "text/html": [
              "\n",
              "  <div id=\"df-8b9403ca-eca4-47a6-9f4f-e588600b6c8c\">\n",
              "    <div class=\"colab-df-container\">\n",
              "      <div>\n",
              "<style scoped>\n",
              "    .dataframe tbody tr th:only-of-type {\n",
              "        vertical-align: middle;\n",
              "    }\n",
              "\n",
              "    .dataframe tbody tr th {\n",
              "        vertical-align: top;\n",
              "    }\n",
              "\n",
              "    .dataframe thead th {\n",
              "        text-align: right;\n",
              "    }\n",
              "</style>\n",
              "<table border=\"1\" class=\"dataframe\">\n",
              "  <thead>\n",
              "    <tr style=\"text-align: right;\">\n",
              "      <th></th>\n",
              "      <th>Имя</th>\n",
              "      <th>Коммент</th>\n",
              "      <th>Дата</th>\n",
              "      <th>Рейтинг</th>\n",
              "      <th>Ссылка</th>\n",
              "    </tr>\n",
              "  </thead>\n",
              "  <tbody>\n",
              "    <tr>\n",
              "      <th>0</th>\n",
              "      <td>Ангелина Пономаренко</td>\n",
              "      <td>Рекомендую. Коротко о главном. При прочтении с...</td>\n",
              "      <td>2022-07-28T13:02:05.774317</td>\n",
              "      <td>5</td>\n",
              "      <td>https://mybook.ru/author/dzhen-sinsero-2/ni-sy...</td>\n",
              "    </tr>\n",
              "    <tr>\n",
              "      <th>1</th>\n",
              "      <td>Андрей Кудин</td>\n",
              "      <td>Я прочел эту книгу по рекомендации сына. Ему с...</td>\n",
              "      <td>2023-04-07T05:44:18.000000</td>\n",
              "      <td>5</td>\n",
              "      <td>https://mybook.ru/author/dzhen-sinsero-2/ni-sy...</td>\n",
              "    </tr>\n",
              "    <tr>\n",
              "      <th>2</th>\n",
              "      <td>Kamukaze Si</td>\n",
              "      <td>Если вы больны физически и вам глубоко в душе ...</td>\n",
              "      <td>2023-02-08T16:17:50.000000</td>\n",
              "      <td>5</td>\n",
              "      <td>https://mybook.ru/author/dzhen-sinsero-2/ni-sy...</td>\n",
              "    </tr>\n",
              "    <tr>\n",
              "      <th>3</th>\n",
              "      <td>Анонимный читатель</td>\n",
              "      <td>отличная книга, автор с юмором рассказывает о ...</td>\n",
              "      <td>2022-07-22T09:09:36.000000</td>\n",
              "      <td>5</td>\n",
              "      <td>https://mybook.ru/author/dzhen-sinsero-2/ni-sy...</td>\n",
              "    </tr>\n",
              "    <tr>\n",
              "      <th>4</th>\n",
              "      <td>Евгения Иванова</td>\n",
              "      <td>Спасибо, за такую чудесную книгу! Она меня вдо...</td>\n",
              "      <td>2022-05-18T21:32:13.000000</td>\n",
              "      <td>5</td>\n",
              "      <td>https://mybook.ru/author/dzhen-sinsero-2/ni-sy...</td>\n",
              "    </tr>\n",
              "    <tr>\n",
              "      <th>5</th>\n",
              "      <td>Алёна Смирнова</td>\n",
              "      <td>Это моя первая мотивационная книга, она очень ...</td>\n",
              "      <td>2022-12-12T19:55:30.000000</td>\n",
              "      <td>5</td>\n",
              "      <td>https://mybook.ru/author/dzhen-sinsero-2/ni-sy...</td>\n",
              "    </tr>\n",
              "    <tr>\n",
              "      <th>6</th>\n",
              "      <td>Анонимный читатель</td>\n",
              "      <td>В первый раз встречаю автора, который сумел по...</td>\n",
              "      <td>2018-05-04T23:07:08.455662</td>\n",
              "      <td>5</td>\n",
              "      <td>https://mybook.ru/author/dzhen-sinsero-2/ni-sy...</td>\n",
              "    </tr>\n",
              "    <tr>\n",
              "      <th>7</th>\n",
              "      <td>fak...@gmail.com</td>\n",
              "      <td>Книгу ещё до конца не прочитал,но я уже понима...</td>\n",
              "      <td>2023-03-19T23:30:48.875490</td>\n",
              "      <td>5</td>\n",
              "      <td>https://mybook.ru/author/dzhen-sinsero-2/ni-sy...</td>\n",
              "    </tr>\n",
              "    <tr>\n",
              "      <th>8</th>\n",
              "      <td>katiu...@gmail.com</td>\n",
              "      <td>Единственная книга, которую прочитала в электр...</td>\n",
              "      <td>2019-03-25T00:04:04.010201</td>\n",
              "      <td>5</td>\n",
              "      <td>https://mybook.ru/author/dzhen-sinsero-2/ni-sy...</td>\n",
              "    </tr>\n",
              "    <tr>\n",
              "      <th>9</th>\n",
              "      <td>shvets....@bk.ru</td>\n",
              "      <td>Определённо рекомендую! Сразу после выхода кни...</td>\n",
              "      <td>2022-11-15T22:21:26.158823</td>\n",
              "      <td>5</td>\n",
              "      <td>https://mybook.ru/author/dzhen-sinsero-2/ni-sy...</td>\n",
              "    </tr>\n",
              "  </tbody>\n",
              "</table>\n",
              "</div>\n",
              "      <button class=\"colab-df-convert\" onclick=\"convertToInteractive('df-8b9403ca-eca4-47a6-9f4f-e588600b6c8c')\"\n",
              "              title=\"Convert this dataframe to an interactive table.\"\n",
              "              style=\"display:none;\">\n",
              "        \n",
              "  <svg xmlns=\"http://www.w3.org/2000/svg\" height=\"24px\"viewBox=\"0 0 24 24\"\n",
              "       width=\"24px\">\n",
              "    <path d=\"M0 0h24v24H0V0z\" fill=\"none\"/>\n",
              "    <path d=\"M18.56 5.44l.94 2.06.94-2.06 2.06-.94-2.06-.94-.94-2.06-.94 2.06-2.06.94zm-11 1L8.5 8.5l.94-2.06 2.06-.94-2.06-.94L8.5 2.5l-.94 2.06-2.06.94zm10 10l.94 2.06.94-2.06 2.06-.94-2.06-.94-.94-2.06-.94 2.06-2.06.94z\"/><path d=\"M17.41 7.96l-1.37-1.37c-.4-.4-.92-.59-1.43-.59-.52 0-1.04.2-1.43.59L10.3 9.45l-7.72 7.72c-.78.78-.78 2.05 0 2.83L4 21.41c.39.39.9.59 1.41.59.51 0 1.02-.2 1.41-.59l7.78-7.78 2.81-2.81c.8-.78.8-2.07 0-2.86zM5.41 20L4 18.59l7.72-7.72 1.47 1.35L5.41 20z\"/>\n",
              "  </svg>\n",
              "      </button>\n",
              "      \n",
              "  <style>\n",
              "    .colab-df-container {\n",
              "      display:flex;\n",
              "      flex-wrap:wrap;\n",
              "      gap: 12px;\n",
              "    }\n",
              "\n",
              "    .colab-df-convert {\n",
              "      background-color: #E8F0FE;\n",
              "      border: none;\n",
              "      border-radius: 50%;\n",
              "      cursor: pointer;\n",
              "      display: none;\n",
              "      fill: #1967D2;\n",
              "      height: 32px;\n",
              "      padding: 0 0 0 0;\n",
              "      width: 32px;\n",
              "    }\n",
              "\n",
              "    .colab-df-convert:hover {\n",
              "      background-color: #E2EBFA;\n",
              "      box-shadow: 0px 1px 2px rgba(60, 64, 67, 0.3), 0px 1px 3px 1px rgba(60, 64, 67, 0.15);\n",
              "      fill: #174EA6;\n",
              "    }\n",
              "\n",
              "    [theme=dark] .colab-df-convert {\n",
              "      background-color: #3B4455;\n",
              "      fill: #D2E3FC;\n",
              "    }\n",
              "\n",
              "    [theme=dark] .colab-df-convert:hover {\n",
              "      background-color: #434B5C;\n",
              "      box-shadow: 0px 1px 3px 1px rgba(0, 0, 0, 0.15);\n",
              "      filter: drop-shadow(0px 1px 2px rgba(0, 0, 0, 0.3));\n",
              "      fill: #FFFFFF;\n",
              "    }\n",
              "  </style>\n",
              "\n",
              "      <script>\n",
              "        const buttonEl =\n",
              "          document.querySelector('#df-8b9403ca-eca4-47a6-9f4f-e588600b6c8c button.colab-df-convert');\n",
              "        buttonEl.style.display =\n",
              "          google.colab.kernel.accessAllowed ? 'block' : 'none';\n",
              "\n",
              "        async function convertToInteractive(key) {\n",
              "          const element = document.querySelector('#df-8b9403ca-eca4-47a6-9f4f-e588600b6c8c');\n",
              "          const dataTable =\n",
              "            await google.colab.kernel.invokeFunction('convertToInteractive',\n",
              "                                                     [key], {});\n",
              "          if (!dataTable) return;\n",
              "\n",
              "          const docLinkHtml = 'Like what you see? Visit the ' +\n",
              "            '<a target=\"_blank\" href=https://colab.research.google.com/notebooks/data_table.ipynb>data table notebook</a>'\n",
              "            + ' to learn more about interactive tables.';\n",
              "          element.innerHTML = '';\n",
              "          dataTable['output_type'] = 'display_data';\n",
              "          await google.colab.output.renderOutput(dataTable, element);\n",
              "          const docLink = document.createElement('div');\n",
              "          docLink.innerHTML = docLinkHtml;\n",
              "          element.appendChild(docLink);\n",
              "        }\n",
              "      </script>\n",
              "    </div>\n",
              "  </div>\n",
              "  "
            ]
          },
          "metadata": {},
          "execution_count": 227
        }
      ]
    },
    {
      "cell_type": "code",
      "source": [
        "def getPageLinks(page_number):\n",
        "    page_links = \"https://mybook.ru/author/dzhen-sinsero-2/ni-sy-vostochnaya-mudrost-kotoraya-glasit-bud-uver/reviews/?page={}\".format(page_number)#составили ссылку на стр поиска\n",
        "\n",
        "    return page_links\n",
        "    time.sleep(120)"
      ],
      "metadata": {
        "id": "9T3VTlA-T5sf"
      },
      "execution_count": null,
      "outputs": []
    },
    {
      "cell_type": "code",
      "source": [
        "getPageLinks(2)"
      ],
      "metadata": {
        "colab": {
          "base_uri": "https://localhost:8080/",
          "height": 36
        },
        "id": "oB6cbwrdt-D7",
        "outputId": "f14f0f17-06db-449c-bd89-496c7e5b46b4"
      },
      "execution_count": null,
      "outputs": [
        {
          "output_type": "execute_result",
          "data": {
            "text/plain": [
              "'https://mybook.ru/author/dzhen-sinsero-2/ni-sy-vostochnaya-mudrost-kotoraya-glasit-bud-uver/reviews/?page=2'"
            ],
            "application/vnd.google.colaboratory.intrinsic+json": {
              "type": "string"
            }
          },
          "metadata": {},
          "execution_count": 197
        }
      ]
    },
    {
      "cell_type": "code",
      "source": [
        "final_df = pd.DataFrame(columns=['Имя', 'Коммент',\n",
        "                                 'Дата', 'Рейтинг', 'Ссылка'])\n",
        "paper_links = []\n",
        "for page_number in range(1, 25):\n",
        "    paper_linkse = getPageLinks(page_number)\n",
        "    paper_links.append(paper_linkse)\n",
        "paper_links"
      ],
      "metadata": {
        "colab": {
          "base_uri": "https://localhost:8080/"
        },
        "id": "s-Y6Uth6yXTZ",
        "outputId": "a2431b45-e830-4485-8e6f-00c68ed7a5d4"
      },
      "execution_count": null,
      "outputs": [
        {
          "output_type": "execute_result",
          "data": {
            "text/plain": [
              "['https://mybook.ru/author/dzhen-sinsero-2/ni-sy-vostochnaya-mudrost-kotoraya-glasit-bud-uver/reviews/?page=1',\n",
              " 'https://mybook.ru/author/dzhen-sinsero-2/ni-sy-vostochnaya-mudrost-kotoraya-glasit-bud-uver/reviews/?page=2',\n",
              " 'https://mybook.ru/author/dzhen-sinsero-2/ni-sy-vostochnaya-mudrost-kotoraya-glasit-bud-uver/reviews/?page=3',\n",
              " 'https://mybook.ru/author/dzhen-sinsero-2/ni-sy-vostochnaya-mudrost-kotoraya-glasit-bud-uver/reviews/?page=4',\n",
              " 'https://mybook.ru/author/dzhen-sinsero-2/ni-sy-vostochnaya-mudrost-kotoraya-glasit-bud-uver/reviews/?page=5',\n",
              " 'https://mybook.ru/author/dzhen-sinsero-2/ni-sy-vostochnaya-mudrost-kotoraya-glasit-bud-uver/reviews/?page=6',\n",
              " 'https://mybook.ru/author/dzhen-sinsero-2/ni-sy-vostochnaya-mudrost-kotoraya-glasit-bud-uver/reviews/?page=7',\n",
              " 'https://mybook.ru/author/dzhen-sinsero-2/ni-sy-vostochnaya-mudrost-kotoraya-glasit-bud-uver/reviews/?page=8',\n",
              " 'https://mybook.ru/author/dzhen-sinsero-2/ni-sy-vostochnaya-mudrost-kotoraya-glasit-bud-uver/reviews/?page=9',\n",
              " 'https://mybook.ru/author/dzhen-sinsero-2/ni-sy-vostochnaya-mudrost-kotoraya-glasit-bud-uver/reviews/?page=10',\n",
              " 'https://mybook.ru/author/dzhen-sinsero-2/ni-sy-vostochnaya-mudrost-kotoraya-glasit-bud-uver/reviews/?page=11',\n",
              " 'https://mybook.ru/author/dzhen-sinsero-2/ni-sy-vostochnaya-mudrost-kotoraya-glasit-bud-uver/reviews/?page=12',\n",
              " 'https://mybook.ru/author/dzhen-sinsero-2/ni-sy-vostochnaya-mudrost-kotoraya-glasit-bud-uver/reviews/?page=13',\n",
              " 'https://mybook.ru/author/dzhen-sinsero-2/ni-sy-vostochnaya-mudrost-kotoraya-glasit-bud-uver/reviews/?page=14',\n",
              " 'https://mybook.ru/author/dzhen-sinsero-2/ni-sy-vostochnaya-mudrost-kotoraya-glasit-bud-uver/reviews/?page=15',\n",
              " 'https://mybook.ru/author/dzhen-sinsero-2/ni-sy-vostochnaya-mudrost-kotoraya-glasit-bud-uver/reviews/?page=16',\n",
              " 'https://mybook.ru/author/dzhen-sinsero-2/ni-sy-vostochnaya-mudrost-kotoraya-glasit-bud-uver/reviews/?page=17',\n",
              " 'https://mybook.ru/author/dzhen-sinsero-2/ni-sy-vostochnaya-mudrost-kotoraya-glasit-bud-uver/reviews/?page=18',\n",
              " 'https://mybook.ru/author/dzhen-sinsero-2/ni-sy-vostochnaya-mudrost-kotoraya-glasit-bud-uver/reviews/?page=19',\n",
              " 'https://mybook.ru/author/dzhen-sinsero-2/ni-sy-vostochnaya-mudrost-kotoraya-glasit-bud-uver/reviews/?page=20',\n",
              " 'https://mybook.ru/author/dzhen-sinsero-2/ni-sy-vostochnaya-mudrost-kotoraya-glasit-bud-uver/reviews/?page=21',\n",
              " 'https://mybook.ru/author/dzhen-sinsero-2/ni-sy-vostochnaya-mudrost-kotoraya-glasit-bud-uver/reviews/?page=22',\n",
              " 'https://mybook.ru/author/dzhen-sinsero-2/ni-sy-vostochnaya-mudrost-kotoraya-glasit-bud-uver/reviews/?page=23',\n",
              " 'https://mybook.ru/author/dzhen-sinsero-2/ni-sy-vostochnaya-mudrost-kotoraya-glasit-bud-uver/reviews/?page=24']"
            ]
          },
          "metadata": {},
          "execution_count": 237
        }
      ]
    },
    {
      "cell_type": "code",
      "source": [
        "final_df = pd.DataFrame(columns=['Имя', 'Комментарий',\n",
        "                                 'Дата', 'Рейтинг', 'Ссылка'])\n",
        "for i in paper_links:\n",
        "  data_row = getPaperData(i)\n",
        "  final_df = final_df.append(data_row, ignore_index=True)\n",
        "  time.sleep(30)\n"
      ],
      "metadata": {
        "colab": {
          "base_uri": "https://localhost:8080/"
        },
        "id": "bfgg6Z08v04Y",
        "outputId": "02c7504e-04ed-4c61-d60a-4c14c2ade74d"
      },
      "execution_count": null,
      "outputs": [
        {
          "output_type": "stream",
          "name": "stderr",
          "text": [
            "<ipython-input-242-f7485c996722>:5: FutureWarning: The frame.append method is deprecated and will be removed from pandas in a future version. Use pandas.concat instead.\n",
            "  final_df = final_df.append(data_row, ignore_index=True)\n",
            "<ipython-input-242-f7485c996722>:5: FutureWarning: The frame.append method is deprecated and will be removed from pandas in a future version. Use pandas.concat instead.\n",
            "  final_df = final_df.append(data_row, ignore_index=True)\n",
            "<ipython-input-242-f7485c996722>:5: FutureWarning: The frame.append method is deprecated and will be removed from pandas in a future version. Use pandas.concat instead.\n",
            "  final_df = final_df.append(data_row, ignore_index=True)\n",
            "<ipython-input-242-f7485c996722>:5: FutureWarning: The frame.append method is deprecated and will be removed from pandas in a future version. Use pandas.concat instead.\n",
            "  final_df = final_df.append(data_row, ignore_index=True)\n",
            "<ipython-input-242-f7485c996722>:5: FutureWarning: The frame.append method is deprecated and will be removed from pandas in a future version. Use pandas.concat instead.\n",
            "  final_df = final_df.append(data_row, ignore_index=True)\n",
            "<ipython-input-242-f7485c996722>:5: FutureWarning: The frame.append method is deprecated and will be removed from pandas in a future version. Use pandas.concat instead.\n",
            "  final_df = final_df.append(data_row, ignore_index=True)\n",
            "<ipython-input-242-f7485c996722>:5: FutureWarning: The frame.append method is deprecated and will be removed from pandas in a future version. Use pandas.concat instead.\n",
            "  final_df = final_df.append(data_row, ignore_index=True)\n",
            "<ipython-input-242-f7485c996722>:5: FutureWarning: The frame.append method is deprecated and will be removed from pandas in a future version. Use pandas.concat instead.\n",
            "  final_df = final_df.append(data_row, ignore_index=True)\n",
            "<ipython-input-242-f7485c996722>:5: FutureWarning: The frame.append method is deprecated and will be removed from pandas in a future version. Use pandas.concat instead.\n",
            "  final_df = final_df.append(data_row, ignore_index=True)\n",
            "<ipython-input-242-f7485c996722>:5: FutureWarning: The frame.append method is deprecated and will be removed from pandas in a future version. Use pandas.concat instead.\n",
            "  final_df = final_df.append(data_row, ignore_index=True)\n",
            "<ipython-input-242-f7485c996722>:5: FutureWarning: The frame.append method is deprecated and will be removed from pandas in a future version. Use pandas.concat instead.\n",
            "  final_df = final_df.append(data_row, ignore_index=True)\n",
            "<ipython-input-242-f7485c996722>:5: FutureWarning: The frame.append method is deprecated and will be removed from pandas in a future version. Use pandas.concat instead.\n",
            "  final_df = final_df.append(data_row, ignore_index=True)\n",
            "<ipython-input-242-f7485c996722>:5: FutureWarning: The frame.append method is deprecated and will be removed from pandas in a future version. Use pandas.concat instead.\n",
            "  final_df = final_df.append(data_row, ignore_index=True)\n",
            "<ipython-input-242-f7485c996722>:5: FutureWarning: The frame.append method is deprecated and will be removed from pandas in a future version. Use pandas.concat instead.\n",
            "  final_df = final_df.append(data_row, ignore_index=True)\n",
            "<ipython-input-242-f7485c996722>:5: FutureWarning: The frame.append method is deprecated and will be removed from pandas in a future version. Use pandas.concat instead.\n",
            "  final_df = final_df.append(data_row, ignore_index=True)\n",
            "<ipython-input-242-f7485c996722>:5: FutureWarning: The frame.append method is deprecated and will be removed from pandas in a future version. Use pandas.concat instead.\n",
            "  final_df = final_df.append(data_row, ignore_index=True)\n",
            "<ipython-input-242-f7485c996722>:5: FutureWarning: The frame.append method is deprecated and will be removed from pandas in a future version. Use pandas.concat instead.\n",
            "  final_df = final_df.append(data_row, ignore_index=True)\n",
            "<ipython-input-242-f7485c996722>:5: FutureWarning: The frame.append method is deprecated and will be removed from pandas in a future version. Use pandas.concat instead.\n",
            "  final_df = final_df.append(data_row, ignore_index=True)\n",
            "<ipython-input-242-f7485c996722>:5: FutureWarning: The frame.append method is deprecated and will be removed from pandas in a future version. Use pandas.concat instead.\n",
            "  final_df = final_df.append(data_row, ignore_index=True)\n",
            "<ipython-input-242-f7485c996722>:5: FutureWarning: The frame.append method is deprecated and will be removed from pandas in a future version. Use pandas.concat instead.\n",
            "  final_df = final_df.append(data_row, ignore_index=True)\n",
            "<ipython-input-242-f7485c996722>:5: FutureWarning: The frame.append method is deprecated and will be removed from pandas in a future version. Use pandas.concat instead.\n",
            "  final_df = final_df.append(data_row, ignore_index=True)\n",
            "<ipython-input-242-f7485c996722>:5: FutureWarning: The frame.append method is deprecated and will be removed from pandas in a future version. Use pandas.concat instead.\n",
            "  final_df = final_df.append(data_row, ignore_index=True)\n",
            "<ipython-input-242-f7485c996722>:5: FutureWarning: The frame.append method is deprecated and will be removed from pandas in a future version. Use pandas.concat instead.\n",
            "  final_df = final_df.append(data_row, ignore_index=True)\n",
            "<ipython-input-242-f7485c996722>:5: FutureWarning: The frame.append method is deprecated and will be removed from pandas in a future version. Use pandas.concat instead.\n",
            "  final_df = final_df.append(data_row, ignore_index=True)\n"
          ]
        }
      ]
    },
    {
      "cell_type": "code",
      "source": [
        "final_df.shape"
      ],
      "metadata": {
        "id": "Wj0iy_rXgnCF",
        "colab": {
          "base_uri": "https://localhost:8080/"
        },
        "outputId": "91128410-a803-42ae-f5cd-d318d37ecd44"
      },
      "execution_count": null,
      "outputs": [
        {
          "output_type": "execute_result",
          "data": {
            "text/plain": [
              "(235, 5)"
            ]
          },
          "metadata": {},
          "execution_count": 243
        }
      ]
    },
    {
      "cell_type": "code",
      "source": [
        "final_df"
      ],
      "metadata": {
        "colab": {
          "base_uri": "https://localhost:8080/",
          "height": 423
        },
        "id": "7nJfl7RNzwcy",
        "outputId": "9a6d249d-878d-4d03-8f13-c00d01c43db0"
      },
      "execution_count": null,
      "outputs": [
        {
          "output_type": "execute_result",
          "data": {
            "text/plain": [
              "                     Имя                                            Коммент  \\\n",
              "0      Anastasia_Markova  Произведение состоит из нескольких глав, в каж...   \n",
              "1               Arinushk  Введение Бестселлер, популярнейшая книга, силь...   \n",
              "2                 Vemnos  Книга на твердую четверку.Она помогает, она ле...   \n",
              "3                  vampi  Это книга, как и все книги по поиску себя, гов...   \n",
              "4              Iren-hell  В общем я не знаю, кого она и на что замотивир...   \n",
              "..                   ...                                                ...   \n",
              "230  innape...@gmail.com  Избитые мысли, самые известные цитаты. Не моти...   \n",
              "231  Ольга Каргапольцева  Очень интересный подход, все гениальное просто...   \n",
              "232                Артем                                     Полнейший шлак   \n",
              "233         Богдан Линок                                            Туфта👎🏻   \n",
              "234       Konul Kangarli                                           😖 boring   \n",
              "\n",
              "                           Дата Рейтинг  \\\n",
              "0    2019-10-28T21:20:00.000000       4   \n",
              "1    2022-11-02T17:14:00.000000       5   \n",
              "2    2019-08-09T18:48:00.000000       4   \n",
              "3    2020-05-04T16:03:00.000000       3   \n",
              "4    2021-11-03T13:28:00.000000       2   \n",
              "..                          ...     ...   \n",
              "230  2018-10-28T21:39:10.680616       1   \n",
              "231  2021-12-14T09:47:33.708593       1   \n",
              "232  2020-03-22T19:22:18.838221       1   \n",
              "233  2022-07-21T00:29:03.515693       1   \n",
              "234  2021-09-14T16:10:24.797558       1   \n",
              "\n",
              "                                                Ссылка  \n",
              "0    https://mybook.ru/author/dzhen-sinsero-2/ni-sy...  \n",
              "1    https://mybook.ru/author/dzhen-sinsero-2/ni-sy...  \n",
              "2    https://mybook.ru/author/dzhen-sinsero-2/ni-sy...  \n",
              "3    https://mybook.ru/author/dzhen-sinsero-2/ni-sy...  \n",
              "4    https://mybook.ru/author/dzhen-sinsero-2/ni-sy...  \n",
              "..                                                 ...  \n",
              "230  https://mybook.ru/author/dzhen-sinsero-2/ni-sy...  \n",
              "231  https://mybook.ru/author/dzhen-sinsero-2/ni-sy...  \n",
              "232  https://mybook.ru/author/dzhen-sinsero-2/ni-sy...  \n",
              "233  https://mybook.ru/author/dzhen-sinsero-2/ni-sy...  \n",
              "234  https://mybook.ru/author/dzhen-sinsero-2/ni-sy...  \n",
              "\n",
              "[235 rows x 5 columns]"
            ],
            "text/html": [
              "\n",
              "  <div id=\"df-94363218-2112-4309-99dd-2a1ecda3c3e2\">\n",
              "    <div class=\"colab-df-container\">\n",
              "      <div>\n",
              "<style scoped>\n",
              "    .dataframe tbody tr th:only-of-type {\n",
              "        vertical-align: middle;\n",
              "    }\n",
              "\n",
              "    .dataframe tbody tr th {\n",
              "        vertical-align: top;\n",
              "    }\n",
              "\n",
              "    .dataframe thead th {\n",
              "        text-align: right;\n",
              "    }\n",
              "</style>\n",
              "<table border=\"1\" class=\"dataframe\">\n",
              "  <thead>\n",
              "    <tr style=\"text-align: right;\">\n",
              "      <th></th>\n",
              "      <th>Имя</th>\n",
              "      <th>Коммент</th>\n",
              "      <th>Дата</th>\n",
              "      <th>Рейтинг</th>\n",
              "      <th>Ссылка</th>\n",
              "    </tr>\n",
              "  </thead>\n",
              "  <tbody>\n",
              "    <tr>\n",
              "      <th>0</th>\n",
              "      <td>Anastasia_Markova</td>\n",
              "      <td>Произведение состоит из нескольких глав, в каж...</td>\n",
              "      <td>2019-10-28T21:20:00.000000</td>\n",
              "      <td>4</td>\n",
              "      <td>https://mybook.ru/author/dzhen-sinsero-2/ni-sy...</td>\n",
              "    </tr>\n",
              "    <tr>\n",
              "      <th>1</th>\n",
              "      <td>Arinushk</td>\n",
              "      <td>Введение Бестселлер, популярнейшая книга, силь...</td>\n",
              "      <td>2022-11-02T17:14:00.000000</td>\n",
              "      <td>5</td>\n",
              "      <td>https://mybook.ru/author/dzhen-sinsero-2/ni-sy...</td>\n",
              "    </tr>\n",
              "    <tr>\n",
              "      <th>2</th>\n",
              "      <td>Vemnos</td>\n",
              "      <td>Книга на твердую четверку.Она помогает, она ле...</td>\n",
              "      <td>2019-08-09T18:48:00.000000</td>\n",
              "      <td>4</td>\n",
              "      <td>https://mybook.ru/author/dzhen-sinsero-2/ni-sy...</td>\n",
              "    </tr>\n",
              "    <tr>\n",
              "      <th>3</th>\n",
              "      <td>vampi</td>\n",
              "      <td>Это книга, как и все книги по поиску себя, гов...</td>\n",
              "      <td>2020-05-04T16:03:00.000000</td>\n",
              "      <td>3</td>\n",
              "      <td>https://mybook.ru/author/dzhen-sinsero-2/ni-sy...</td>\n",
              "    </tr>\n",
              "    <tr>\n",
              "      <th>4</th>\n",
              "      <td>Iren-hell</td>\n",
              "      <td>В общем я не знаю, кого она и на что замотивир...</td>\n",
              "      <td>2021-11-03T13:28:00.000000</td>\n",
              "      <td>2</td>\n",
              "      <td>https://mybook.ru/author/dzhen-sinsero-2/ni-sy...</td>\n",
              "    </tr>\n",
              "    <tr>\n",
              "      <th>...</th>\n",
              "      <td>...</td>\n",
              "      <td>...</td>\n",
              "      <td>...</td>\n",
              "      <td>...</td>\n",
              "      <td>...</td>\n",
              "    </tr>\n",
              "    <tr>\n",
              "      <th>230</th>\n",
              "      <td>innape...@gmail.com</td>\n",
              "      <td>Избитые мысли, самые известные цитаты. Не моти...</td>\n",
              "      <td>2018-10-28T21:39:10.680616</td>\n",
              "      <td>1</td>\n",
              "      <td>https://mybook.ru/author/dzhen-sinsero-2/ni-sy...</td>\n",
              "    </tr>\n",
              "    <tr>\n",
              "      <th>231</th>\n",
              "      <td>Ольга Каргапольцева</td>\n",
              "      <td>Очень интересный подход, все гениальное просто...</td>\n",
              "      <td>2021-12-14T09:47:33.708593</td>\n",
              "      <td>1</td>\n",
              "      <td>https://mybook.ru/author/dzhen-sinsero-2/ni-sy...</td>\n",
              "    </tr>\n",
              "    <tr>\n",
              "      <th>232</th>\n",
              "      <td>Артем</td>\n",
              "      <td>Полнейший шлак</td>\n",
              "      <td>2020-03-22T19:22:18.838221</td>\n",
              "      <td>1</td>\n",
              "      <td>https://mybook.ru/author/dzhen-sinsero-2/ni-sy...</td>\n",
              "    </tr>\n",
              "    <tr>\n",
              "      <th>233</th>\n",
              "      <td>Богдан Линок</td>\n",
              "      <td>Туфта👎🏻</td>\n",
              "      <td>2022-07-21T00:29:03.515693</td>\n",
              "      <td>1</td>\n",
              "      <td>https://mybook.ru/author/dzhen-sinsero-2/ni-sy...</td>\n",
              "    </tr>\n",
              "    <tr>\n",
              "      <th>234</th>\n",
              "      <td>Konul Kangarli</td>\n",
              "      <td>😖 boring</td>\n",
              "      <td>2021-09-14T16:10:24.797558</td>\n",
              "      <td>1</td>\n",
              "      <td>https://mybook.ru/author/dzhen-sinsero-2/ni-sy...</td>\n",
              "    </tr>\n",
              "  </tbody>\n",
              "</table>\n",
              "<p>235 rows × 5 columns</p>\n",
              "</div>\n",
              "      <button class=\"colab-df-convert\" onclick=\"convertToInteractive('df-94363218-2112-4309-99dd-2a1ecda3c3e2')\"\n",
              "              title=\"Convert this dataframe to an interactive table.\"\n",
              "              style=\"display:none;\">\n",
              "        \n",
              "  <svg xmlns=\"http://www.w3.org/2000/svg\" height=\"24px\"viewBox=\"0 0 24 24\"\n",
              "       width=\"24px\">\n",
              "    <path d=\"M0 0h24v24H0V0z\" fill=\"none\"/>\n",
              "    <path d=\"M18.56 5.44l.94 2.06.94-2.06 2.06-.94-2.06-.94-.94-2.06-.94 2.06-2.06.94zm-11 1L8.5 8.5l.94-2.06 2.06-.94-2.06-.94L8.5 2.5l-.94 2.06-2.06.94zm10 10l.94 2.06.94-2.06 2.06-.94-2.06-.94-.94-2.06-.94 2.06-2.06.94z\"/><path d=\"M17.41 7.96l-1.37-1.37c-.4-.4-.92-.59-1.43-.59-.52 0-1.04.2-1.43.59L10.3 9.45l-7.72 7.72c-.78.78-.78 2.05 0 2.83L4 21.41c.39.39.9.59 1.41.59.51 0 1.02-.2 1.41-.59l7.78-7.78 2.81-2.81c.8-.78.8-2.07 0-2.86zM5.41 20L4 18.59l7.72-7.72 1.47 1.35L5.41 20z\"/>\n",
              "  </svg>\n",
              "      </button>\n",
              "      \n",
              "  <style>\n",
              "    .colab-df-container {\n",
              "      display:flex;\n",
              "      flex-wrap:wrap;\n",
              "      gap: 12px;\n",
              "    }\n",
              "\n",
              "    .colab-df-convert {\n",
              "      background-color: #E8F0FE;\n",
              "      border: none;\n",
              "      border-radius: 50%;\n",
              "      cursor: pointer;\n",
              "      display: none;\n",
              "      fill: #1967D2;\n",
              "      height: 32px;\n",
              "      padding: 0 0 0 0;\n",
              "      width: 32px;\n",
              "    }\n",
              "\n",
              "    .colab-df-convert:hover {\n",
              "      background-color: #E2EBFA;\n",
              "      box-shadow: 0px 1px 2px rgba(60, 64, 67, 0.3), 0px 1px 3px 1px rgba(60, 64, 67, 0.15);\n",
              "      fill: #174EA6;\n",
              "    }\n",
              "\n",
              "    [theme=dark] .colab-df-convert {\n",
              "      background-color: #3B4455;\n",
              "      fill: #D2E3FC;\n",
              "    }\n",
              "\n",
              "    [theme=dark] .colab-df-convert:hover {\n",
              "      background-color: #434B5C;\n",
              "      box-shadow: 0px 1px 3px 1px rgba(0, 0, 0, 0.15);\n",
              "      filter: drop-shadow(0px 1px 2px rgba(0, 0, 0, 0.3));\n",
              "      fill: #FFFFFF;\n",
              "    }\n",
              "  </style>\n",
              "\n",
              "      <script>\n",
              "        const buttonEl =\n",
              "          document.querySelector('#df-94363218-2112-4309-99dd-2a1ecda3c3e2 button.colab-df-convert');\n",
              "        buttonEl.style.display =\n",
              "          google.colab.kernel.accessAllowed ? 'block' : 'none';\n",
              "\n",
              "        async function convertToInteractive(key) {\n",
              "          const element = document.querySelector('#df-94363218-2112-4309-99dd-2a1ecda3c3e2');\n",
              "          const dataTable =\n",
              "            await google.colab.kernel.invokeFunction('convertToInteractive',\n",
              "                                                     [key], {});\n",
              "          if (!dataTable) return;\n",
              "\n",
              "          const docLinkHtml = 'Like what you see? Visit the ' +\n",
              "            '<a target=\"_blank\" href=https://colab.research.google.com/notebooks/data_table.ipynb>data table notebook</a>'\n",
              "            + ' to learn more about interactive tables.';\n",
              "          element.innerHTML = '';\n",
              "          dataTable['output_type'] = 'display_data';\n",
              "          await google.colab.output.renderOutput(dataTable, element);\n",
              "          const docLink = document.createElement('div');\n",
              "          docLink.innerHTML = docLinkHtml;\n",
              "          element.appendChild(docLink);\n",
              "        }\n",
              "      </script>\n",
              "    </div>\n",
              "  </div>\n",
              "  "
            ]
          },
          "metadata": {},
          "execution_count": 244
        }
      ]
    },
    {
      "cell_type": "code",
      "source": [
        "time.sleep(120)"
      ],
      "metadata": {
        "id": "r11il1BiY9eD"
      },
      "execution_count": null,
      "outputs": []
    },
    {
      "cell_type": "markdown",
      "source": [
        "# Предобработка"
      ],
      "metadata": {
        "id": "MojVaKqc5u5s"
      }
    },
    {
      "cell_type": "code",
      "source": [
        "!pip install pymorphy2"
      ],
      "metadata": {
        "colab": {
          "base_uri": "https://localhost:8080/"
        },
        "id": "YS8ZS5wV_VaH",
        "outputId": "fa4a3463-9c2c-4b51-bd8f-78639bc0b3ee"
      },
      "execution_count": null,
      "outputs": [
        {
          "output_type": "stream",
          "name": "stdout",
          "text": [
            "Looking in indexes: https://pypi.org/simple, https://us-python.pkg.dev/colab-wheels/public/simple/\n",
            "Requirement already satisfied: pymorphy2 in /usr/local/lib/python3.10/dist-packages (0.9.1)\n",
            "Requirement already satisfied: dawg-python>=0.7.1 in /usr/local/lib/python3.10/dist-packages (from pymorphy2) (0.7.2)\n",
            "Requirement already satisfied: pymorphy2-dicts-ru<3.0,>=2.4 in /usr/local/lib/python3.10/dist-packages (from pymorphy2) (2.4.417127.4579844)\n",
            "Requirement already satisfied: docopt>=0.6 in /usr/local/lib/python3.10/dist-packages (from pymorphy2) (0.6.2)\n",
            "\u001b[33mWARNING: Running pip as the 'root' user can result in broken permissions and conflicting behaviour with the system package manager. It is recommended to use a virtual environment instead: https://pip.pypa.io/warnings/venv\u001b[0m\u001b[33m\n",
            "\u001b[0m"
          ]
        }
      ]
    },
    {
      "cell_type": "code",
      "source": [
        "!pip install --upgrade ipykernel"
      ],
      "metadata": {
        "id": "wOrklnAJ9Vux"
      },
      "execution_count": null,
      "outputs": []
    },
    {
      "cell_type": "code",
      "source": [
        "import warnings\n",
        "warnings.filterwarnings(\"ignore\", category=DeprecationWarning)"
      ],
      "metadata": {
        "id": "OqrO48-W9lhM"
      },
      "execution_count": null,
      "outputs": []
    },
    {
      "cell_type": "code",
      "source": [
        "import pandas as pd\n",
        "import numpy as np\n",
        "\n",
        "import re\n",
        "import pymorphy2\n",
        "from nltk.tokenize import word_tokenize\n",
        "import nltk\n",
        "nltk.download('stopwords')\n",
        "nltk.download('punkt')\n",
        "nltk.download('snowball_data')\n",
        "nltk.download('perluniprops')\n",
        "nltk.download('universal_tagset')\n",
        "nltk.download('stopwords')\n",
        "nltk.download('nonbreaking_prefixes')\n",
        "nltk.download('wordnet')"
      ],
      "metadata": {
        "id": "N3oFf3ke6KZL",
        "colab": {
          "base_uri": "https://localhost:8080/"
        },
        "outputId": "a244026a-4627-449d-b570-62dee8fe6aee"
      },
      "execution_count": null,
      "outputs": [
        {
          "output_type": "stream",
          "name": "stderr",
          "text": [
            "[nltk_data] Downloading package stopwords to /root/nltk_data...\n",
            "[nltk_data]   Package stopwords is already up-to-date!\n",
            "[nltk_data] Downloading package punkt to /root/nltk_data...\n",
            "[nltk_data]   Package punkt is already up-to-date!\n",
            "[nltk_data] Downloading package snowball_data to /root/nltk_data...\n",
            "[nltk_data]   Package snowball_data is already up-to-date!\n",
            "[nltk_data] Downloading package perluniprops to /root/nltk_data...\n",
            "[nltk_data]   Package perluniprops is already up-to-date!\n",
            "[nltk_data] Downloading package universal_tagset to /root/nltk_data...\n",
            "[nltk_data]   Package universal_tagset is already up-to-date!\n",
            "[nltk_data] Downloading package stopwords to /root/nltk_data...\n",
            "[nltk_data]   Package stopwords is already up-to-date!\n",
            "[nltk_data] Downloading package nonbreaking_prefixes to\n",
            "[nltk_data]     /root/nltk_data...\n",
            "[nltk_data]   Package nonbreaking_prefixes is already up-to-date!\n",
            "[nltk_data] Downloading package wordnet to /root/nltk_data...\n",
            "[nltk_data]   Package wordnet is already up-to-date!\n"
          ]
        },
        {
          "output_type": "execute_result",
          "data": {
            "text/plain": [
              "True"
            ]
          },
          "metadata": {},
          "execution_count": 4
        }
      ]
    },
    {
      "cell_type": "code",
      "source": [
        "from sklearn.feature_extraction.text import CountVectorizer\n",
        "from sklearn.model_selection import train_test_split\n",
        "from sklearn.decomposition import LatentDirichletAllocation\n",
        "import gensim\n",
        "from gensim import corpora, models\n",
        "from ast import literal_eval\n",
        "from gensim.models import *\n",
        "from gensim import corpora"
      ],
      "metadata": {
        "id": "hUwtcFH97e0S"
      },
      "execution_count": null,
      "outputs": []
    },
    {
      "cell_type": "code",
      "source": [
        "from nltk.corpus import stopwords\n",
        "import matplotlib.pyplot as plt\n",
        "import seaborn as sns"
      ],
      "metadata": {
        "id": "WDmBJ_R3Wgw5"
      },
      "execution_count": null,
      "outputs": []
    },
    {
      "cell_type": "code",
      "source": [
        "data = pd.read_csv('final_df.csv')\n",
        "print(data.shape)\n",
        "data.head(5)"
      ],
      "metadata": {
        "id": "7KHJLngp4AMw",
        "colab": {
          "base_uri": "https://localhost:8080/",
          "height": 224
        },
        "outputId": "e1b0f667-2626-4613-ad39-68347263b271"
      },
      "execution_count": null,
      "outputs": [
        {
          "output_type": "stream",
          "name": "stdout",
          "text": [
            "(235, 5)\n"
          ]
        },
        {
          "output_type": "execute_result",
          "data": {
            "text/plain": [
              "                 Имя                                            Коммент  \\\n",
              "0  Anastasia_Markova  Произведение состоит из нескольких глав, в каж...   \n",
              "1           Arinushk  Введение Бестселлер, популярнейшая книга, силь...   \n",
              "2             Vemnos  Книга на твердую четверку.Она помогает, она ле...   \n",
              "3              vampi  Это книга, как и все книги по поиску себя, гов...   \n",
              "4          Iren-hell  В общем я не знаю, кого она и на что замотивир...   \n",
              "\n",
              "                         Дата  Рейтинг  \\\n",
              "0  2019-10-28T21:20:00.000000        4   \n",
              "1  2022-11-02T17:14:00.000000        5   \n",
              "2  2019-08-09T18:48:00.000000        4   \n",
              "3  2020-05-04T16:03:00.000000        3   \n",
              "4  2021-11-03T13:28:00.000000        2   \n",
              "\n",
              "                                              Ссылка  \n",
              "0  https://mybook.ru/author/dzhen-sinsero-2/ni-sy...  \n",
              "1  https://mybook.ru/author/dzhen-sinsero-2/ni-sy...  \n",
              "2  https://mybook.ru/author/dzhen-sinsero-2/ni-sy...  \n",
              "3  https://mybook.ru/author/dzhen-sinsero-2/ni-sy...  \n",
              "4  https://mybook.ru/author/dzhen-sinsero-2/ni-sy...  "
            ],
            "text/html": [
              "\n",
              "  <div id=\"df-2691ac85-7c5c-4567-81a6-15d6187e3185\">\n",
              "    <div class=\"colab-df-container\">\n",
              "      <div>\n",
              "<style scoped>\n",
              "    .dataframe tbody tr th:only-of-type {\n",
              "        vertical-align: middle;\n",
              "    }\n",
              "\n",
              "    .dataframe tbody tr th {\n",
              "        vertical-align: top;\n",
              "    }\n",
              "\n",
              "    .dataframe thead th {\n",
              "        text-align: right;\n",
              "    }\n",
              "</style>\n",
              "<table border=\"1\" class=\"dataframe\">\n",
              "  <thead>\n",
              "    <tr style=\"text-align: right;\">\n",
              "      <th></th>\n",
              "      <th>Имя</th>\n",
              "      <th>Коммент</th>\n",
              "      <th>Дата</th>\n",
              "      <th>Рейтинг</th>\n",
              "      <th>Ссылка</th>\n",
              "    </tr>\n",
              "  </thead>\n",
              "  <tbody>\n",
              "    <tr>\n",
              "      <th>0</th>\n",
              "      <td>Anastasia_Markova</td>\n",
              "      <td>Произведение состоит из нескольких глав, в каж...</td>\n",
              "      <td>2019-10-28T21:20:00.000000</td>\n",
              "      <td>4</td>\n",
              "      <td>https://mybook.ru/author/dzhen-sinsero-2/ni-sy...</td>\n",
              "    </tr>\n",
              "    <tr>\n",
              "      <th>1</th>\n",
              "      <td>Arinushk</td>\n",
              "      <td>Введение Бестселлер, популярнейшая книга, силь...</td>\n",
              "      <td>2022-11-02T17:14:00.000000</td>\n",
              "      <td>5</td>\n",
              "      <td>https://mybook.ru/author/dzhen-sinsero-2/ni-sy...</td>\n",
              "    </tr>\n",
              "    <tr>\n",
              "      <th>2</th>\n",
              "      <td>Vemnos</td>\n",
              "      <td>Книга на твердую четверку.Она помогает, она ле...</td>\n",
              "      <td>2019-08-09T18:48:00.000000</td>\n",
              "      <td>4</td>\n",
              "      <td>https://mybook.ru/author/dzhen-sinsero-2/ni-sy...</td>\n",
              "    </tr>\n",
              "    <tr>\n",
              "      <th>3</th>\n",
              "      <td>vampi</td>\n",
              "      <td>Это книга, как и все книги по поиску себя, гов...</td>\n",
              "      <td>2020-05-04T16:03:00.000000</td>\n",
              "      <td>3</td>\n",
              "      <td>https://mybook.ru/author/dzhen-sinsero-2/ni-sy...</td>\n",
              "    </tr>\n",
              "    <tr>\n",
              "      <th>4</th>\n",
              "      <td>Iren-hell</td>\n",
              "      <td>В общем я не знаю, кого она и на что замотивир...</td>\n",
              "      <td>2021-11-03T13:28:00.000000</td>\n",
              "      <td>2</td>\n",
              "      <td>https://mybook.ru/author/dzhen-sinsero-2/ni-sy...</td>\n",
              "    </tr>\n",
              "  </tbody>\n",
              "</table>\n",
              "</div>\n",
              "      <button class=\"colab-df-convert\" onclick=\"convertToInteractive('df-2691ac85-7c5c-4567-81a6-15d6187e3185')\"\n",
              "              title=\"Convert this dataframe to an interactive table.\"\n",
              "              style=\"display:none;\">\n",
              "        \n",
              "  <svg xmlns=\"http://www.w3.org/2000/svg\" height=\"24px\"viewBox=\"0 0 24 24\"\n",
              "       width=\"24px\">\n",
              "    <path d=\"M0 0h24v24H0V0z\" fill=\"none\"/>\n",
              "    <path d=\"M18.56 5.44l.94 2.06.94-2.06 2.06-.94-2.06-.94-.94-2.06-.94 2.06-2.06.94zm-11 1L8.5 8.5l.94-2.06 2.06-.94-2.06-.94L8.5 2.5l-.94 2.06-2.06.94zm10 10l.94 2.06.94-2.06 2.06-.94-2.06-.94-.94-2.06-.94 2.06-2.06.94z\"/><path d=\"M17.41 7.96l-1.37-1.37c-.4-.4-.92-.59-1.43-.59-.52 0-1.04.2-1.43.59L10.3 9.45l-7.72 7.72c-.78.78-.78 2.05 0 2.83L4 21.41c.39.39.9.59 1.41.59.51 0 1.02-.2 1.41-.59l7.78-7.78 2.81-2.81c.8-.78.8-2.07 0-2.86zM5.41 20L4 18.59l7.72-7.72 1.47 1.35L5.41 20z\"/>\n",
              "  </svg>\n",
              "      </button>\n",
              "      \n",
              "  <style>\n",
              "    .colab-df-container {\n",
              "      display:flex;\n",
              "      flex-wrap:wrap;\n",
              "      gap: 12px;\n",
              "    }\n",
              "\n",
              "    .colab-df-convert {\n",
              "      background-color: #E8F0FE;\n",
              "      border: none;\n",
              "      border-radius: 50%;\n",
              "      cursor: pointer;\n",
              "      display: none;\n",
              "      fill: #1967D2;\n",
              "      height: 32px;\n",
              "      padding: 0 0 0 0;\n",
              "      width: 32px;\n",
              "    }\n",
              "\n",
              "    .colab-df-convert:hover {\n",
              "      background-color: #E2EBFA;\n",
              "      box-shadow: 0px 1px 2px rgba(60, 64, 67, 0.3), 0px 1px 3px 1px rgba(60, 64, 67, 0.15);\n",
              "      fill: #174EA6;\n",
              "    }\n",
              "\n",
              "    [theme=dark] .colab-df-convert {\n",
              "      background-color: #3B4455;\n",
              "      fill: #D2E3FC;\n",
              "    }\n",
              "\n",
              "    [theme=dark] .colab-df-convert:hover {\n",
              "      background-color: #434B5C;\n",
              "      box-shadow: 0px 1px 3px 1px rgba(0, 0, 0, 0.15);\n",
              "      filter: drop-shadow(0px 1px 2px rgba(0, 0, 0, 0.3));\n",
              "      fill: #FFFFFF;\n",
              "    }\n",
              "  </style>\n",
              "\n",
              "      <script>\n",
              "        const buttonEl =\n",
              "          document.querySelector('#df-2691ac85-7c5c-4567-81a6-15d6187e3185 button.colab-df-convert');\n",
              "        buttonEl.style.display =\n",
              "          google.colab.kernel.accessAllowed ? 'block' : 'none';\n",
              "\n",
              "        async function convertToInteractive(key) {\n",
              "          const element = document.querySelector('#df-2691ac85-7c5c-4567-81a6-15d6187e3185');\n",
              "          const dataTable =\n",
              "            await google.colab.kernel.invokeFunction('convertToInteractive',\n",
              "                                                     [key], {});\n",
              "          if (!dataTable) return;\n",
              "\n",
              "          const docLinkHtml = 'Like what you see? Visit the ' +\n",
              "            '<a target=\"_blank\" href=https://colab.research.google.com/notebooks/data_table.ipynb>data table notebook</a>'\n",
              "            + ' to learn more about interactive tables.';\n",
              "          element.innerHTML = '';\n",
              "          dataTable['output_type'] = 'display_data';\n",
              "          await google.colab.output.renderOutput(dataTable, element);\n",
              "          const docLink = document.createElement('div');\n",
              "          docLink.innerHTML = docLinkHtml;\n",
              "          element.appendChild(docLink);\n",
              "        }\n",
              "      </script>\n",
              "    </div>\n",
              "  </div>\n",
              "  "
            ]
          },
          "metadata": {},
          "execution_count": 19
        }
      ]
    },
    {
      "cell_type": "code",
      "source": [
        "!pip install emojis"
      ],
      "metadata": {
        "colab": {
          "base_uri": "https://localhost:8080/"
        },
        "id": "6V8dzv7SfjLA",
        "outputId": "52220078-ee66-4df3-f2ce-1d1d950a1ecc"
      },
      "execution_count": null,
      "outputs": [
        {
          "output_type": "stream",
          "name": "stderr",
          "text": [
            "/usr/local/lib/python3.10/dist-packages/ipykernel/ipkernel.py:283: DeprecationWarning: `should_run_async` will not call `transform_cell` automatically in the future. Please pass the result to `transformed_cell` argument and any exception that happen during thetransform in `preprocessing_exc_tuple` in IPython 7.17 and above.\n",
            "  and should_run_async(code)\n"
          ]
        },
        {
          "output_type": "stream",
          "name": "stdout",
          "text": [
            "Looking in indexes: https://pypi.org/simple, https://us-python.pkg.dev/colab-wheels/public/simple/\n",
            "Collecting emojis\n",
            "  Downloading emojis-0.7.0-py3-none-any.whl (28 kB)\n",
            "Installing collected packages: emojis\n",
            "Successfully installed emojis-0.7.0\n"
          ]
        }
      ]
    },
    {
      "cell_type": "code",
      "source": [
        "import emojis"
      ],
      "metadata": {
        "id": "FyiIRHpKghgz",
        "colab": {
          "base_uri": "https://localhost:8080/"
        },
        "outputId": "aa921a8d-a26a-467e-fa7f-280db4f71047"
      },
      "execution_count": null,
      "outputs": [
        {
          "output_type": "stream",
          "name": "stderr",
          "text": [
            "/usr/local/lib/python3.10/dist-packages/ipykernel/ipkernel.py:283: DeprecationWarning: `should_run_async` will not call `transform_cell` automatically in the future. Please pass the result to `transformed_cell` argument and any exception that happen during thetransform in `preprocessing_exc_tuple` in IPython 7.17 and above.\n",
            "  and should_run_async(code)\n"
          ]
        }
      ]
    },
    {
      "cell_type": "code",
      "source": [
        "!pip install emoji"
      ],
      "metadata": {
        "colab": {
          "base_uri": "https://localhost:8080/"
        },
        "id": "MCPRLakSRXLq",
        "outputId": "36158542-6474-48af-f2bc-1b72b02206b3"
      },
      "execution_count": null,
      "outputs": [
        {
          "output_type": "stream",
          "name": "stderr",
          "text": [
            "/usr/local/lib/python3.10/dist-packages/ipykernel/ipkernel.py:283: DeprecationWarning: `should_run_async` will not call `transform_cell` automatically in the future. Please pass the result to `transformed_cell` argument and any exception that happen during thetransform in `preprocessing_exc_tuple` in IPython 7.17 and above.\n",
            "  and should_run_async(code)\n"
          ]
        },
        {
          "output_type": "stream",
          "name": "stdout",
          "text": [
            "Looking in indexes: https://pypi.org/simple, https://us-python.pkg.dev/colab-wheels/public/simple/\n",
            "Collecting emoji\n",
            "  Downloading emoji-2.2.0.tar.gz (240 kB)\n",
            "\u001b[2K     \u001b[90m━━━━━━━━━━━━━━━━━━━━━━━━━━━━━━━━━━━━━━\u001b[0m \u001b[32m240.9/240.9 kB\u001b[0m \u001b[31m11.9 MB/s\u001b[0m eta \u001b[36m0:00:00\u001b[0m\n",
            "\u001b[?25h  Preparing metadata (setup.py) ... \u001b[?25l\u001b[?25hdone\n",
            "Building wheels for collected packages: emoji\n",
            "  Building wheel for emoji (setup.py) ... \u001b[?25l\u001b[?25hdone\n",
            "  Created wheel for emoji: filename=emoji-2.2.0-py3-none-any.whl size=234911 sha256=56b46f1b895f3afd9811e12298b3b200a465a39fc48372443992a52e380f8c9f\n",
            "  Stored in directory: /root/.cache/pip/wheels/02/3d/88/51a592b9ad17e7899126563698b4e3961983ebe85747228ba6\n",
            "Successfully built emoji\n",
            "Installing collected packages: emoji\n",
            "Successfully installed emoji-2.2.0\n"
          ]
        }
      ]
    },
    {
      "cell_type": "code",
      "source": [
        "import emoji"
      ],
      "metadata": {
        "id": "7Nu9btnyRc5V",
        "colab": {
          "base_uri": "https://localhost:8080/"
        },
        "outputId": "b3af3edb-d896-4b8b-eb34-69f960e1694b"
      },
      "execution_count": null,
      "outputs": [
        {
          "output_type": "stream",
          "name": "stderr",
          "text": [
            "/usr/local/lib/python3.10/dist-packages/ipykernel/ipkernel.py:283: DeprecationWarning: `should_run_async` will not call `transform_cell` automatically in the future. Please pass the result to `transformed_cell` argument and any exception that happen during thetransform in `preprocessing_exc_tuple` in IPython 7.17 and above.\n",
            "  and should_run_async(code)\n"
          ]
        }
      ]
    },
    {
      "cell_type": "code",
      "source": [
        "for i in range(data.shape[0]):\n",
        "    txt = data['Коммент'][i]\n",
        "    txt = ''.join(txt)\n",
        "    #print(list(emojis.get(txt)))\n",
        "    all=emoji.distinct_emoji_list(txt)\n",
        "    if all !=[]:\n",
        "      print(all)"
      ],
      "metadata": {
        "colab": {
          "base_uri": "https://localhost:8080/"
        },
        "id": "3JlRlJHkZ07N",
        "outputId": "a03af90b-52ed-4440-8756-691857c090d5"
      },
      "execution_count": null,
      "outputs": [
        {
          "output_type": "stream",
          "name": "stdout",
          "text": [
            "['👏']\n",
            "['👍🏼']\n",
            "['🙏🏿', '🤘🏿', '😇']\n",
            "['👍']\n",
            "['👍']\n",
            "['🔥']\n",
            "['❤️']\n",
            "['👌🏻']\n",
            "['😍']\n",
            "['❤️']\n",
            "['👍']\n",
            "['👍']\n",
            "['❤️\\u200d🔥']\n",
            "['😍']\n",
            "['👍🏽']\n",
            "['👍']\n",
            "['👍']\n",
            "['👏🏻']\n",
            "['🙏🏼']\n",
            "['😅', '😌']\n",
            "['👍']\n",
            "['🤩', '\\U0001f979']\n",
            "['👎🏻']\n",
            "['😖']\n"
          ]
        },
        {
          "output_type": "stream",
          "name": "stderr",
          "text": [
            "/usr/local/lib/python3.10/dist-packages/ipykernel/ipkernel.py:283: DeprecationWarning: `should_run_async` will not call `transform_cell` automatically in the future. Please pass the result to `transformed_cell` argument and any exception that happen during thetransform in `preprocessing_exc_tuple` in IPython 7.17 and above.\n",
            "  and should_run_async(code)\n"
          ]
        }
      ]
    },
    {
      "cell_type": "code",
      "source": [
        "data['Рейтинг'].value_counts().sort_index(ascending=False)"
      ],
      "metadata": {
        "colab": {
          "base_uri": "https://localhost:8080/"
        },
        "id": "TqydTIMW6WYV",
        "outputId": "e553846b-be86-409d-a71f-d35928048ab4"
      },
      "execution_count": null,
      "outputs": [
        {
          "output_type": "execute_result",
          "data": {
            "text/plain": [
              "5    186\n",
              "4     23\n",
              "3      6\n",
              "2     11\n",
              "1      9\n",
              "Name: Рейтинг, dtype: int64"
            ]
          },
          "metadata": {},
          "execution_count": 6
        }
      ]
    },
    {
      "cell_type": "code",
      "source": [
        "morph = pymorphy2.MorphAnalyzer()"
      ],
      "metadata": {
        "id": "UIh2CF4XWmaG"
      },
      "execution_count": null,
      "outputs": []
    },
    {
      "cell_type": "markdown",
      "source": [
        "Как работает pymorphy:"
      ],
      "metadata": {
        "id": "jJDXtntLW0KE"
      }
    },
    {
      "cell_type": "code",
      "source": [
        "morph.parse('популярнейшая')[0].normal_form"
      ],
      "metadata": {
        "colab": {
          "base_uri": "https://localhost:8080/",
          "height": 35
        },
        "id": "vW2CmjVGWzwN",
        "outputId": "5cf03fa8-d96a-4104-f5d9-37dbebf08f21"
      },
      "execution_count": null,
      "outputs": [
        {
          "output_type": "execute_result",
          "data": {
            "text/plain": [
              "'популярный'"
            ],
            "application/vnd.google.colaboratory.intrinsic+json": {
              "type": "string"
            }
          },
          "metadata": {},
          "execution_count": 11
        }
      ]
    },
    {
      "cell_type": "code",
      "source": [
        "data1=data.copy()"
      ],
      "metadata": {
        "id": "tzx5FrT1FMlw"
      },
      "execution_count": null,
      "outputs": []
    },
    {
      "cell_type": "code",
      "source": [
        "def preprocessing(data, stopwords=stopwords.words('russian')):\n",
        "   # punct = '!\"#$%&()*\\+,\\./:;<=>?@\\[\\]^_`{|}~„“«»†*\\/\\‘’'\n",
        "    text = re.sub(r\"([.,!?])\", r\" \\1\", data.lower())\n",
        "    text = text.strip()\n",
        "    text = [i for i in text.split() if i not in stopwords]\n",
        "    text = [i for i in text if len(i) >=3]\n",
        "    return ' '.join(text)\n",
        "\n",
        "def lemmatization_text(data, morph=morph):\n",
        "    result = ' '.join([morph.parse(i)[0].normal_form for i in data.split()])\n",
        "    result = ' '.join([i for i in result.split()])\n",
        "    return result\n",
        "\n",
        "def final_result(data, morph=morph, stopwords=stopwords.words('russian')):\n",
        "    result = preprocessing(data=data)\n",
        "    result = lemmatization_text(result)\n",
        "    return result"
      ],
      "metadata": {
        "id": "MfbnpjcHBHxC"
      },
      "execution_count": null,
      "outputs": []
    },
    {
      "cell_type": "code",
      "source": [
        "words_regex = re.compile('\\w+')\n",
        "\n",
        "def find_words(text, regex = words_regex):\n",
        "    tokens =  regex.findall(text.lower())\n",
        "    return [w for w in tokens if w.isalpha() and len(w) >= 3]\n",
        "\n",
        "\n",
        "\n",
        "\n",
        "def lemmatize(words, lemmer = morph, stopwords = stopwords.words('russian')):\n",
        "    lemmas = [lemmer.parse(w)[0].normal_form for w in words]\n",
        "    return [w for w in lemmas if not w in stopwords\n",
        "            and w.isalpha()]\n",
        "\n",
        "def preprocess(text):\n",
        "    return (lemmatize(find_words(text)))"
      ],
      "metadata": {
        "id": "P1FnuOKD4qld"
      },
      "execution_count": null,
      "outputs": []
    },
    {
      "cell_type": "code",
      "source": [
        "data1['Коммент'][0]"
      ],
      "metadata": {
        "id": "eB7dIz7ZXK01",
        "colab": {
          "base_uri": "https://localhost:8080/",
          "height": 140
        },
        "outputId": "94e84bcf-a037-4e36-8d0a-f68211471166"
      },
      "execution_count": null,
      "outputs": [
        {
          "output_type": "execute_result",
          "data": {
            "text/plain": [
              "'Произведение состоит из нескольких глав, в каждой раскрывается одна из проблем, что может тормозить нас на пути к лучшей жизни. В конце каждой главы даются советы, как с этим бороться шаг за шагом. Самое главное начать. Но сама Джен говорит, что начинает мало кто, где-то 5% из всех прочитавших или сходивших на любой тренинг. У большинства всё, что он узнал, оседает в блокноте, голове, заметках, по принципу “потом”, когда похудею, буду свободнее, тогда и изучу, попробую.Книга заставляет взглянуть на себя по новому, побуждает начать относиться к части событий, что происходят с нами, иначе. Ведь мы сильнее, чем кажемся. Джен говорит, что надо жить для себя и не бояться перемен.Произведение написано простым языком, местами с юмором. В конце дается большой список литературы и тренингов с их кратким описанием, осталось найти время для их изучения. Хотя, как говорит Джен, если действительно надо, время и средства найдутся, все сложится именно так, как и должно.Главный посыл произведения - поверить в себя, свои силы и полюбить себя таким, какой ты есть: с пузиком, большими ушами и кривым носом. Закончу рецензию так, как заканчивала каждую главу автор:ЛЮБИ СЕБЯПотому что ты – крутой.'"
            ],
            "application/vnd.google.colaboratory.intrinsic+json": {
              "type": "string"
            }
          },
          "metadata": {},
          "execution_count": 23
        }
      ]
    },
    {
      "cell_type": "code",
      "source": [
        "print(preprocess(data1['Коммент'][0]))"
      ],
      "metadata": {
        "colab": {
          "base_uri": "https://localhost:8080/"
        },
        "id": "43huHzfUR2IJ",
        "outputId": "9db45aa8-c849-42fd-92c0-ed3a013e2746"
      },
      "execution_count": null,
      "outputs": [
        {
          "output_type": "stream",
          "name": "stdout",
          "text": [
            "['произведение', 'состоять', 'несколько', 'глава', 'каждый', 'раскрываться', 'проблема', 'мочь', 'тормозить', 'путь', 'хороший', 'жизнь', 'конец', 'каждый', 'глава', 'даваться', 'совет', 'это', 'бороться', 'шаг', 'шаг', 'самый', 'главное', 'начать', 'джена', 'говорить', 'начинать', 'мало', 'весь', 'прочитать', 'сходить', 'любой', 'тренинг', 'большинство', 'всё', 'узнать', 'оседать', 'блокнот', 'голова', 'заметка', 'принцип', 'похудеть', 'свободный', 'изучить', 'попробовать', 'книга', 'заставлять', 'взглянуть', 'новый', 'побуждать', 'начать', 'относиться', 'часть', 'событие', 'происходить', 'иначе', 'сильный', 'казаться', 'джена', 'говорить', 'жить', 'бояться', 'перемена', 'произведение', 'написать', 'простой', 'язык', 'место', 'юмор', 'конец', 'даваться', 'большой', 'список', 'литература', 'тренинг', 'краткий', 'описание', 'остаться', 'найти', 'время', 'изучение', 'хотя', 'говорить', 'джена', 'действительно', 'время', 'средство', 'найтись', 'всё', 'сложиться', 'именно', 'должный', 'главный', 'посыл', 'произведение', 'поверить', 'свой', 'сила', 'полюбить', 'пузикома', 'больший', 'ухо', 'кривой', 'нос', 'закончить', 'рецензия', 'заканчивать', 'каждый', 'глава', 'автор', 'любить', 'себяпотому', 'крутой']\n"
          ]
        }
      ]
    },
    {
      "cell_type": "code",
      "source": [
        "preprocessed_comment = list(map(preprocess, data1['Коммент']))"
      ],
      "metadata": {
        "id": "vb-6fdejR2K3"
      },
      "execution_count": null,
      "outputs": []
    },
    {
      "cell_type": "code",
      "source": [
        "data1['Коммент'] = preprocessed_comment\n",
        "data1=data1.drop(['Дата','Ссылка'], axis=1)"
      ],
      "metadata": {
        "id": "4aksbeX0R2OH"
      },
      "execution_count": null,
      "outputs": []
    },
    {
      "cell_type": "code",
      "source": [
        "data1.head()"
      ],
      "metadata": {
        "id": "vcFxJUF1XK6S",
        "colab": {
          "base_uri": "https://localhost:8080/",
          "height": 206
        },
        "outputId": "59b07f07-c04f-4047-d1f4-b6cc59ed3af3"
      },
      "execution_count": null,
      "outputs": [
        {
          "output_type": "execute_result",
          "data": {
            "text/plain": [
              "                 Имя                                            Коммент  \\\n",
              "0  Anastasia_Markova  [произведение, состоять, несколько, глава, каж...   \n",
              "1           Arinushk  [введение, бестселлер, популярный, книга, силь...   \n",
              "2             Vemnos  [книга, твёрдый, четвёрка, помогать, лечить, э...   \n",
              "3              vampi  [это, книга, всё, книга, поиск, говорить, долж...   \n",
              "4          Iren-hell  [общий, знать, замотивировать, лично, кроме, с...   \n",
              "\n",
              "   Рейтинг  \n",
              "0        4  \n",
              "1        5  \n",
              "2        4  \n",
              "3        3  \n",
              "4        2  "
            ],
            "text/html": [
              "\n",
              "  <div id=\"df-9158d62b-3c8a-4b7b-bcc2-1b6ca7b9af28\">\n",
              "    <div class=\"colab-df-container\">\n",
              "      <div>\n",
              "<style scoped>\n",
              "    .dataframe tbody tr th:only-of-type {\n",
              "        vertical-align: middle;\n",
              "    }\n",
              "\n",
              "    .dataframe tbody tr th {\n",
              "        vertical-align: top;\n",
              "    }\n",
              "\n",
              "    .dataframe thead th {\n",
              "        text-align: right;\n",
              "    }\n",
              "</style>\n",
              "<table border=\"1\" class=\"dataframe\">\n",
              "  <thead>\n",
              "    <tr style=\"text-align: right;\">\n",
              "      <th></th>\n",
              "      <th>Имя</th>\n",
              "      <th>Коммент</th>\n",
              "      <th>Рейтинг</th>\n",
              "    </tr>\n",
              "  </thead>\n",
              "  <tbody>\n",
              "    <tr>\n",
              "      <th>0</th>\n",
              "      <td>Anastasia_Markova</td>\n",
              "      <td>[произведение, состоять, несколько, глава, каж...</td>\n",
              "      <td>4</td>\n",
              "    </tr>\n",
              "    <tr>\n",
              "      <th>1</th>\n",
              "      <td>Arinushk</td>\n",
              "      <td>[введение, бестселлер, популярный, книга, силь...</td>\n",
              "      <td>5</td>\n",
              "    </tr>\n",
              "    <tr>\n",
              "      <th>2</th>\n",
              "      <td>Vemnos</td>\n",
              "      <td>[книга, твёрдый, четвёрка, помогать, лечить, э...</td>\n",
              "      <td>4</td>\n",
              "    </tr>\n",
              "    <tr>\n",
              "      <th>3</th>\n",
              "      <td>vampi</td>\n",
              "      <td>[это, книга, всё, книга, поиск, говорить, долж...</td>\n",
              "      <td>3</td>\n",
              "    </tr>\n",
              "    <tr>\n",
              "      <th>4</th>\n",
              "      <td>Iren-hell</td>\n",
              "      <td>[общий, знать, замотивировать, лично, кроме, с...</td>\n",
              "      <td>2</td>\n",
              "    </tr>\n",
              "  </tbody>\n",
              "</table>\n",
              "</div>\n",
              "      <button class=\"colab-df-convert\" onclick=\"convertToInteractive('df-9158d62b-3c8a-4b7b-bcc2-1b6ca7b9af28')\"\n",
              "              title=\"Convert this dataframe to an interactive table.\"\n",
              "              style=\"display:none;\">\n",
              "        \n",
              "  <svg xmlns=\"http://www.w3.org/2000/svg\" height=\"24px\"viewBox=\"0 0 24 24\"\n",
              "       width=\"24px\">\n",
              "    <path d=\"M0 0h24v24H0V0z\" fill=\"none\"/>\n",
              "    <path d=\"M18.56 5.44l.94 2.06.94-2.06 2.06-.94-2.06-.94-.94-2.06-.94 2.06-2.06.94zm-11 1L8.5 8.5l.94-2.06 2.06-.94-2.06-.94L8.5 2.5l-.94 2.06-2.06.94zm10 10l.94 2.06.94-2.06 2.06-.94-2.06-.94-.94-2.06-.94 2.06-2.06.94z\"/><path d=\"M17.41 7.96l-1.37-1.37c-.4-.4-.92-.59-1.43-.59-.52 0-1.04.2-1.43.59L10.3 9.45l-7.72 7.72c-.78.78-.78 2.05 0 2.83L4 21.41c.39.39.9.59 1.41.59.51 0 1.02-.2 1.41-.59l7.78-7.78 2.81-2.81c.8-.78.8-2.07 0-2.86zM5.41 20L4 18.59l7.72-7.72 1.47 1.35L5.41 20z\"/>\n",
              "  </svg>\n",
              "      </button>\n",
              "      \n",
              "  <style>\n",
              "    .colab-df-container {\n",
              "      display:flex;\n",
              "      flex-wrap:wrap;\n",
              "      gap: 12px;\n",
              "    }\n",
              "\n",
              "    .colab-df-convert {\n",
              "      background-color: #E8F0FE;\n",
              "      border: none;\n",
              "      border-radius: 50%;\n",
              "      cursor: pointer;\n",
              "      display: none;\n",
              "      fill: #1967D2;\n",
              "      height: 32px;\n",
              "      padding: 0 0 0 0;\n",
              "      width: 32px;\n",
              "    }\n",
              "\n",
              "    .colab-df-convert:hover {\n",
              "      background-color: #E2EBFA;\n",
              "      box-shadow: 0px 1px 2px rgba(60, 64, 67, 0.3), 0px 1px 3px 1px rgba(60, 64, 67, 0.15);\n",
              "      fill: #174EA6;\n",
              "    }\n",
              "\n",
              "    [theme=dark] .colab-df-convert {\n",
              "      background-color: #3B4455;\n",
              "      fill: #D2E3FC;\n",
              "    }\n",
              "\n",
              "    [theme=dark] .colab-df-convert:hover {\n",
              "      background-color: #434B5C;\n",
              "      box-shadow: 0px 1px 3px 1px rgba(0, 0, 0, 0.15);\n",
              "      filter: drop-shadow(0px 1px 2px rgba(0, 0, 0, 0.3));\n",
              "      fill: #FFFFFF;\n",
              "    }\n",
              "  </style>\n",
              "\n",
              "      <script>\n",
              "        const buttonEl =\n",
              "          document.querySelector('#df-9158d62b-3c8a-4b7b-bcc2-1b6ca7b9af28 button.colab-df-convert');\n",
              "        buttonEl.style.display =\n",
              "          google.colab.kernel.accessAllowed ? 'block' : 'none';\n",
              "\n",
              "        async function convertToInteractive(key) {\n",
              "          const element = document.querySelector('#df-9158d62b-3c8a-4b7b-bcc2-1b6ca7b9af28');\n",
              "          const dataTable =\n",
              "            await google.colab.kernel.invokeFunction('convertToInteractive',\n",
              "                                                     [key], {});\n",
              "          if (!dataTable) return;\n",
              "\n",
              "          const docLinkHtml = 'Like what you see? Visit the ' +\n",
              "            '<a target=\"_blank\" href=https://colab.research.google.com/notebooks/data_table.ipynb>data table notebook</a>'\n",
              "            + ' to learn more about interactive tables.';\n",
              "          element.innerHTML = '';\n",
              "          dataTable['output_type'] = 'display_data';\n",
              "          await google.colab.output.renderOutput(dataTable, element);\n",
              "          const docLink = document.createElement('div');\n",
              "          docLink.innerHTML = docLinkHtml;\n",
              "          element.appendChild(docLink);\n",
              "        }\n",
              "      </script>\n",
              "    </div>\n",
              "  </div>\n",
              "  "
            ]
          },
          "metadata": {},
          "execution_count": 18
        }
      ]
    },
    {
      "cell_type": "code",
      "source": [
        "data1['Коммент'] = data1['Коммент'].apply(lambda row: ' '.join(row))"
      ],
      "metadata": {
        "id": "x60GVF3rg-jB"
      },
      "execution_count": null,
      "outputs": []
    },
    {
      "cell_type": "code",
      "source": [
        "from wordcloud import WordCloud"
      ],
      "metadata": {
        "id": "wqZ4HTrYhGKg"
      },
      "execution_count": null,
      "outputs": []
    },
    {
      "cell_type": "code",
      "source": [
        "def create_WordCloud(data, title=None):\n",
        "    wordcloud = WordCloud(width = 500, height = 500,\n",
        "                          background_color ='white',\n",
        "                          min_font_size = 15\n",
        "                         ).generate(\" \".join(data.values))\n",
        "\n",
        "    plt.figure(figsize = (5, 5), facecolor = None)\n",
        "    plt.imshow(wordcloud, interpolation='bilinear')\n",
        "    plt.axis(\"off\")\n",
        "    plt.tight_layout(pad = 0)\n",
        "    plt.title(title,fontsize=20)\n",
        "    plt.show()"
      ],
      "metadata": {
        "id": "G7m9aDPdhL3K"
      },
      "execution_count": null,
      "outputs": []
    },
    {
      "cell_type": "code",
      "source": [
        "create_WordCloud(data1['Коммент'], title=\"Самые частые слова\")"
      ],
      "metadata": {
        "colab": {
          "base_uri": "https://localhost:8080/",
          "height": 567
        },
        "id": "EoHvj0IbhQMy",
        "outputId": "71f87dd2-75b7-4ab3-8e39-bec5cf3748d8"
      },
      "execution_count": null,
      "outputs": [
        {
          "output_type": "display_data",
          "data": {
            "text/plain": [
              "<Figure size 500x500 with 1 Axes>"
            ],
            "image/png": "[encoded data removed]"
          },
          "metadata": {}
        }
      ]
    },
    {
      "cell_type": "code",
      "source": [
        "X_train,X_test = train_test_split(data['Коммент'],\n",
        "                                  test_size=0.2,\n",
        "                                  random_state=1)"
      ],
      "metadata": {
        "id": "w0pM8dMwBN71"
      },
      "execution_count": null,
      "outputs": []
    },
    {
      "cell_type": "code",
      "source": [
        "def transforming(data:pd.Series) ->list:\n",
        "  transform = [final_result(data=i) for i in data]\n",
        "  transform = [i for i in transform if i not in [None,'']]\n",
        "  return transform"
      ],
      "metadata": {
        "id": "MV3A5UPrBOuA"
      },
      "execution_count": null,
      "outputs": []
    },
    {
      "cell_type": "code",
      "source": [
        "x_train=transforming(X_train)\n",
        "x_test=transforming(X_test)"
      ],
      "metadata": {
        "id": "gCe9UWWPBSqr"
      },
      "execution_count": null,
      "outputs": []
    },
    {
      "cell_type": "code",
      "source": [
        "x_train[:3]"
      ],
      "metadata": {
        "colab": {
          "base_uri": "https://localhost:8080/"
        },
        "id": "l7_NFRFJW4UY",
        "outputId": "57b830b2-edca-4b1d-c5d0-aa85bbbe1866"
      },
      "execution_count": null,
      "outputs": [
        {
          "output_type": "execute_result",
          "data": {
            "text/plain": [
              "['хороший книга саморазвитие прочитать',\n",
              " 'книга очень мотивировать',\n",
              " 'спойлеровва целое книга плохой слишком говориться деньга порой действительно заставлять встать диван начать действовать понравиться читать +100500 млн секунда важно заставить начать себя заниматься каждый делать свой выбор мена понравиться']"
            ]
          },
          "metadata": {},
          "execution_count": 20
        }
      ]
    },
    {
      "cell_type": "markdown",
      "source": [
        "**CountVectorizer**\n",
        "\n",
        "---\n",
        "\n"
      ],
      "metadata": {
        "id": "GixCou06Qi75"
      }
    },
    {
      "cell_type": "code",
      "source": [
        "vector = CountVectorizer(\n",
        "    analyzer='word',\n",
        "    min_df=3,\n",
        "    ngram_range=(2,3),\n",
        "    stop_words = stopwords.words('russian'))\n",
        "train = vector.fit_transform(x_train)"
      ],
      "metadata": {
        "id": "LS634zca6WlF"
      },
      "execution_count": null,
      "outputs": []
    },
    {
      "cell_type": "code",
      "source": [
        "vector.get_feature_names_out()"
      ],
      "metadata": {
        "colab": {
          "base_uri": "https://localhost:8080/"
        },
        "id": "fEd66pnnGP56",
        "outputId": "131ae679-3589-4f4c-fdfb-af3230ecc48e"
      },
      "execution_count": null,
      "outputs": [
        {
          "output_type": "execute_result",
          "data": {
            "text/plain": [
              "array(['весь книга', 'заставлять встать', 'изменить жизнь',\n",
              "       'каждый глава', 'классный книга', 'книга который',\n",
              "       'книга мотивировать', 'книга написать', 'книга очень',\n",
              "       'книга просто', 'книга рекомендовать', 'книга саморазвитие',\n",
              "       'книга спасибо', 'книга супер', 'книга читаться',\n",
              "       'книга читаться дыхание', 'крутой книга', 'легко читаться',\n",
              "       'мотивационный книга', 'отличный книга', 'очень интересный',\n",
              "       'очень мотивировать', 'очень понравиться', 'понравиться книга',\n",
              "       'рекомендовать весь', 'свой жизнь', 'советовать прочитать',\n",
              "       'спасибо автор', 'хороший книга', 'читать книга',\n",
              "       'читаться дыхание', 'шикарный книга', 'это первый'], dtype=object)"
            ]
          },
          "metadata": {},
          "execution_count": 22
        }
      ]
    },
    {
      "cell_type": "code",
      "source": [
        "vector"
      ],
      "metadata": {
        "colab": {
          "base_uri": "https://localhost:8080/",
          "height": 144
        },
        "id": "PQMBBHGhFu0_",
        "outputId": "c0d70df0-71df-47a4-a78d-8e93ccc563ed"
      },
      "execution_count": null,
      "outputs": [
        {
          "output_type": "execute_result",
          "data": {
            "text/plain": [
              "CountVectorizer(min_df=3, ngram_range=(2, 3),\n",
              "                stop_words=['и', 'в', 'во', 'не', 'что', 'он', 'на', 'я', 'с',\n",
              "                            'со', 'как', 'а', 'то', 'все', 'она', 'так', 'его',\n",
              "                            'но', 'да', 'ты', 'к', 'у', 'же', 'вы', 'за', 'бы',\n",
              "                            'по', 'только', 'ее', 'мне', ...])"
            ],
            "text/html": [
              "<style>#sk-container-id-1 {color: black;background-color: white;}#sk-container-id-1 pre{padding: 0;}#sk-container-id-1 div.sk-toggleable {background-color: white;}#sk-container-id-1 label.sk-toggleable__label {cursor: pointer;display: block;width: 100%;margin-bottom: 0;padding: 0.3em;box-sizing: border-box;text-align: center;}#sk-container-id-1 label.sk-toggleable__label-arrow:before {content: \"▸\";float: left;margin-right: 0.25em;color: #696969;}#sk-container-id-1 label.sk-toggleable__label-arrow:hover:before {color: black;}#sk-container-id-1 div.sk-estimator:hover label.sk-toggleable__label-arrow:before {color: black;}#sk-container-id-1 div.sk-toggleable__content {max-height: 0;max-width: 0;overflow: hidden;text-align: left;background-color: #f0f8ff;}#sk-container-id-1 div.sk-toggleable__content pre {margin: 0.2em;color: black;border-radius: 0.25em;background-color: #f0f8ff;}#sk-container-id-1 input.sk-toggleable__control:checked~div.sk-toggleable__content {max-height: 200px;max-width: 100%;overflow: auto;}#sk-container-id-1 input.sk-toggleable__control:checked~label.sk-toggleable__label-arrow:before {content: \"▾\";}#sk-container-id-1 div.sk-estimator input.sk-toggleable__control:checked~label.sk-toggleable__label {background-color: #d4ebff;}#sk-container-id-1 div.sk-label input.sk-toggleable__control:checked~label.sk-toggleable__label {background-color: #d4ebff;}#sk-container-id-1 input.sk-hidden--visually {border: 0;clip: rect(1px 1px 1px 1px);clip: rect(1px, 1px, 1px, 1px);height: 1px;margin: -1px;overflow: hidden;padding: 0;position: absolute;width: 1px;}#sk-container-id-1 div.sk-estimator {font-family: monospace;background-color: #f0f8ff;border: 1px dotted black;border-radius: 0.25em;box-sizing: border-box;margin-bottom: 0.5em;}#sk-container-id-1 div.sk-estimator:hover {background-color: #d4ebff;}#sk-container-id-1 div.sk-parallel-item::after {content: \"\";width: 100%;border-bottom: 1px solid gray;flex-grow: 1;}#sk-container-id-1 div.sk-label:hover label.sk-toggleable__label {background-color: #d4ebff;}#sk-container-id-1 div.sk-serial::before {content: \"\";position: absolute;border-left: 1px solid gray;box-sizing: border-box;top: 0;bottom: 0;left: 50%;z-index: 0;}#sk-container-id-1 div.sk-serial {display: flex;flex-direction: column;align-items: center;background-color: white;padding-right: 0.2em;padding-left: 0.2em;position: relative;}#sk-container-id-1 div.sk-item {position: relative;z-index: 1;}#sk-container-id-1 div.sk-parallel {display: flex;align-items: stretch;justify-content: center;background-color: white;position: relative;}#sk-container-id-1 div.sk-item::before, #sk-container-id-1 div.sk-parallel-item::before {content: \"\";position: absolute;border-left: 1px solid gray;box-sizing: border-box;top: 0;bottom: 0;left: 50%;z-index: -1;}#sk-container-id-1 div.sk-parallel-item {display: flex;flex-direction: column;z-index: 1;position: relative;background-color: white;}#sk-container-id-1 div.sk-parallel-item:first-child::after {align-self: flex-end;width: 50%;}#sk-container-id-1 div.sk-parallel-item:last-child::after {align-self: flex-start;width: 50%;}#sk-container-id-1 div.sk-parallel-item:only-child::after {width: 0;}#sk-container-id-1 div.sk-dashed-wrapped {border: 1px dashed gray;margin: 0 0.4em 0.5em 0.4em;box-sizing: border-box;padding-bottom: 0.4em;background-color: white;}#sk-container-id-1 div.sk-label label {font-family: monospace;font-weight: bold;display: inline-block;line-height: 1.2em;}#sk-container-id-1 div.sk-label-container {text-align: center;}#sk-container-id-1 div.sk-container {/* jupyter's `normalize.less` sets `[hidden] { display: none; }` but bootstrap.min.css set `[hidden] { display: none !important; }` so we also need the `!important` here to be able to override the default hidden behavior on the sphinx rendered scikit-learn.org. See: https://github.com/scikit-learn/scikit-learn/issues/21755 */display: inline-block !important;position: relative;}#sk-container-id-1 div.sk-text-repr-fallback {display: none;}</style><div id=\"sk-container-id-1\" class=\"sk-top-container\"><div class=\"sk-text-repr-fallback\"><pre>CountVectorizer(min_df=3, ngram_range=(2, 3),\n",
              "                stop_words=[&#x27;и&#x27;, &#x27;в&#x27;, &#x27;во&#x27;, &#x27;не&#x27;, &#x27;что&#x27;, &#x27;он&#x27;, &#x27;на&#x27;, &#x27;я&#x27;, &#x27;с&#x27;,\n",
              "                            &#x27;со&#x27;, &#x27;как&#x27;, &#x27;а&#x27;, &#x27;то&#x27;, &#x27;все&#x27;, &#x27;она&#x27;, &#x27;так&#x27;, &#x27;его&#x27;,\n",
              "                            &#x27;но&#x27;, &#x27;да&#x27;, &#x27;ты&#x27;, &#x27;к&#x27;, &#x27;у&#x27;, &#x27;же&#x27;, &#x27;вы&#x27;, &#x27;за&#x27;, &#x27;бы&#x27;,\n",
              "                            &#x27;по&#x27;, &#x27;только&#x27;, &#x27;ее&#x27;, &#x27;мне&#x27;, ...])</pre><b>In a Jupyter environment, please rerun this cell to show the HTML representation or trust the notebook. <br />On GitHub, the HTML representation is unable to render, please try loading this page with nbviewer.org.</b></div><div class=\"sk-container\" hidden><div class=\"sk-item\"><div class=\"sk-estimator sk-toggleable\"><input class=\"sk-toggleable__control sk-hidden--visually\" id=\"sk-estimator-id-1\" type=\"checkbox\" checked><label for=\"sk-estimator-id-1\" class=\"sk-toggleable__label sk-toggleable__label-arrow\">CountVectorizer</label><div class=\"sk-toggleable__content\"><pre>CountVectorizer(min_df=3, ngram_range=(2, 3),\n",
              "                stop_words=[&#x27;и&#x27;, &#x27;в&#x27;, &#x27;во&#x27;, &#x27;не&#x27;, &#x27;что&#x27;, &#x27;он&#x27;, &#x27;на&#x27;, &#x27;я&#x27;, &#x27;с&#x27;,\n",
              "                            &#x27;со&#x27;, &#x27;как&#x27;, &#x27;а&#x27;, &#x27;то&#x27;, &#x27;все&#x27;, &#x27;она&#x27;, &#x27;так&#x27;, &#x27;его&#x27;,\n",
              "                            &#x27;но&#x27;, &#x27;да&#x27;, &#x27;ты&#x27;, &#x27;к&#x27;, &#x27;у&#x27;, &#x27;же&#x27;, &#x27;вы&#x27;, &#x27;за&#x27;, &#x27;бы&#x27;,\n",
              "                            &#x27;по&#x27;, &#x27;только&#x27;, &#x27;ее&#x27;, &#x27;мне&#x27;, ...])</pre></div></div></div></div></div>"
            ]
          },
          "metadata": {},
          "execution_count": 23
        }
      ]
    },
    {
      "cell_type": "code",
      "source": [
        "test = vector.transform(x_test)"
      ],
      "metadata": {
        "id": "R0motSNIFu7T"
      },
      "execution_count": null,
      "outputs": []
    },
    {
      "cell_type": "markdown",
      "source": [
        "# LDA"
      ],
      "metadata": {
        "id": "3B1ePVjGhyeI"
      }
    },
    {
      "cell_type": "code",
      "source": [
        "!pip install pyLDAvis==2.1.2"
      ],
      "metadata": {
        "colab": {
          "base_uri": "https://localhost:8080/"
        },
        "id": "5OKZWY56k_zw",
        "outputId": "eb1c0d66-276e-4832-bd60-eebb3186ec24"
      },
      "execution_count": null,
      "outputs": [
        {
          "output_type": "stream",
          "name": "stdout",
          "text": [
            "Looking in indexes: https://pypi.org/simple, https://us-python.pkg.dev/colab-wheels/public/simple/\n",
            "Collecting pyLDAvis==2.1.2\n",
            "  Downloading pyLDAvis-2.1.2.tar.gz (1.6 MB)\n",
            "\u001b[2K     \u001b[90m━━━━━━━━━━━━━━━━━━━━━━━━━━━━━━━━━━━━━━━━\u001b[0m \u001b[32m1.6/1.6 MB\u001b[0m \u001b[31m27.6 MB/s\u001b[0m eta \u001b[36m0:00:00\u001b[0m\n",
            "\u001b[?25h  Preparing metadata (setup.py) ... \u001b[?25l\u001b[?25hdone\n",
            "Requirement already satisfied: wheel>=0.23.0 in /usr/local/lib/python3.10/dist-packages (from pyLDAvis==2.1.2) (0.40.0)\n",
            "Requirement already satisfied: numpy>=1.9.2 in /usr/local/lib/python3.10/dist-packages (from pyLDAvis==2.1.2) (1.22.4)\n",
            "Requirement already satisfied: scipy>=0.18.0 in /usr/local/lib/python3.10/dist-packages (from pyLDAvis==2.1.2) (1.10.1)\n",
            "Requirement already satisfied: pandas>=0.17.0 in /usr/local/lib/python3.10/dist-packages (from pyLDAvis==2.1.2) (1.5.3)\n",
            "Requirement already satisfied: joblib>=0.8.4 in /usr/local/lib/python3.10/dist-packages (from pyLDAvis==2.1.2) (1.2.0)\n",
            "Requirement already satisfied: jinja2>=2.7.2 in /usr/local/lib/python3.10/dist-packages (from pyLDAvis==2.1.2) (3.1.2)\n",
            "Requirement already satisfied: numexpr in /usr/local/lib/python3.10/dist-packages (from pyLDAvis==2.1.2) (2.8.4)\n",
            "Requirement already satisfied: pytest in /usr/local/lib/python3.10/dist-packages (from pyLDAvis==2.1.2) (7.2.2)\n",
            "Requirement already satisfied: future in /usr/local/lib/python3.10/dist-packages (from pyLDAvis==2.1.2) (0.18.3)\n",
            "Collecting funcy (from pyLDAvis==2.1.2)\n",
            "  Downloading funcy-2.0-py2.py3-none-any.whl (30 kB)\n",
            "Requirement already satisfied: MarkupSafe>=2.0 in /usr/local/lib/python3.10/dist-packages (from jinja2>=2.7.2->pyLDAvis==2.1.2) (2.1.2)\n",
            "Requirement already satisfied: python-dateutil>=2.8.1 in /usr/local/lib/python3.10/dist-packages (from pandas>=0.17.0->pyLDAvis==2.1.2) (2.8.2)\n",
            "Requirement already satisfied: pytz>=2020.1 in /usr/local/lib/python3.10/dist-packages (from pandas>=0.17.0->pyLDAvis==2.1.2) (2022.7.1)\n",
            "Requirement already satisfied: attrs>=19.2.0 in /usr/local/lib/python3.10/dist-packages (from pytest->pyLDAvis==2.1.2) (23.1.0)\n",
            "Requirement already satisfied: iniconfig in /usr/local/lib/python3.10/dist-packages (from pytest->pyLDAvis==2.1.2) (2.0.0)\n",
            "Requirement already satisfied: packaging in /usr/local/lib/python3.10/dist-packages (from pytest->pyLDAvis==2.1.2) (23.1)\n",
            "Requirement already satisfied: pluggy<2.0,>=0.12 in /usr/local/lib/python3.10/dist-packages (from pytest->pyLDAvis==2.1.2) (1.0.0)\n",
            "Requirement already satisfied: exceptiongroup>=1.0.0rc8 in /usr/local/lib/python3.10/dist-packages (from pytest->pyLDAvis==2.1.2) (1.1.1)\n",
            "Requirement already satisfied: tomli>=1.0.0 in /usr/local/lib/python3.10/dist-packages (from pytest->pyLDAvis==2.1.2) (2.0.1)\n",
            "Requirement already satisfied: six>=1.5 in /usr/local/lib/python3.10/dist-packages (from python-dateutil>=2.8.1->pandas>=0.17.0->pyLDAvis==2.1.2) (1.16.0)\n",
            "Building wheels for collected packages: pyLDAvis\n",
            "  Building wheel for pyLDAvis (setup.py) ... \u001b[?25l\u001b[?25hdone\n",
            "  Created wheel for pyLDAvis: filename=pyLDAvis-2.1.2-py2.py3-none-any.whl size=97721 sha256=803a3389b87cadd1c613adae61161afd2c84065b17a5cc264c8f85142402d8bb\n",
            "  Stored in directory: /root/.cache/pip/wheels/d9/93/d6/16c95da19c32f037fd75135ea152d0df37254c25cd1a8b4b6c\n",
            "Successfully built pyLDAvis\n",
            "Installing collected packages: funcy, pyLDAvis\n",
            "Successfully installed funcy-2.0 pyLDAvis-2.1.2\n"
          ]
        }
      ]
    },
    {
      "cell_type": "code",
      "source": [
        "!pip install -U gensim"
      ],
      "metadata": {
        "colab": {
          "base_uri": "https://localhost:8080/"
        },
        "id": "kdJ9dQfl3GnH",
        "outputId": "723f5200-9640-4738-9cad-a50007962a5a"
      },
      "execution_count": null,
      "outputs": [
        {
          "output_type": "stream",
          "name": "stdout",
          "text": [
            "Looking in indexes: https://pypi.org/simple, https://us-python.pkg.dev/colab-wheels/public/simple/\n",
            "Requirement already satisfied: gensim in /usr/local/lib/python3.10/dist-packages (4.3.1)\n",
            "Requirement already satisfied: numpy>=1.18.5 in /usr/local/lib/python3.10/dist-packages (from gensim) (1.22.4)\n",
            "Requirement already satisfied: scipy>=1.7.0 in /usr/local/lib/python3.10/dist-packages (from gensim) (1.10.1)\n",
            "Requirement already satisfied: smart-open>=1.8.1 in /usr/local/lib/python3.10/dist-packages (from gensim) (6.3.0)\n"
          ]
        }
      ]
    },
    {
      "cell_type": "code",
      "source": [
        "import pyLDAvis\n",
        "import pyLDAvis.gensim as gensimvis"
      ],
      "metadata": {
        "id": "_wJmrIcOmb4i"
      },
      "execution_count": null,
      "outputs": []
    },
    {
      "cell_type": "code",
      "source": [
        "dictionary = corpora.Dictionary(data1['Коммент'])\n",
        "print('Размер словаря до фильтрации: {}'.format(len(dictionary)))\n",
        "dictionary.filter_extremes(no_below=3, no_above=0.7, keep_n=None)\n",
        "dictionary.save('comm.dict')\n",
        "print('Размер словаря после фильтрации: {}'.format(len(dictionary)))\n",
        "print(dictionary)"
      ],
      "metadata": {
        "id": "jz_nRcF6kg4z",
        "colab": {
          "base_uri": "https://localhost:8080/"
        },
        "outputId": "43b72fc7-f85d-45ba-b1cd-6f642537dae6"
      },
      "execution_count": null,
      "outputs": [
        {
          "output_type": "stream",
          "name": "stdout",
          "text": [
            "Размер словаря до фильтрации: 1065\n",
            "Размер словаря после фильтрации: 167\n",
            "Dictionary<167 unique tokens: ['автор', 'больший', 'большинство', 'большой', 'бояться']...>\n"
          ]
        },
        {
          "output_type": "stream",
          "name": "stderr",
          "text": [
            "/usr/local/lib/python3.10/dist-packages/ipykernel/ipkernel.py:283: DeprecationWarning: `should_run_async` will not call `transform_cell` automatically in the future. Please pass the result to `transformed_cell` argument and any exception that happen during thetransform in `preprocessing_exc_tuple` in IPython 7.17 and above.\n",
            "  and should_run_async(code)\n"
          ]
        }
      ]
    },
    {
      "cell_type": "code",
      "source": [
        "corpus = [dictionary.doc2bow(i) for i in data1['Коммент']]\n",
        "corpora.MmCorpus.serialize('comm.model', corpus)"
      ],
      "metadata": {
        "id": "a0r4AjUDkg8G",
        "colab": {
          "base_uri": "https://localhost:8080/"
        },
        "outputId": "6f0ed788-cf57-471d-e94c-e2201cc43cab"
      },
      "execution_count": null,
      "outputs": [
        {
          "output_type": "stream",
          "name": "stderr",
          "text": [
            "/usr/local/lib/python3.10/dist-packages/ipykernel/ipkernel.py:283: DeprecationWarning: `should_run_async` will not call `transform_cell` automatically in the future. Please pass the result to `transformed_cell` argument and any exception that happen during thetransform in `preprocessing_exc_tuple` in IPython 7.17 and above.\n",
            "  and should_run_async(code)\n"
          ]
        }
      ]
    },
    {
      "cell_type": "code",
      "source": [
        "lda = ldamodel.LdaModel(corpus, id2word=dictionary, num_topics=5, chunksize=50, update_every=1, passes=5)"
      ],
      "metadata": {
        "id": "wNZMVisZk4DS",
        "colab": {
          "base_uri": "https://localhost:8080/"
        },
        "outputId": "b009f1a3-dea0-41dd-a358-883f53855dc5"
      },
      "execution_count": null,
      "outputs": [
        {
          "output_type": "stream",
          "name": "stderr",
          "text": [
            "/usr/local/lib/python3.10/dist-packages/ipykernel/ipkernel.py:283: DeprecationWarning: `should_run_async` will not call `transform_cell` automatically in the future. Please pass the result to `transformed_cell` argument and any exception that happen during thetransform in `preprocessing_exc_tuple` in IPython 7.17 and above.\n",
            "  and should_run_async(code)\n"
          ]
        }
      ]
    },
    {
      "cell_type": "code",
      "source": [
        "lda.show_topics(num_topics=5, num_words=10, formatted=True)"
      ],
      "metadata": {
        "colab": {
          "base_uri": "https://localhost:8080/"
        },
        "id": "kOjH445K4Nix",
        "outputId": "1ba4adff-b380-404b-c7a0-60d83b08c69c"
      },
      "execution_count": null,
      "outputs": [
        {
          "output_type": "stream",
          "name": "stderr",
          "text": [
            "/usr/local/lib/python3.10/dist-packages/ipykernel/ipkernel.py:283: DeprecationWarning: `should_run_async` will not call `transform_cell` automatically in the future. Please pass the result to `transformed_cell` argument and any exception that happen during thetransform in `preprocessing_exc_tuple` in IPython 7.17 and above.\n",
            "  and should_run_async(code)\n"
          ]
        },
        {
          "output_type": "execute_result",
          "data": {
            "text/plain": [
              "[(0,\n",
              "  '0.175*\"книга\" + 0.052*\"понравиться\" + 0.050*\"очень\" + 0.047*\"всё\" + 0.034*\"отличный\" + 0.033*\"интересный\" + 0.028*\"хороший\" + 0.028*\"рекомендовать\" + 0.026*\"хотеть\" + 0.026*\"автор\"'),\n",
              " (1,\n",
              "  '0.134*\"круто\" + 0.133*\"крутой\" + 0.019*\"любить\" + 0.004*\"путь\" + 0.004*\"полезный\" + 0.004*\"получить\" + 0.004*\"открыть\" + 0.004*\"идти\" + 0.004*\"столько\" + 0.004*\"прочтение\"'),\n",
              " (2,\n",
              "  '0.055*\"это\" + 0.054*\"книга\" + 0.036*\"читать\" + 0.032*\"жизнь\" + 0.032*\"свой\" + 0.028*\"мысль\" + 0.024*\"который\" + 0.023*\"всё\" + 0.021*\"язык\" + 0.018*\"вода\"'),\n",
              " (3,\n",
              "  '0.155*\"книга\" + 0.110*\"супер\" + 0.098*\"хороший\" + 0.060*\"очень\" + 0.054*\"мотивация\" + 0.049*\"мотивировать\" + 0.041*\"просто\" + 0.033*\"советовать\" + 0.025*\"ещё\" + 0.024*\"отлично\"'),\n",
              " (4,\n",
              "  '0.088*\"огонь\" + 0.061*\"поучительный\" + 0.005*\"весь\" + 0.005*\"советовать\" + 0.005*\"книга\" + 0.005*\"мотивировать\" + 0.005*\"это\" + 0.005*\"вода\" + 0.005*\"цитата\" + 0.005*\"круто\"')]"
            ]
          },
          "metadata": {},
          "execution_count": 31
        }
      ]
    },
    {
      "cell_type": "code",
      "source": [
        "import pyLDAvis\n",
        "import pyLDAvis.gensim as gensimvis\n",
        "\n",
        "vis_data = gensimvis.prepare(lda, corpus, dictionary)\n",
        "pyLDAvis.display(vis_data)"
      ],
      "metadata": {
        "colab": {
          "base_uri": "https://localhost:8080/",
          "height": 951
        },
        "id": "UEms-zEFpWd6",
        "outputId": "c2c6f6b0-f182-4eb2-f3cb-c58807aaaf74"
      },
      "execution_count": null,
      "outputs": [
        {
          "output_type": "stream",
          "name": "stderr",
          "text": [
            "/usr/local/lib/python3.10/dist-packages/ipykernel/ipkernel.py:283: DeprecationWarning: `should_run_async` will not call `transform_cell` automatically in the future. Please pass the result to `transformed_cell` argument and any exception that happen during thetransform in `preprocessing_exc_tuple` in IPython 7.17 and above.\n",
            "  and should_run_async(code)\n",
            "/usr/local/lib/python3.10/dist-packages/pyLDAvis/_prepare.py:232: FutureWarning: In a future version of pandas all arguments of DataFrame.drop except for the argument 'labels' will be keyword-only.\n",
            "  head(R).drop('saliency', 1)\n"
          ]
        },
        {
          "output_type": "execute_result",
          "data": {
            "text/plain": [
              "<IPython.core.display.HTML object>"
            ],
            "text/html": [
              "\n",
              "<link rel=\"stylesheet\" type=\"text/css\" href=\"https://cdn.rawgit.com/bmabey/pyLDAvis/files/ldavis.v1.0.0.css\">\n",
              "\n",
              "\n",
              "<div id=\"ldavis_el11421404743736748645972413778\"></div>\n",
              "<script type=\"text/javascript\">\n",
              "\n",
              "var ldavis_el11421404743736748645972413778_data = {\"mdsDat\": {\"x\": [0.1591689171353791, -0.16553015893600503, -0.1765430783236461, 0.10192712159469917, 0.08097719852957247], \"y\": [-0.00412169952119886, 0.1423996359593112, -0.13759385730731177, -0.00039940450023901277, -0.00028467463056157475], \"topics\": [1, 2, 3, 4, 5], \"cluster\": [1, 1, 1, 1, 1], \"Freq\": [51.689686679218525, 31.57696775077867, 11.628891121186822, 2.7247949120969706, 2.379659536719009]}, \"tinfo\": {\"Term\": [\"\\u043a\\u043d\\u0438\\u0433\\u0430\", \"\\u0445\\u043e\\u0440\\u043e\\u0448\\u0438\\u0439\", \"\\u0441\\u0443\\u043f\\u0435\\u0440\", \"\\u043e\\u0447\\u0435\\u043d\\u044c\", \"\\u043a\\u0440\\u0443\\u0442\\u043e\\u0439\", \"\\u043f\\u043e\\u043d\\u0440\\u0430\\u0432\\u0438\\u0442\\u044c\\u0441\\u044f\", \"\\u043a\\u0440\\u0443\\u0442\\u043e\", \"\\u044d\\u0442\\u043e\", \"\\u043c\\u043e\\u0442\\u0438\\u0432\\u0438\\u0440\\u043e\\u0432\\u0430\\u0442\\u044c\", \"\\u043c\\u043e\\u0442\\u0438\\u0432\\u0430\\u0446\\u0438\\u044f\", \"\\u043f\\u0440\\u043e\\u0441\\u0442\\u043e\", \"\\u043e\\u0442\\u043b\\u0438\\u0447\\u043d\\u044b\\u0439\", \"\\u0438\\u043d\\u0442\\u0435\\u0440\\u0435\\u0441\\u043d\\u044b\\u0439\", \"\\u043e\\u0433\\u043e\\u043d\\u044c\", \"\\u0441\\u0432\\u043e\\u0439\", \"\\u0436\\u0438\\u0437\\u043d\\u044c\", \"\\u043b\\u044e\\u0431\\u0438\\u0442\\u044c\", \"\\u0440\\u0435\\u043a\\u043e\\u043c\\u0435\\u043d\\u0434\\u043e\\u0432\\u0430\\u0442\\u044c\", \"\\u043c\\u044b\\u0441\\u043b\\u044c\", \"\\u0441\\u043e\\u0432\\u0435\\u0442\\u043e\\u0432\\u0430\\u0442\\u044c\", \"\\u043a\\u043e\\u0442\\u043e\\u0440\\u044b\\u0439\", \"\\u0445\\u043e\\u0442\\u0435\\u0442\\u044c\", \"\\u0432\\u0441\\u0451\", \"\\u043f\\u043e\\u0443\\u0447\\u0438\\u0442\\u0435\\u043b\\u044c\\u043d\\u044b\\u0439\", \"\\u044f\\u0437\\u044b\\u043a\", \"\\u0441\\u043f\\u0430\\u0441\\u0438\\u0431\\u043e\", \"\\u0437\\u043d\\u0430\\u0442\\u044c\", \"\\u043f\\u0440\\u043e\\u0447\\u0438\\u0442\\u0430\\u0442\\u044c\", \"\\u0432\\u043e\\u0434\\u0430\", \"\\u0441\\u0430\\u043c\\u043e\\u0440\\u0430\\u0437\\u0432\\u0438\\u0442\\u0438\\u0435\", \"\\u044d\\u0442\\u043e\", \"\\u0441\\u0432\\u043e\\u0439\", \"\\u0436\\u0438\\u0437\\u043d\\u044c\", \"\\u043c\\u044b\\u0441\\u043b\\u044c\", \"\\u043a\\u043e\\u0442\\u043e\\u0440\\u044b\\u0439\", \"\\u044f\\u0437\\u044b\\u043a\", \"\\u0432\\u043e\\u0434\\u0430\", \"\\u0441\\u0430\\u043c\\u043e\\u0440\\u0430\\u0437\\u0432\\u0438\\u0442\\u0438\\u0435\", \"\\u043a\\u0430\\u0436\\u0434\\u044b\\u0439\", \"\\u043d\\u0430\\u0447\\u0430\\u0442\\u044c\", \"\\u043c\\u043e\\u0447\\u044c\", \"\\u043f\\u0435\\u0440\\u0432\\u044b\\u0439\", \"\\u0437\\u0430\\u0439\\u0442\\u0438\", \"\\u0441\\u0430\\u043c\\u044b\\u0439\", \"\\u043f\\u0440\\u043e\\u0441\\u0442\\u043e\\u0439\", \"\\u0441\\u043e\\u0432\\u0435\\u0442\", \"\\u0434\\u0435\\u0439\\u0441\\u0442\\u0432\\u043e\\u0432\\u0430\\u0442\\u044c\", \"\\u0434\\u0435\\u043b\\u0430\\u0442\\u044c\", \"\\u0434\\u0443\\u043c\\u0430\\u0442\\u044c\", \"\\u0438\\u0441\\u0442\\u0438\\u043d\\u0430\", \"\\u043b\\u0438\\u0442\\u0435\\u0440\\u0430\\u0442\\u0443\\u0440\\u0430\", \"\\u0434\\u0435\\u0439\\u0441\\u0442\\u0432\\u0438\\u0442\\u0435\\u043b\\u044c\\u043d\\u043e\", \"\\u0436\\u0435\\u043b\\u0430\\u043d\\u0438\\u0435\", \"\\u043f\\u043e\\u0434\\u043e\\u0431\\u043d\\u044b\\u0439\", \"\\u0433\\u043e\\u0432\\u043e\\u0440\\u0438\\u0442\\u044c\", \"\\u0441\\u043e\\u0431\\u0441\\u0442\\u0432\\u0435\\u043d\\u043d\\u044b\\u0439\", \"\\u0433\\u043b\\u0430\\u0432\\u0430\", \"\\u0436\\u0430\\u043d\\u0440\", \"\\u0432\\u043e\\u0437\\u043c\\u043e\\u0436\\u043d\\u043e\", \"\\u0441\\u0442\\u043e\\u0438\\u0442\\u044c\", \"\\u0447\\u0438\\u0442\\u0430\\u0442\\u044c\", \"\\u0432\\u0435\\u0441\\u044c\", \"\\u0434\\u0430\\u0432\\u0430\\u0442\\u044c\", \"\\u043a\\u043d\\u0438\\u0433\\u0430\", \"\\u0432\\u0441\\u0451\", \"\\u043f\\u0440\\u043e\\u0447\\u0442\\u0435\\u043d\\u0438\\u0435\", \"\\u0430\\u0432\\u0442\\u043e\\u0440\", \"\\u043f\\u0440\\u043e\\u0447\\u0438\\u0442\\u0430\\u0442\\u044c\", \"\\u043f\\u043e\\u043d\\u0440\\u0430\\u0432\\u0438\\u0442\\u044c\\u0441\\u044f\", \"\\u043e\\u0442\\u043b\\u0438\\u0447\\u043d\\u044b\\u0439\", \"\\u0440\\u0435\\u043a\\u043e\\u043c\\u0435\\u043d\\u0434\\u043e\\u0432\\u0430\\u0442\\u044c\", \"\\u0441\\u043f\\u0430\\u0441\\u0438\\u0431\\u043e\", \"\\u0438\\u043d\\u0442\\u0435\\u0440\\u0435\\u0441\\u043d\\u044b\\u0439\", \"\\u0437\\u043d\\u0430\\u0442\\u044c\", \"\\u0441\\u043b\\u043e\\u0432\\u043e\", \"\\u0445\\u043e\\u0442\\u0435\\u0442\\u044c\\u0441\\u044f\", \"\\u0434\\u043e\\u0447\\u0438\\u0442\\u0430\\u0442\\u044c\", \"\\u043a\\u043b\\u0430\\u0441\\u0441\\u043d\\u044b\\u0439\", \"\\u0447\\u0438\\u0442\\u0430\\u0442\\u044c\\u0441\\u044f\", \"\\u0445\\u043e\\u0442\\u0435\\u0442\\u044c\", \"\\u043b\\u0435\\u0433\\u043a\\u043e\", \"\\u0431\\u043e\\u044f\\u0442\\u044c\\u0441\\u044f\", \"\\u0448\\u0438\\u043a\\u0430\\u0440\\u043d\\u044b\\u0439\", \"\\u043c\\u043e\\u0442\\u0438\\u0432\\u0430\\u0446\\u0438\\u043e\\u043d\\u043d\\u044b\\u0439\", \"\\u0442\\u043e\\u0447\\u043d\\u043e\", \"\\u043e\\u0431\\u044f\\u0437\\u0430\\u0442\\u0435\\u043b\\u044c\\u043d\\u043e\", \"\\u0447\\u0430\\u0441\\u0442\\u044c\", \"\\u0436\\u0438\\u0442\\u044c\", \"\\u0443\\u0447\\u0438\\u0442\\u044c\", \"\\u0434\\u043e\\u0441\\u0442\\u0438\\u0433\\u043d\\u0443\\u0442\\u044c\", \"\\u043f\\u0438\\u0441\\u0430\\u0442\\u044c\", \"\\u0434\\u044b\\u0445\\u0430\\u043d\\u0438\\u0435\", \"\\u0441\\u043a\\u0430\\u0437\\u0430\\u0442\\u044c\", \"\\u0441\\u0442\\u0430\\u0442\\u044c\", \"\\u0432\\u0434\\u043e\\u0445\\u043d\\u043e\\u0432\\u0438\\u0442\\u044c\", \"\\u043f\\u0440\\u0435\\u043a\\u0440\\u0430\\u0441\\u043d\\u044b\\u0439\", \"\\u043e\\u0442\\u043a\\u0440\\u044b\\u0442\\u044c\", \"\\u043c\\u0430\\u043b\\u043e\", \"\\u043e\\u0447\\u0435\\u043d\\u044c\", \"\\u043a\\u043d\\u0438\\u0433\\u0430\", \"\\u043d\\u0430\\u043f\\u0438\\u0441\\u0430\\u0442\\u044c\", \"\\u0432\\u0441\\u0451\", \"\\u043c\\u043e\\u0442\\u0438\\u0432\\u0438\\u0440\\u043e\\u0432\\u0430\\u0442\\u044c\", \"\\u0430\\u0432\\u0442\\u043e\\u0440\", \"\\u043f\\u0440\\u043e\\u0441\\u0442\\u043e\", \"\\u0445\\u043e\\u0440\\u043e\\u0448\\u0438\\u0439\", \"\\u0447\\u0438\\u0442\\u0430\\u0442\\u044c\", \"\\u0432\\u0440\\u0435\\u043c\\u044f\", \"\\u043f\\u0440\\u043e\\u0447\\u0442\\u0435\\u043d\\u0438\\u0435\", \"\\u0441\\u0443\\u043f\\u0435\\u0440\", \"\\u043c\\u043e\\u0442\\u0438\\u0432\\u0430\\u0446\\u0438\\u044f\", \"\\u043e\\u0442\\u043b\\u0438\\u0447\\u043d\\u043e\", \"\\u0435\\u0449\\u0451\", \"\\u0441\\u043e\\u0432\\u0435\\u0442\\u043e\\u0432\\u0430\\u0442\\u044c\", \"\\u0437\\u0430\\u0441\\u0442\\u0430\\u0432\\u0438\\u0442\\u044c\", \"\\u043f\\u0440\\u043e\\u0447\\u0435\\u0441\\u0442\\u044c\", \"\\u0447\\u0442\\u0435\\u043d\\u0438\\u0435\", \"\\u0441\\u0438\\u043b\\u0430\", \"\\u0445\\u043e\\u0440\\u043e\\u0448\\u0438\\u0439\", \"\\u0434\\u043e\\u0432\\u043e\\u043b\\u044c\\u043d\\u043e\", \"\\u043c\\u043e\\u0442\\u0438\\u0432\\u0438\\u0440\\u043e\\u0432\\u0430\\u0442\\u044c\", \"\\u043f\\u043e\\u0437\\u0438\\u0442\\u0438\\u0432\\u043d\\u044b\\u0439\", \"\\u043d\\u0443\\u0436\\u043d\\u043e\", \"\\u043b\\u0451\\u0433\\u043a\\u0438\\u0439\", \"\\u043f\\u0440\\u043e\\u0441\\u0442\\u043e\", \"\\u0432\\u0434\\u043e\\u0445\\u043d\\u043e\\u0432\\u043b\\u044f\\u0442\\u044c\", \"\\u0437\\u0430\\u0434\\u0443\\u043c\\u0430\\u0442\\u044c\\u0441\\u044f\", \"\\u0441\\u043c\\u043e\\u0447\\u044c\", \"\\u043e\\u0447\\u0435\\u043d\\u044c\", \"\\u0432\\u0437\\u044f\\u0442\\u044c\", \"\\u043d\\u0430\\u043f\\u043e\\u043c\\u043d\\u0438\\u0442\\u044c\", \"\\u043c\\u0438\\u0440\", \"\\u043f\\u0440\\u043e\\u0447\\u0438\\u0442\\u0430\\u0442\\u044c\", \"\\u0432\\u0437\\u0433\\u043b\\u044f\\u043d\\u0443\\u0442\\u044c\", \"\\u043e\\u0433\\u0440\\u043e\\u043c\\u043d\\u044b\\u0439\", \"\\u043a\\u043d\\u0438\\u0433\\u0430\", \"\\u0438\\u0437\\u043c\\u0435\\u043d\\u0438\\u0442\\u044c\", \"\\u0434\\u044b\\u0445\\u0430\\u043d\\u0438\\u0435\", \"\\u0434\\u0430\\u0432\\u0430\\u0442\\u044c\", \"\\u043d\\u0430\\u043f\\u0438\\u0441\\u0430\\u0442\\u044c\", \"\\u0432\\u0435\\u0441\\u044c\", \"\\u043a\\u0440\\u0443\\u0442\\u043e\", \"\\u043a\\u0440\\u0443\\u0442\\u043e\\u0439\", \"\\u043b\\u044e\\u0431\\u0438\\u0442\\u044c\", \"\\u0441\\u043c\\u043e\\u0447\\u044c\", \"\\u043c\\u0438\\u0440\", \"\\u0447\\u0443\\u0434\\u0435\\u0441\\u043d\\u044b\\u0439\", \"\\u043d\\u0435\\u0441\\u043a\\u043e\\u043b\\u044c\\u043a\\u043e\", \"\\u0447\\u0442\\u0435\\u043d\\u0438\\u0435\", \"\\u043f\\u043e\\u043d\\u0438\\u043c\\u0430\\u0442\\u044c\", \"\\u0440\\u0430\\u0431\\u043e\\u0442\\u0430\", \"\\u0432\\u043d\\u0438\\u043c\\u0430\\u043d\\u0438\\u0435\", \"\\u0432\\u0437\\u0433\\u043b\\u044f\\u043d\\u0443\\u0442\\u044c\", \"\\u0434\\u043e\\u0432\\u043e\\u043b\\u044c\\u043d\\u043e\", \"\\u0441\\u043c\\u043e\\u0442\\u0440\\u0435\\u0442\\u044c\", \"\\u0431\\u043e\\u043b\\u044c\\u0448\\u0438\\u0439\", \"\\u0432\\u0430\\u0436\\u043d\\u044b\\u0439\", \"\\u0441\\u0438\\u043b\\u044c\\u043d\\u044b\\u0439\", \"\\u0443\\u0441\\u043b\\u044b\\u0448\\u0430\\u0442\\u044c\", \"\\u043f\\u0440\\u0430\\u043a\\u0442\\u0438\\u043a\\u0430\", \"\\u043a\\u043e\\u043b\\u0438\\u0447\\u0435\\u0441\\u0442\\u0432\\u043e\", \"\\u0435\\u0434\\u0438\\u043d\\u0441\\u0442\\u0432\\u0435\\u043d\\u043d\\u044b\\u0439\", \"\\u043f\\u044b\\u0442\\u0430\\u0442\\u044c\\u0441\\u044f\", \"\\u0431\\u043e\\u043b\\u044c\\u0448\\u0438\\u043d\\u0441\\u0442\\u0432\\u043e\", \"\\u043e\\u0433\\u0440\\u043e\\u043c\\u043d\\u044b\\u0439\", \"\\u0437\\u0430\\u0434\\u0443\\u043c\\u0430\\u0442\\u044c\\u0441\\u044f\", \"\\u043f\\u043e\\u0443\\u0447\\u0438\\u0442\\u0435\\u043b\\u044c\\u043d\\u044b\\u0439\", \"\\u043f\\u0440\\u0438\\u043c\\u0435\\u0440\", \"\\u0432\\u0437\\u044f\\u0442\\u044c\", \"\\u043e\\u0442\\u043a\\u0440\\u044b\\u0442\\u044c\", \"\\u0445\\u043e\\u0442\\u044f\", \"\\u0441\\u0442\\u043e\\u043b\\u044c\\u043a\\u043e\", \"\\u0441\\u043a\\u0430\\u0437\\u0430\\u0442\\u044c\", \"\\u043f\\u0443\\u0442\\u044c\", \"\\u043f\\u043e\\u043b\\u0435\\u0437\\u043d\\u044b\\u0439\", \"\\u043f\\u043e\\u043b\\u0443\\u0447\\u0438\\u0442\\u044c\", \"\\u0438\\u0434\\u0442\\u0438\", \"\\u0438\\u043d\\u0444\\u043e\\u0440\\u043c\\u0430\\u0446\\u0438\\u044f\", \"\\u043f\\u0440\\u043e\\u0447\\u0442\\u0435\\u043d\\u0438\\u0435\", \"\\u0434\\u0435\\u0439\\u0441\\u0442\\u0432\\u0438\\u0442\\u0435\\u043b\\u044c\\u043d\\u043e\", \"\\u043a\\u043d\\u0438\\u0433\\u0430\", \"\\u043e\\u0447\\u0435\\u043d\\u044c\", \"\\u043d\\u043e\\u0432\\u044b\\u0439\", \"\\u0440\\u0435\\u043a\\u043e\\u043c\\u0435\\u043d\\u0434\\u043e\\u0432\\u0430\\u0442\\u044c\", \"\\u0441\\u0442\\u0430\\u0442\\u044c\", \"\\u0441\\u043b\\u043e\\u0432\\u043e\", \"\\u043d\\u0430\\u043f\\u0438\\u0441\\u0430\\u0442\\u044c\", \"\\u0432\\u0440\\u0435\\u043c\\u044f\", \"\\u043c\\u043e\\u0447\\u044c\", \"\\u043b\\u0435\\u0433\\u043a\\u043e\", \"\\u0437\\u043d\\u0430\\u0442\\u044c\", \"\\u0432\\u043e\\u0434\\u0430\", \"\\u0446\\u0438\\u0442\\u0430\\u0442\\u0430\", \"\\u043e\\u0442\\u043b\\u0438\\u0447\\u043d\\u043e\", \"\\u0432\\u0434\\u043e\\u0445\\u043d\\u043e\\u0432\\u0438\\u0442\\u044c\", \"\\u0447\\u0430\\u0441\\u0442\\u044c\", \"\\u0438\\u0441\\u0442\\u0438\\u043d\\u0430\", \"\\u043e\\u0433\\u043e\\u043d\\u044c\", \"\\u043f\\u043e\\u0443\\u0447\\u0438\\u0442\\u0435\\u043b\\u044c\\u043d\\u044b\\u0439\", \"\\u0441\\u043c\\u043e\\u0447\\u044c\", \"\\u043c\\u0438\\u0440\", \"\\u0447\\u0443\\u0434\\u0435\\u0441\\u043d\\u044b\\u0439\", \"\\u043d\\u0435\\u0441\\u043a\\u043e\\u043b\\u044c\\u043a\\u043e\", \"\\u0447\\u0442\\u0435\\u043d\\u0438\\u0435\", \"\\u043f\\u043e\\u043d\\u0438\\u043c\\u0430\\u0442\\u044c\", \"\\u0440\\u0430\\u0431\\u043e\\u0442\\u0430\", \"\\u0432\\u043d\\u0438\\u043c\\u0430\\u043d\\u0438\\u0435\", \"\\u0432\\u0437\\u0433\\u043b\\u044f\\u043d\\u0443\\u0442\\u044c\", \"\\u0434\\u043e\\u0432\\u043e\\u043b\\u044c\\u043d\\u043e\", \"\\u0441\\u043c\\u043e\\u0442\\u0440\\u0435\\u0442\\u044c\", \"\\u0431\\u043e\\u043b\\u044c\\u0448\\u0438\\u0439\", \"\\u0432\\u0430\\u0436\\u043d\\u044b\\u0439\", \"\\u0441\\u0438\\u043b\\u044c\\u043d\\u044b\\u0439\", \"\\u0443\\u0441\\u043b\\u044b\\u0448\\u0430\\u0442\\u044c\", \"\\u043f\\u0440\\u0430\\u043a\\u0442\\u0438\\u043a\\u0430\", \"\\u043a\\u043e\\u043b\\u0438\\u0447\\u0435\\u0441\\u0442\\u0432\\u043e\", \"\\u0435\\u0434\\u0438\\u043d\\u0441\\u0442\\u0432\\u0435\\u043d\\u043d\\u044b\\u0439\", \"\\u043f\\u044b\\u0442\\u0430\\u0442\\u044c\\u0441\\u044f\", \"\\u0431\\u043e\\u043b\\u044c\\u0448\\u0438\\u043d\\u0441\\u0442\\u0432\\u043e\", \"\\u043e\\u0433\\u0440\\u043e\\u043c\\u043d\\u044b\\u0439\", \"\\u0437\\u0430\\u0434\\u0443\\u043c\\u0430\\u0442\\u044c\\u0441\\u044f\", \"\\u043f\\u0440\\u0438\\u043c\\u0435\\u0440\", \"\\u0432\\u0437\\u044f\\u0442\\u044c\", \"\\u0445\\u043e\\u0442\\u044f\", \"\\u0440\\u0443\\u043a\\u0430\", \"\\u043d\\u0430\\u0447\\u0438\\u043d\\u0430\\u0442\\u044c\", \"\\u0438\\u043c\\u0435\\u043d\\u043d\\u043e\", \"\\u043f\\u0440\\u043e\\u0431\\u043b\\u0435\\u043c\\u0430\", \"\\u043f\\u0440\\u0435\\u043a\\u0440\\u0430\\u0441\\u043d\\u044b\\u0439\", \"\\u0432\\u0434\\u043e\\u0445\\u043d\\u043e\\u0432\\u0438\\u0442\\u044c\", \"\\u0441\\u043e\\u0432\\u0435\\u0442\\u043e\\u0432\\u0430\\u0442\\u044c\", \"\\u0432\\u0435\\u0441\\u044c\", \"\\u043a\\u043d\\u0438\\u0433\\u0430\", \"\\u043c\\u043e\\u0442\\u0438\\u0432\\u0438\\u0440\\u043e\\u0432\\u0430\\u0442\\u044c\", \"\\u044d\\u0442\\u043e\", \"\\u0432\\u043e\\u0434\\u0430\", \"\\u0446\\u0438\\u0442\\u0430\\u0442\\u0430\", \"\\u043a\\u0440\\u0443\\u0442\\u043e\", \"\\u043e\\u0442\\u043b\\u0438\\u0447\\u043d\\u043e\", \"\\u0447\\u0430\\u0441\\u0442\\u044c\", \"\\u0438\\u0441\\u0442\\u0438\\u043d\\u0430\", \"\\u043e\\u0431\\u044f\\u0437\\u0430\\u0442\\u0435\\u043b\\u044c\\u043d\\u043e\", \"\\u0437\\u0430\\u0441\\u0442\\u0430\\u0432\\u0438\\u0442\\u044c\", \"\\u0441\\u043f\\u0430\\u0441\\u0438\\u0431\\u043e\", \"\\u043d\\u0430\\u043f\\u0438\\u0441\\u0430\\u0442\\u044c\", \"\\u0441\\u0442\\u0430\\u043d\\u0434\\u0430\\u0440\\u0442\\u043d\\u044b\\u0439\", \"\\u0441\\u0434\\u0435\\u043b\\u0430\\u0442\\u044c\", \"\\u0441\\u0443\\u043f\\u0435\\u0440\", \"\\u043b\\u044e\\u0431\\u043e\\u0439\", \"\\u0441\\u0430\\u043c\\u044b\\u0439\", \"\\u0447\\u0438\\u0442\\u0430\\u0442\\u044c\", \"\\u043f\\u043e\\u043d\\u0440\\u0430\\u0432\\u0438\\u0442\\u044c\\u0441\\u044f\", \"\\u044e\\u043c\\u043e\\u0440\", \"\\u043e\\u0442\\u043b\\u0438\\u0447\\u043d\\u044b\\u0439\", \"\\u0434\\u043e\\u0447\\u0438\\u0442\\u0430\\u0442\\u044c\"], \"Freq\": [151.0, 32.0, 19.0, 36.0, 7.0, 25.0, 6.0, 43.0, 19.0, 10.0, 17.0, 16.0, 16.0, 4.0, 25.0, 25.0, 10.0, 13.0, 22.0, 7.0, 19.0, 14.0, 40.0, 3.0, 16.0, 10.0, 10.0, 13.0, 14.0, 13.0, 42.84423411966347, 24.964816777343604, 25.029260558491014, 21.920076412333316, 18.853769806763374, 15.95048686856164, 13.851572994957797, 13.131034714641823, 12.542974769192309, 12.34873745064075, 12.256784577898543, 9.399439186834284, 9.175019501961504, 8.528502556830302, 8.221706833081686, 8.091036847578922, 8.159300415673785, 8.066355147303074, 8.00022688620278, 7.696762673468291, 7.689456538743195, 7.686083977982463, 7.549529475295, 8.669300307009166, 6.909568246714073, 5.992687588033678, 7.062477832655053, 5.9263331932415495, 6.076524853854533, 7.632988651344473, 27.53113458855338, 12.553889680763877, 7.3037819264612835, 41.592317672081656, 17.65269455061112, 9.673948924790807, 12.279445478367727, 9.239294763096527, 24.405892832449688, 16.13016004139247, 12.993863512310382, 9.71881592703829, 15.446189222011592, 9.67468378185302, 6.731208897799353, 6.788258819989669, 6.165073088209253, 6.4476693678783095, 5.854578774501512, 12.247978696678569, 5.560828032664146, 6.8249171147641485, 4.0106336391740784, 3.811183285401869, 3.8097239751939225, 3.8086425810151066, 3.803434906932663, 3.7986812600237503, 3.795976894679087, 3.791214888742754, 6.371517748187654, 4.1263846114444975, 2.726222441570467, 5.900566623773947, 2.540808434656694, 2.395415911207376, 2.335749833409115, 3.7299586159651072, 23.733631690637303, 82.49510434052003, 7.727304041234808, 22.343648616416353, 10.579586335628182, 12.058253411385907, 8.9783548003554, 13.188957053001706, 11.65354889911938, 4.98654921052087, 3.8995192874286975, 19.077436998023728, 9.348827205689979, 4.177263025326524, 4.315769833832067, 5.730192797237748, 3.4144499886356865, 3.7461899257697286, 1.4926341583319747, 3.2269575711767757, 17.087371318586474, 1.1200226000345006, 8.450702081165362, 1.8848446912100663, 1.8152225282470331, 2.903105441182614, 7.11129008331643, 1.6748097103093653, 1.0719045299713332, 0.7045782431534016, 10.373618030819987, 0.8514527635878386, 0.9219192965062879, 0.5732094513126015, 3.1966302456477087, 0.571994418905779, 0.5670038627575044, 26.91534181683188, 0.7731272631825961, 0.5737617792753789, 0.9334688484753703, 1.152789630598329, 0.6299278137653745, 5.480993042851417, 5.408942080461438, 0.7932941917815256, 0.1770806881558983, 0.17717802641303246, 0.17704581873734226, 0.17705656239052828, 0.17704754607380857, 0.17706829309312364, 0.1770762654152758, 0.17711825297861056, 0.17708178909562408, 0.1770657685244421, 0.17710027729032937, 0.1771059148609941, 0.17714311903103758, 0.17707575290885172, 0.1770661671405497, 0.1770619342171213, 0.1770552336701696, 0.17704056080106573, 0.1770321518993671, 0.17703606213356557, 0.17714664963084784, 0.17709372859713293, 0.17705568923143544, 0.17705559432283838, 0.17706394627937874, 0.17962275798271538, 0.17704160479563327, 0.1795276405867522, 0.17880620237713887, 0.1822073658427301, 0.18199657384868279, 0.17966260061175682, 0.1795983285098348, 0.1785284049135745, 0.17904501138903522, 0.1785782888721838, 0.17854417872240416, 0.1783441493632623, 0.17814609410293902, 0.17804714239965505, 0.17789485206482916, 0.17782184837197856, 0.17771112800266042, 0.1777048260718163, 0.17760688039966108, 0.17759554831317334, 0.17752501224384604, 0.177417955346374, 0.17737875809579248, 0.17728261568698117, 0.17727037247796176, 0.1772450129008301, 0.17723705956039734, 3.125565000110884, 2.1715239198418375, 0.1835900888690515, 0.18371229750092302, 0.18354934160682415, 0.18355598914634944, 0.18355114854400184, 0.18357694298664864, 0.18358488356378733, 0.18363862751176988, 0.18359010544645682, 0.18357221842613813, 0.1836164137886679, 0.1836200939726445, 0.18366924597935896, 0.18358503276043503, 0.18357443979844834, 0.18356921791577885, 0.18355980194956845, 0.18354290957356775, 0.18353140485428956, 0.18353515134788737, 0.18367357268214224, 0.1836062684166243, 0.18356140995788253, 0.18356946657685833, 0.18354156680373845, 0.18354615874500654, 0.18353525081231917, 0.18353031074553977, 0.18353520108010327, 0.18379017815102236, 0.18380818121317813, 0.18534605052545255, 0.18537562461650772, 0.18512737797214043, 0.18452941438556464, 0.18416481093339673, 0.18403728095442395, 0.1839849958181078, 0.1838784694116501, 0.18382154260184994, 0.18380370531374715, 0.18380043956490305, 0.18379798610891865, 0.18377529164106296, 0.1837635714155159, 0.1837361192323391, 0.1837152482790664, 0.18371049056374533, 0.1837085841621358, 0.18370508632961752, 0.18369828959344453, 0.18369812381939152, 0.18369252065640013, 0.18369194044721462, 0.18368734850594653, 0.18368499451439393], \"Total\": [151.0, 32.0, 19.0, 36.0, 7.0, 25.0, 6.0, 43.0, 19.0, 10.0, 17.0, 16.0, 16.0, 4.0, 25.0, 25.0, 10.0, 13.0, 22.0, 7.0, 19.0, 14.0, 40.0, 3.0, 16.0, 10.0, 10.0, 13.0, 14.0, 13.0, 43.6481851649093, 25.792542957793476, 25.90733009224243, 22.710831400815398, 19.637561285325646, 16.738520143523747, 14.63396945014566, 13.914688010520837, 13.33928669554529, 13.134997741239438, 13.177171717817336, 10.183743634741054, 9.972513408146854, 9.321597501939976, 9.00556024063812, 8.878782113415426, 8.974120157915145, 8.873278750964284, 8.803183721090889, 8.479274040363018, 8.477659178647125, 8.476537573314207, 8.348947357198814, 9.760441181645493, 7.7966375781735575, 6.774732132885576, 7.991314813477525, 6.70778118726815, 6.890376576016216, 8.65916600609678, 39.748224503785245, 16.365725347273195, 8.824184422344123, 151.3664353861281, 40.55864987704472, 14.140987753323124, 24.899734370418003, 13.456880588550625, 25.262551760950803, 16.980370406104345, 13.852272411825487, 10.566525328713443, 16.844535758878155, 10.642275066015745, 7.582113148338781, 7.706022907342316, 7.038220746962767, 7.372164547447572, 6.701909695042726, 14.106410721522211, 6.409158171266604, 7.896319063975441, 4.8574908003554365, 4.6583645067995265, 4.658429811399833, 4.658703442914956, 4.660168715820818, 4.662008015225915, 4.662577031599338, 4.663946146265325, 8.030519315993116, 5.347379116571189, 3.6060278517897495, 7.850085988206483, 3.3874570853178265, 3.2488150656863426, 3.194548871234067, 5.208795005792901, 36.649548921980774, 151.3664353861281, 11.853517031112812, 40.55864987704472, 19.68879636774332, 24.899734370418003, 17.48721860253021, 32.144944467235476, 39.748224503785245, 11.404881789291778, 14.140987753323124, 19.94274587424221, 10.22772434435915, 5.048314855910302, 5.426629636846852, 7.334401404916029, 4.377316680083019, 4.878280573179426, 2.3585452759098646, 5.5129444056859045, 32.144944467235476, 2.5123652289897977, 19.68879636774332, 4.424495800209933, 4.295962938013239, 7.13890224417908, 17.48721860253021, 4.550453856343286, 2.9984656850363196, 2.256671707561947, 36.649548921980774, 3.145056785379384, 3.522096335944202, 2.272744951589417, 13.456880588550625, 2.4893566586510305, 2.659478664446543, 151.3664353861281, 4.543880071752209, 5.347379116571189, 8.824184422344123, 11.853517031112812, 16.365725347273195, 6.369671591479754, 7.77105132715654, 10.066732742144994, 2.256671707561947, 2.272744951589417, 2.284781920373757, 2.3029593072437367, 2.3585452759098646, 2.397283747942947, 2.479026188750894, 2.486281568702134, 2.4893566586510305, 2.5123652289897977, 2.515401452413802, 2.5408394897720785, 2.57323421714975, 2.5968918007924384, 2.614757154327433, 2.6151366174166153, 2.6410567603828414, 2.64361139876542, 2.643858897054206, 2.6442880243101534, 2.659478664446543, 2.9984656850363196, 3.054501051493335, 3.116304718138915, 3.145056785379384, 3.194548871234067, 3.150312689091329, 3.4199146719994387, 3.6060278517897495, 4.9922718420790115, 5.248422519258143, 4.308072099777218, 4.343317819325315, 4.4696718914122195, 14.140987753323124, 8.476537573314207, 151.3664353861281, 36.649548921980774, 6.453255198386282, 13.852272411825487, 7.850085988206483, 7.582113148338781, 11.853517031112812, 11.404881789291778, 13.177171717817336, 6.409158171266604, 10.642275066015745, 14.63396945014566, 9.136465626070564, 5.048314855910302, 3.3874570853178265, 4.660168715820818, 8.479274040363018, 4.00846915762139, 3.054501051493335, 2.256671707561947, 2.272744951589417, 2.284781920373757, 2.3029593072437367, 2.3585452759098646, 2.397283747942947, 2.479026188750894, 2.486281568702134, 2.4893566586510305, 2.5123652289897977, 2.515401452413802, 2.5408394897720785, 2.57323421714975, 2.5968918007924384, 2.614757154327433, 2.6151366174166153, 2.6410567603828414, 2.64361139876542, 2.643858897054206, 2.6442880243101534, 2.659478664446543, 2.9984656850363196, 3.116304718138915, 3.145056785379384, 3.150312689091329, 3.167991811392286, 3.168608876703431, 3.170415103652441, 3.170500921113039, 3.2488150656863426, 3.3874570853178265, 7.334401404916029, 16.365725347273195, 151.3664353861281, 19.68879636774332, 43.6481851649093, 14.63396945014566, 9.136465626070564, 6.369671591479754, 5.048314855910302, 4.660168715820818, 8.479274040363018, 4.658703442914956, 4.377316680083019, 10.566525328713443, 11.853517031112812, 5.9711988453697336, 8.459266548415679, 19.94274587424221, 6.251466662272341, 9.321597501939976, 39.748224503785245, 25.262551760950803, 8.403701946388567, 16.980370406104345, 7.038220746962767], \"Category\": [\"Default\", \"Default\", \"Default\", \"Default\", \"Default\", \"Default\", \"Default\", \"Default\", \"Default\", \"Default\", \"Default\", \"Default\", \"Default\", \"Default\", \"Default\", \"Default\", \"Default\", \"Default\", \"Default\", \"Default\", \"Default\", \"Default\", \"Default\", \"Default\", \"Default\", \"Default\", \"Default\", \"Default\", \"Default\", \"Default\", \"Topic1\", \"Topic1\", \"Topic1\", \"Topic1\", \"Topic1\", \"Topic1\", \"Topic1\", \"Topic1\", \"Topic1\", \"Topic1\", \"Topic1\", \"Topic1\", \"Topic1\", \"Topic1\", \"Topic1\", \"Topic1\", \"Topic1\", \"Topic1\", \"Topic1\", \"Topic1\", \"Topic1\", \"Topic1\", \"Topic1\", \"Topic1\", \"Topic1\", \"Topic1\", \"Topic1\", \"Topic1\", \"Topic1\", \"Topic1\", \"Topic1\", \"Topic1\", \"Topic1\", \"Topic1\", \"Topic1\", \"Topic1\", \"Topic1\", \"Topic1\", \"Topic2\", \"Topic2\", \"Topic2\", \"Topic2\", \"Topic2\", \"Topic2\", \"Topic2\", \"Topic2\", \"Topic2\", \"Topic2\", \"Topic2\", \"Topic2\", \"Topic2\", \"Topic2\", \"Topic2\", \"Topic2\", \"Topic2\", \"Topic2\", \"Topic2\", \"Topic2\", \"Topic2\", \"Topic2\", \"Topic2\", \"Topic2\", \"Topic2\", \"Topic2\", \"Topic2\", \"Topic2\", \"Topic2\", \"Topic2\", \"Topic2\", \"Topic2\", \"Topic2\", \"Topic2\", \"Topic2\", \"Topic2\", \"Topic2\", \"Topic2\", \"Topic2\", \"Topic2\", \"Topic2\", \"Topic3\", \"Topic3\", \"Topic3\", \"Topic3\", \"Topic3\", \"Topic3\", \"Topic3\", \"Topic3\", \"Topic3\", \"Topic3\", \"Topic3\", \"Topic3\", \"Topic3\", \"Topic3\", \"Topic3\", \"Topic3\", \"Topic3\", \"Topic3\", \"Topic3\", \"Topic3\", \"Topic3\", \"Topic3\", \"Topic3\", \"Topic3\", \"Topic3\", \"Topic3\", \"Topic3\", \"Topic3\", \"Topic3\", \"Topic3\", \"Topic3\", \"Topic3\", \"Topic4\", \"Topic4\", \"Topic4\", \"Topic4\", \"Topic4\", \"Topic4\", \"Topic4\", \"Topic4\", \"Topic4\", \"Topic4\", \"Topic4\", \"Topic4\", \"Topic4\", \"Topic4\", \"Topic4\", \"Topic4\", \"Topic4\", \"Topic4\", \"Topic4\", \"Topic4\", \"Topic4\", \"Topic4\", \"Topic4\", \"Topic4\", \"Topic4\", \"Topic4\", \"Topic4\", \"Topic4\", \"Topic4\", \"Topic4\", \"Topic4\", \"Topic4\", \"Topic4\", \"Topic4\", \"Topic4\", \"Topic4\", \"Topic4\", \"Topic4\", \"Topic4\", \"Topic4\", \"Topic4\", \"Topic4\", \"Topic4\", \"Topic4\", \"Topic4\", \"Topic4\", \"Topic4\", \"Topic4\", \"Topic4\", \"Topic4\", \"Topic4\", \"Topic4\", \"Topic4\", \"Topic4\", \"Topic4\", \"Topic4\", \"Topic5\", \"Topic5\", \"Topic5\", \"Topic5\", \"Topic5\", \"Topic5\", \"Topic5\", \"Topic5\", \"Topic5\", \"Topic5\", \"Topic5\", \"Topic5\", \"Topic5\", \"Topic5\", \"Topic5\", \"Topic5\", \"Topic5\", \"Topic5\", \"Topic5\", \"Topic5\", \"Topic5\", \"Topic5\", \"Topic5\", \"Topic5\", \"Topic5\", \"Topic5\", \"Topic5\", \"Topic5\", \"Topic5\", \"Topic5\", \"Topic5\", \"Topic5\", \"Topic5\", \"Topic5\", \"Topic5\", \"Topic5\", \"Topic5\", \"Topic5\", \"Topic5\", \"Topic5\", \"Topic5\", \"Topic5\", \"Topic5\", \"Topic5\", \"Topic5\", \"Topic5\", \"Topic5\", \"Topic5\", \"Topic5\", \"Topic5\", \"Topic5\", \"Topic5\", \"Topic5\", \"Topic5\", \"Topic5\", \"Topic5\", \"Topic5\", \"Topic5\"], \"logprob\": [30.0, 29.0, 28.0, 27.0, 26.0, 25.0, 24.0, 23.0, 22.0, 21.0, 20.0, 19.0, 18.0, 17.0, 16.0, 15.0, 14.0, 13.0, 12.0, 11.0, 10.0, 9.0, 8.0, 7.0, 6.0, 5.0, 4.0, 3.0, 2.0, 1.0, -2.8931000232696533, -3.433199882507324, -3.4305999279022217, -3.563199996948242, -3.713900089263916, -3.8810999393463135, -4.022200107574463, -4.075699806213379, -4.121500015258789, -4.1371002197265625, -4.144599914550781, -4.409999847412109, -4.434199810028076, -4.507199764251709, -4.543900012969971, -4.559899806976318, -4.551499843597412, -4.562900066375732, -4.571199893951416, -4.609799861907959, -4.610799789428711, -4.611199855804443, -4.629199981689453, -4.490900039672852, -4.717700004577637, -4.860099792480469, -4.695799827575684, -4.871200084686279, -4.846199989318848, -4.618199825286865, -3.3352999687194824, -4.12060022354126, -4.662199974060059, -2.9226999282836914, -3.7797999382019043, -4.381199836730957, -4.1427001953125, -4.427199840545654, -2.9630000591278076, -3.3770999908447266, -3.5933001041412354, -3.883699893951416, -3.4203999042510986, -3.8882999420166016, -4.251100063323975, -4.242599964141846, -4.338900089263916, -4.294099807739258, -4.390600204467773, -3.652400016784668, -4.4421000480651855, -4.237199783325195, -4.768899917602539, -4.819900035858154, -4.820300102233887, -4.820499897003174, -4.821899890899658, -4.823200225830078, -4.82390022277832, -4.825099945068359, -4.306000232696533, -4.7403998374938965, -5.154900074005127, -4.382800102233887, -5.225299835205078, -5.284299850463867, -5.309500217437744, -4.841400146484375, -2.9909000396728516, -1.7451000213623047, -4.11299991607666, -3.051300048828125, -3.7988998889923096, -3.668100118637085, -3.9630000591278076, -3.578399896621704, -3.702199935913086, -4.55109977722168, -4.796999931335449, -2.210400104522705, -2.9235999584198, -3.7291998863220215, -3.6965999603271484, -3.413100004196167, -3.9309000968933105, -3.838099956512451, -4.758299827575684, -3.987299919128418, -2.320499897003174, -5.045499801635742, -3.024600028991699, -4.525000095367432, -4.562699794769287, -4.093100070953369, -3.197200059890747, -4.643199920654297, -5.089399814605713, -5.508999824523926, -2.8196001052856445, -5.319699764251709, -5.240200042724609, -5.715400218963623, -3.996799945831299, -5.71750020980835, -5.72629976272583, -1.8661999702453613, -5.416200160980225, -5.714399814605713, -5.227700233459473, -5.01669979095459, -5.620999813079834, -2.006500005722046, -2.019700050354004, -3.939300060272217, -5.438899993896484, -5.438399791717529, -5.4390997886657715, -5.4390997886657715, -5.4390997886657715, -5.439000129699707, -5.438899993896484, -5.438700199127197, -5.438899993896484, -5.439000129699707, -5.438799858093262, -5.438799858093262, -5.438600063323975, -5.439000129699707, -5.439000129699707, -5.439000129699707, -5.4390997886657715, -5.4390997886657715, -5.439199924468994, -5.439199924468994, -5.438600063323975, -5.438799858093262, -5.4390997886657715, -5.4390997886657715, -5.439000129699707, -5.424699783325195, -5.4390997886657715, -5.42519998550415, -5.429200172424316, -5.410399913787842, -5.411499977111816, -5.4243998527526855, -5.424799919128418, -5.430799961090088, -5.4278998374938965, -5.430500030517578, -5.430699825286865, -5.43179988861084, -5.4328999519348145, -5.433499813079834, -5.434299945831299, -5.434700012207031, -5.435400009155273, -5.435400009155273, -5.435999870300293, -5.435999870300293, -5.436399936676025, -5.436999797821045, -5.43720006942749, -5.43779993057251, -5.437900066375732, -5.438000202178955, -5.438000202178955, -2.4326999187469482, -2.7969000339508057, -5.267399787902832, -5.26669979095459, -5.267600059509277, -5.267600059509277, -5.267600059509277, -5.267499923706055, -5.267399787902832, -5.267099857330322, -5.267399787902832, -5.267499923706055, -5.267199993133545, -5.267199993133545, -5.267000198364258, -5.267399787902832, -5.267499923706055, -5.267499923706055, -5.267600059509277, -5.267600059509277, -5.2677001953125, -5.2677001953125, -5.266900062561035, -5.267300128936768, -5.267499923706055, -5.267499923706055, -5.2677001953125, -5.267600059509277, -5.2677001953125, -5.2677001953125, -5.2677001953125, -5.266300201416016, -5.266200065612793, -5.257900238037109, -5.257699966430664, -5.258999824523926, -5.26230001449585, -5.2642998695373535, -5.264999866485596, -5.265200138092041, -5.2657999992370605, -5.26609992980957, -5.266200065612793, -5.266200065612793, -5.266300201416016, -5.26639986038208, -5.26639986038208, -5.266600131988525, -5.26669979095459, -5.26669979095459, -5.26669979095459, -5.2667999267578125, -5.2667999267578125, -5.2667999267578125, -5.2667999267578125, -5.2667999267578125, -5.266900062561035, -5.266900062561035], \"loglift\": [30.0, 29.0, 28.0, 27.0, 26.0, 25.0, 24.0, 23.0, 22.0, 21.0, 20.0, 19.0, 18.0, 17.0, 16.0, 15.0, 14.0, 13.0, 12.0, 11.0, 10.0, 9.0, 8.0, 7.0, 6.0, 5.0, 4.0, 3.0, 2.0, 1.0, 0.6413, 0.6273, 0.6254, 0.6245, 0.6192, 0.6117, 0.605, 0.6019, 0.5984, 0.5982, 0.5875, 0.5798, 0.5766, 0.571, 0.5688, 0.567, 0.5647, 0.5646, 0.5643, 0.5631, 0.5623, 0.562, 0.5593, 0.5414, 0.5391, 0.5373, 0.5364, 0.536, 0.5342, 0.5338, 0.2927, 0.3948, 0.4708, -0.6319, -0.1719, 0.2803, -0.047, 0.2839, 1.1182, 1.1014, 1.0888, 1.0691, 1.0661, 1.0574, 1.0337, 1.0259, 1.0203, 1.0187, 1.0176, 1.0115, 1.0108, 1.0069, 0.9612, 0.952, 0.9516, 0.9513, 0.9496, 0.9479, 0.9471, 0.9456, 0.9213, 0.8935, 0.8731, 0.8673, 0.8651, 0.848, 0.8396, 0.8188, 0.7182, 0.5458, 0.7249, 0.5565, 0.5316, 0.4276, 0.4861, 0.2619, -0.0742, 0.3254, -0.1355, 2.1073, 2.0618, 1.9623, 1.9226, 1.9049, 1.9033, 1.8876, 1.6942, 1.6161, 1.5198, 1.3438, 1.3059, 1.2984, 1.2902, 1.2519, 1.2519, 1.1522, 1.123, 0.9876, 0.8895, 0.845, 0.8113, 0.7742, 0.7143, 0.681, 0.6062, 0.4247, 0.3806, -0.0805, -0.0947, -0.1788, -1.1057, 3.4525, 3.2404, 1.062, 1.0577, 1.0512, 1.0452, 1.0373, 1.0134, 0.9972, 0.9637, 0.9611, 0.9596, 0.9503, 0.9493, 0.9393, 0.9268, 0.9173, 0.9104, 0.9102, 0.9003, 0.8993, 0.8991, 0.899, 0.8939, 0.7736, 0.7549, 0.7348, 0.7257, 0.7244, 0.7239, 0.6557, 0.5987, 0.2923, 0.2411, 0.4256, 0.4171, 0.3825, -0.7664, -0.2573, -3.1398, -1.7227, 0.013, -0.7514, -0.1843, -0.15, -0.5974, -0.5589, -0.7039, 0.0168, -0.4907, -0.8098, -0.339, 0.2537, 0.6526, 0.3335, -0.2651, 3.4894, 3.397, 1.2293, 1.2228, 1.2167, 1.2088, 1.1849, 1.1688, 1.1353, 1.1326, 1.1311, 1.1218, 1.1209, 1.1108, 1.0984, 1.0888, 1.0819, 1.0817, 1.0718, 1.0708, 1.0706, 1.0705, 1.0655, 0.9452, 0.9064, 0.8972, 0.8954, 0.8898, 0.8896, 0.889, 0.889, 0.866, 0.8243, 0.0601, -0.7423, -2.9682, -0.9318, -1.7299, -0.6377, -0.167, 0.1932, 0.4254, 0.5053, -0.0933, 0.5056, 0.5677, -0.3136, -0.4287, 0.2569, -0.0914, -0.9491, 0.211, -0.1886, -1.6388, -1.1856, -0.085, -0.7884, 0.0923]}, \"token.table\": {\"Topic\": [1, 2, 1, 2, 1, 1, 2, 1, 2, 2, 3, 1, 2, 3, 1, 3, 1, 3, 1, 2, 1, 1, 1, 2, 1, 2, 1, 1, 1, 3, 1, 1, 1, 1, 3, 2, 2, 1, 2, 3, 1, 3, 1, 1, 1, 2, 2, 3, 1, 3, 2, 1, 1, 2, 3, 1, 1, 2, 1, 1, 1, 2, 1, 2, 3, 1, 1, 4, 1, 4, 2, 1, 1, 2, 4, 1, 2, 1, 3, 1, 2, 2, 3, 2, 3, 2, 3, 1, 1, 1, 2, 3, 1, 3, 1, 1, 2, 1, 1, 2, 3, 2, 5, 2, 3, 2, 3, 2, 1, 2, 3, 1, 1, 2, 1, 2, 1, 3, 1, 1, 1, 2, 2, 5, 1, 2, 1, 1, 1, 2, 3, 1, 3, 1, 2, 3, 1, 2, 1, 1, 2, 2, 1, 1, 1, 1, 1, 2, 1, 3, 1, 2, 2, 1, 2, 2, 3, 1, 1, 1, 3, 2, 1, 1, 2, 1, 1, 3, 2, 1, 2, 1, 2, 3, 1, 2, 2, 1, 1, 2, 2, 1, 2, 2, 3, 2, 2, 1, 1, 2, 1], \"Freq\": [0.4819328520330135, 0.4819328520330135, 0.39357070921851234, 0.39357070921851234, 0.7563472593049932, 0.12664128588245585, 0.886489001177191, 0.7772320089133998, 0.8856200756026777, 0.43951659837447216, 0.43951659837447216, 0.7943430385238635, 0.18330993196704543, 0.06110331065568181, 0.40171021557911063, 0.40171021557911063, 0.6359185656988837, 0.31795928284944186, 0.4022070599678744, 0.4022070599678744, 0.9566782305849798, 0.8707796930699829, 0.5260905032469073, 0.4384087527057561, 0.44380175510200087, 0.5424243673468899, 0.8759509746999766, 0.8978229306946729, 0.793274444975898, 0.11332492071084259, 0.9437815771837736, 0.8914522938434277, 0.9015833069743941, 0.39803130072855375, 0.39803130072855375, 0.8576428360355355, 0.8524881807080582, 0.908762131231386, 0.74802999989364, 0.18700749997341, 0.7565408444425721, 0.7371057668723093, 0.8944835605831076, 0.9582046284076835, 0.9649778619019442, 0.8579993828702512, 0.33350390000807606, 0.33350390000807606, 0.9024806116227051, 0.6853513737423044, 0.9396487065001036, 0.9209549396091291, 0.4401524618647694, 0.2200762309323847, 0.2200762309323847, 0.6308322205808073, 0.05936643278951369, 0.8904964918427054, 0.894920275397704, 0.943476996016218, 0.9745648546815778, 0.8138722299785549, 0.2774723464476132, 0.5417317240167687, 0.17837507985917994, 0.7572726304110498, 0.9675335813820187, 0.7849698258679672, 0.25736543432815134, 0.6434135858203784, 0.9361603879428452, 0.9436567136539039, 0.5960225778996429, 0.29801128894982143, 0.09933709631660714, 0.7998123112732963, 0.15996246225465927, 0.5603102358295382, 0.42023267687215365, 0.1919829824149082, 0.7679319296596328, 0.4399965773989123, 0.4399965773989123, 0.85867046130921, 0.8799611425745678, 0.5586933703078769, 0.4063224511330014, 0.910665828523306, 0.968700775930648, 0.25308944106003944, 0.6749051761601053, 0.08436314702001316, 0.5678436389116656, 0.2839218194558328, 0.9135898030895027, 0.6311918188150654, 0.4342239121875043, 0.9297633234000068, 0.2327766823012844, 0.2327766823012844, 0.4655533646025688, 0.8586079901873289, 0.7484153880281289, 0.37601354482311944, 0.37601354482311944, 0.6260664903296321, 0.7923436065634872, 0.9422644864241649, 0.05457093085258926, 0.6548511702310711, 0.2728546542629463, 0.8837614459673941, 0.12452494797048282, 0.7471496878228969, 0.9220894662963082, 0.10245438514403424, 0.45202890686552444, 0.45202890686552444, 0.7621337621585761, 0.6963671755064494, 0.4171387725203896, 0.4171387725203896, 0.9500227937027972, 0.6547714229864832, 0.76477840074593, 0.615609063477881, 0.6417857625920542, 0.6308151455442184, 0.0571846228224831, 0.5146616054023478, 0.4002923597573817, 0.8883400683834782, 0.8199610374999392, 0.6688028433318621, 0.07431142703687357, 0.2229342811106207, 0.7071641793657594, 0.2828656717463037, 0.8012384194075088, 0.7564700227490979, 0.806768403284896, 0.9384741805179984, 0.6313147631278218, 0.934264569221441, 0.9654997438075344, 0.9692723994260519, 0.5910677919158891, 0.35464067514953346, 0.3627825446484193, 0.5441738169726289, 0.7701514554398079, 0.8319403297207023, 0.9232254733014212, 0.3975508557651467, 0.3975508557651467, 0.44313047247815035, 0.44313047247815035, 0.885643872305311, 0.9010244758582794, 0.1363437784206534, 0.8180626705239203, 0.9463848984326031, 0.8373527878538439, 0.12738713964437362, 0.7643228378662418, 0.9238765020057738, 0.877214868710763, 0.9527273786575274, 0.85865842396325, 0.7648893881751092, 0.857894673458711, 0.062218181836915264, 0.4044181819399492, 0.5288545456137798, 0.0708897550015537, 0.8506770600186445, 0.9083803778120597, 0.6348576149045309, 0.6567090870324324, 0.3283545435162162, 0.8583380224884112, 0.7044339803739799, 0.30190027730313423, 0.8952672108426177, 0.42399016470617734, 0.437678533378982, 0.8234704221585574, 0.9851497797111068, 0.8329662385287476, 0.11899517693267823, 0.9558790061970033], \"Term\": [\"\\u0430\\u0432\\u0442\\u043e\\u0440\", \"\\u0430\\u0432\\u0442\\u043e\\u0440\", \"\\u0431\\u043e\\u043b\\u044c\\u0448\\u0438\\u0439\", \"\\u0431\\u043e\\u043b\\u044c\\u0448\\u0438\\u0439\", \"\\u0431\\u043e\\u043b\\u044c\\u0448\\u0438\\u043d\\u0441\\u0442\\u0432\\u043e\", \"\\u0431\\u043e\\u044f\\u0442\\u044c\\u0441\\u044f\", \"\\u0431\\u043e\\u044f\\u0442\\u044c\\u0441\\u044f\", \"\\u0432\\u0430\\u0436\\u043d\\u044b\\u0439\", \"\\u0432\\u0434\\u043e\\u0445\\u043d\\u043e\\u0432\\u0438\\u0442\\u044c\", \"\\u0432\\u0434\\u043e\\u0445\\u043d\\u043e\\u0432\\u043b\\u044f\\u0442\\u044c\", \"\\u0432\\u0434\\u043e\\u0445\\u043d\\u043e\\u0432\\u043b\\u044f\\u0442\\u044c\", \"\\u0432\\u0435\\u0441\\u044c\", \"\\u0432\\u0435\\u0441\\u044c\", \"\\u0432\\u0435\\u0441\\u044c\", \"\\u0432\\u0437\\u0433\\u043b\\u044f\\u043d\\u0443\\u0442\\u044c\", \"\\u0432\\u0437\\u0433\\u043b\\u044f\\u043d\\u0443\\u0442\\u044c\", \"\\u0432\\u0437\\u044f\\u0442\\u044c\", \"\\u0432\\u0437\\u044f\\u0442\\u044c\", \"\\u0432\\u043d\\u0438\\u043c\\u0430\\u043d\\u0438\\u0435\", \"\\u0432\\u043d\\u0438\\u043c\\u0430\\u043d\\u0438\\u0435\", \"\\u0432\\u043e\\u0434\\u0430\", \"\\u0432\\u043e\\u0437\\u043c\\u043e\\u0436\\u043d\\u043e\", \"\\u0432\\u0440\\u0435\\u043c\\u044f\", \"\\u0432\\u0440\\u0435\\u043c\\u044f\", \"\\u0432\\u0441\\u0451\", \"\\u0432\\u0441\\u0451\", \"\\u0433\\u043b\\u0430\\u0432\\u0430\", \"\\u0433\\u043e\\u0432\\u043e\\u0440\\u0438\\u0442\\u044c\", \"\\u0434\\u0430\\u0432\\u0430\\u0442\\u044c\", \"\\u0434\\u0430\\u0432\\u0430\\u0442\\u044c\", \"\\u0434\\u0435\\u0439\\u0441\\u0442\\u0432\\u0438\\u0442\\u0435\\u043b\\u044c\\u043d\\u043e\", \"\\u0434\\u0435\\u0439\\u0441\\u0442\\u0432\\u043e\\u0432\\u0430\\u0442\\u044c\", \"\\u0434\\u0435\\u043b\\u0430\\u0442\\u044c\", \"\\u0434\\u043e\\u0432\\u043e\\u043b\\u044c\\u043d\\u043e\", \"\\u0434\\u043e\\u0432\\u043e\\u043b\\u044c\\u043d\\u043e\", \"\\u0434\\u043e\\u0441\\u0442\\u0438\\u0433\\u043d\\u0443\\u0442\\u044c\", \"\\u0434\\u043e\\u0447\\u0438\\u0442\\u0430\\u0442\\u044c\", \"\\u0434\\u0443\\u043c\\u0430\\u0442\\u044c\", \"\\u0434\\u044b\\u0445\\u0430\\u043d\\u0438\\u0435\", \"\\u0434\\u044b\\u0445\\u0430\\u043d\\u0438\\u0435\", \"\\u0435\\u0434\\u0438\\u043d\\u0441\\u0442\\u0432\\u0435\\u043d\\u043d\\u044b\\u0439\", \"\\u0435\\u0449\\u0451\", \"\\u0436\\u0430\\u043d\\u0440\", \"\\u0436\\u0435\\u043b\\u0430\\u043d\\u0438\\u0435\", \"\\u0436\\u0438\\u0437\\u043d\\u044c\", \"\\u0436\\u0438\\u0442\\u044c\", \"\\u0437\\u0430\\u0434\\u0443\\u043c\\u0430\\u0442\\u044c\\u0441\\u044f\", \"\\u0437\\u0430\\u0434\\u0443\\u043c\\u0430\\u0442\\u044c\\u0441\\u044f\", \"\\u0437\\u0430\\u0439\\u0442\\u0438\", \"\\u0437\\u0430\\u0441\\u0442\\u0430\\u0432\\u0438\\u0442\\u044c\", \"\\u0437\\u043d\\u0430\\u0442\\u044c\", \"\\u0438\\u0434\\u0442\\u0438\", \"\\u0438\\u0437\\u043c\\u0435\\u043d\\u0438\\u0442\\u044c\", \"\\u0438\\u0437\\u043c\\u0435\\u043d\\u0438\\u0442\\u044c\", \"\\u0438\\u0437\\u043c\\u0435\\u043d\\u0438\\u0442\\u044c\", \"\\u0438\\u043c\\u0435\\u043d\\u043d\\u043e\", \"\\u0438\\u043d\\u0442\\u0435\\u0440\\u0435\\u0441\\u043d\\u044b\\u0439\", \"\\u0438\\u043d\\u0442\\u0435\\u0440\\u0435\\u0441\\u043d\\u044b\\u0439\", \"\\u0438\\u043d\\u0444\\u043e\\u0440\\u043c\\u0430\\u0446\\u0438\\u044f\", \"\\u0438\\u0441\\u0442\\u0438\\u043d\\u0430\", \"\\u043a\\u0430\\u0436\\u0434\\u044b\\u0439\", \"\\u043a\\u043b\\u0430\\u0441\\u0441\\u043d\\u044b\\u0439\", \"\\u043a\\u043d\\u0438\\u0433\\u0430\", \"\\u043a\\u043d\\u0438\\u0433\\u0430\", \"\\u043a\\u043d\\u0438\\u0433\\u0430\", \"\\u043a\\u043e\\u043b\\u0438\\u0447\\u0435\\u0441\\u0442\\u0432\\u043e\", \"\\u043a\\u043e\\u0442\\u043e\\u0440\\u044b\\u0439\", \"\\u043a\\u0440\\u0443\\u0442\\u043e\", \"\\u043a\\u0440\\u0443\\u0442\\u043e\\u0439\", \"\\u043a\\u0440\\u0443\\u0442\\u043e\\u0439\", \"\\u043b\\u0435\\u0433\\u043a\\u043e\", \"\\u043b\\u0438\\u0442\\u0435\\u0440\\u0430\\u0442\\u0443\\u0440\\u0430\", \"\\u043b\\u044e\\u0431\\u0438\\u0442\\u044c\", \"\\u043b\\u044e\\u0431\\u0438\\u0442\\u044c\", \"\\u043b\\u044e\\u0431\\u0438\\u0442\\u044c\", \"\\u043b\\u044e\\u0431\\u043e\\u0439\", \"\\u043b\\u044e\\u0431\\u043e\\u0439\", \"\\u043b\\u0451\\u0433\\u043a\\u0438\\u0439\", \"\\u043b\\u0451\\u0433\\u043a\\u0438\\u0439\", \"\\u043c\\u0430\\u043b\\u043e\", \"\\u043c\\u0430\\u043b\\u043e\", \"\\u043c\\u0438\\u0440\", \"\\u043c\\u0438\\u0440\", \"\\u043c\\u043e\\u0442\\u0438\\u0432\\u0430\\u0446\\u0438\\u043e\\u043d\\u043d\\u044b\\u0439\", \"\\u043c\\u043e\\u0442\\u0438\\u0432\\u0430\\u0446\\u0438\\u044f\", \"\\u043c\\u043e\\u0442\\u0438\\u0432\\u0438\\u0440\\u043e\\u0432\\u0430\\u0442\\u044c\", \"\\u043c\\u043e\\u0442\\u0438\\u0432\\u0438\\u0440\\u043e\\u0432\\u0430\\u0442\\u044c\", \"\\u043c\\u043e\\u0447\\u044c\", \"\\u043c\\u044b\\u0441\\u043b\\u044c\", \"\\u043d\\u0430\\u043f\\u0438\\u0441\\u0430\\u0442\\u044c\", \"\\u043d\\u0430\\u043f\\u0438\\u0441\\u0430\\u0442\\u044c\", \"\\u043d\\u0430\\u043f\\u0438\\u0441\\u0430\\u0442\\u044c\", \"\\u043d\\u0430\\u043f\\u043e\\u043c\\u043d\\u0438\\u0442\\u044c\", \"\\u043d\\u0430\\u043f\\u043e\\u043c\\u043d\\u0438\\u0442\\u044c\", \"\\u043d\\u0430\\u0447\\u0430\\u0442\\u044c\", \"\\u043d\\u0430\\u0447\\u0438\\u043d\\u0430\\u0442\\u044c\", \"\\u043d\\u0435\\u0441\\u043a\\u043e\\u043b\\u044c\\u043a\\u043e\", \"\\u043d\\u043e\\u0432\\u044b\\u0439\", \"\\u043d\\u0443\\u0436\\u043d\\u043e\", \"\\u043d\\u0443\\u0436\\u043d\\u043e\", \"\\u043d\\u0443\\u0436\\u043d\\u043e\", \"\\u043e\\u0431\\u044f\\u0437\\u0430\\u0442\\u0435\\u043b\\u044c\\u043d\\u043e\", \"\\u043e\\u0433\\u043e\\u043d\\u044c\", \"\\u043e\\u0433\\u0440\\u043e\\u043c\\u043d\\u044b\\u0439\", \"\\u043e\\u0433\\u0440\\u043e\\u043c\\u043d\\u044b\\u0439\", \"\\u043e\\u0442\\u043a\\u0440\\u044b\\u0442\\u044c\", \"\\u043e\\u0442\\u043b\\u0438\\u0447\\u043d\\u043e\", \"\\u043e\\u0442\\u043b\\u0438\\u0447\\u043d\\u044b\\u0439\", \"\\u043e\\u0447\\u0435\\u043d\\u044c\", \"\\u043e\\u0447\\u0435\\u043d\\u044c\", \"\\u043e\\u0447\\u0435\\u043d\\u044c\", \"\\u043f\\u0435\\u0440\\u0432\\u044b\\u0439\", \"\\u043f\\u0438\\u0441\\u0430\\u0442\\u044c\", \"\\u043f\\u0438\\u0441\\u0430\\u0442\\u044c\", \"\\u043f\\u043e\\u0434\\u043e\\u0431\\u043d\\u044b\\u0439\", \"\\u043f\\u043e\\u0434\\u043e\\u0431\\u043d\\u044b\\u0439\", \"\\u043f\\u043e\\u0437\\u0438\\u0442\\u0438\\u0432\\u043d\\u044b\\u0439\", \"\\u043f\\u043e\\u0437\\u0438\\u0442\\u0438\\u0432\\u043d\\u044b\\u0439\", \"\\u043f\\u043e\\u043b\\u0435\\u0437\\u043d\\u044b\\u0439\", \"\\u043f\\u043e\\u043b\\u0443\\u0447\\u0438\\u0442\\u044c\", \"\\u043f\\u043e\\u043d\\u0438\\u043c\\u0430\\u0442\\u044c\", \"\\u043f\\u043e\\u043d\\u0438\\u043c\\u0430\\u0442\\u044c\", \"\\u043f\\u043e\\u043d\\u0440\\u0430\\u0432\\u0438\\u0442\\u044c\\u0441\\u044f\", \"\\u043f\\u043e\\u0443\\u0447\\u0438\\u0442\\u0435\\u043b\\u044c\\u043d\\u044b\\u0439\", \"\\u043f\\u0440\\u0430\\u043a\\u0442\\u0438\\u043a\\u0430\", \"\\u043f\\u0440\\u0435\\u043a\\u0440\\u0430\\u0441\\u043d\\u044b\\u0439\", \"\\u043f\\u0440\\u0438\\u043c\\u0435\\u0440\", \"\\u043f\\u0440\\u043e\\u0431\\u043b\\u0435\\u043c\\u0430\", \"\\u043f\\u0440\\u043e\\u0441\\u0442\\u043e\", \"\\u043f\\u0440\\u043e\\u0441\\u0442\\u043e\", \"\\u043f\\u0440\\u043e\\u0441\\u0442\\u043e\", \"\\u043f\\u0440\\u043e\\u0441\\u0442\\u043e\\u0439\", \"\\u043f\\u0440\\u043e\\u0447\\u0435\\u0441\\u0442\\u044c\", \"\\u043f\\u0440\\u043e\\u0447\\u0438\\u0442\\u0430\\u0442\\u044c\", \"\\u043f\\u0440\\u043e\\u0447\\u0438\\u0442\\u0430\\u0442\\u044c\", \"\\u043f\\u0440\\u043e\\u0447\\u0438\\u0442\\u0430\\u0442\\u044c\", \"\\u043f\\u0440\\u043e\\u0447\\u0442\\u0435\\u043d\\u0438\\u0435\", \"\\u043f\\u0440\\u043e\\u0447\\u0442\\u0435\\u043d\\u0438\\u0435\", \"\\u043f\\u0443\\u0442\\u044c\", \"\\u043f\\u044b\\u0442\\u0430\\u0442\\u044c\\u0441\\u044f\", \"\\u0440\\u0430\\u0431\\u043e\\u0442\\u0430\", \"\\u0440\\u0435\\u043a\\u043e\\u043c\\u0435\\u043d\\u0434\\u043e\\u0432\\u0430\\u0442\\u044c\", \"\\u0440\\u0443\\u043a\\u0430\", \"\\u0441\\u0430\\u043c\\u043e\\u0440\\u0430\\u0437\\u0432\\u0438\\u0442\\u0438\\u0435\", \"\\u0441\\u0430\\u043c\\u044b\\u0439\", \"\\u0441\\u0432\\u043e\\u0439\", \"\\u0441\\u0434\\u0435\\u043b\\u0430\\u0442\\u044c\", \"\\u0441\\u0434\\u0435\\u043b\\u0430\\u0442\\u044c\", \"\\u0441\\u0438\\u043b\\u0430\", \"\\u0441\\u0438\\u043b\\u0430\", \"\\u0441\\u0438\\u043b\\u044c\\u043d\\u044b\\u0439\", \"\\u0441\\u043a\\u0430\\u0437\\u0430\\u0442\\u044c\", \"\\u0441\\u043b\\u043e\\u0432\\u043e\", \"\\u0441\\u043c\\u043e\\u0442\\u0440\\u0435\\u0442\\u044c\", \"\\u0441\\u043c\\u043e\\u0442\\u0440\\u0435\\u0442\\u044c\", \"\\u0441\\u043c\\u043e\\u0447\\u044c\", \"\\u0441\\u043c\\u043e\\u0447\\u044c\", \"\\u0441\\u043e\\u0431\\u0441\\u0442\\u0432\\u0435\\u043d\\u043d\\u044b\\u0439\", \"\\u0441\\u043e\\u0432\\u0435\\u0442\", \"\\u0441\\u043e\\u0432\\u0435\\u0442\\u043e\\u0432\\u0430\\u0442\\u044c\", \"\\u0441\\u043e\\u0432\\u0435\\u0442\\u043e\\u0432\\u0430\\u0442\\u044c\", \"\\u0441\\u043f\\u0430\\u0441\\u0438\\u0431\\u043e\", \"\\u0441\\u0442\\u0430\\u043d\\u0434\\u0430\\u0440\\u0442\\u043d\\u044b\\u0439\", \"\\u0441\\u0442\\u0430\\u0442\\u044c\", \"\\u0441\\u0442\\u0430\\u0442\\u044c\", \"\\u0441\\u0442\\u043e\\u0438\\u0442\\u044c\", \"\\u0441\\u0442\\u043e\\u043b\\u044c\\u043a\\u043e\", \"\\u0441\\u0443\\u043f\\u0435\\u0440\", \"\\u0442\\u043e\\u0447\\u043d\\u043e\", \"\\u0443\\u0441\\u043b\\u044b\\u0448\\u0430\\u0442\\u044c\", \"\\u0443\\u0447\\u0438\\u0442\\u044c\", \"\\u0445\\u043e\\u0440\\u043e\\u0448\\u0438\\u0439\", \"\\u0445\\u043e\\u0440\\u043e\\u0448\\u0438\\u0439\", \"\\u0445\\u043e\\u0440\\u043e\\u0448\\u0438\\u0439\", \"\\u0445\\u043e\\u0442\\u0435\\u0442\\u044c\", \"\\u0445\\u043e\\u0442\\u0435\\u0442\\u044c\", \"\\u0445\\u043e\\u0442\\u0435\\u0442\\u044c\\u0441\\u044f\", \"\\u0445\\u043e\\u0442\\u044f\", \"\\u0446\\u0438\\u0442\\u0430\\u0442\\u0430\", \"\\u0446\\u0438\\u0442\\u0430\\u0442\\u0430\", \"\\u0447\\u0430\\u0441\\u0442\\u044c\", \"\\u0447\\u0438\\u0442\\u0430\\u0442\\u044c\", \"\\u0447\\u0438\\u0442\\u0430\\u0442\\u044c\", \"\\u0447\\u0438\\u0442\\u0430\\u0442\\u044c\\u0441\\u044f\", \"\\u0447\\u0442\\u0435\\u043d\\u0438\\u0435\", \"\\u0447\\u0443\\u0434\\u0435\\u0441\\u043d\\u044b\\u0439\", \"\\u0448\\u0438\\u043a\\u0430\\u0440\\u043d\\u044b\\u0439\", \"\\u044d\\u0442\\u043e\", \"\\u044e\\u043c\\u043e\\u0440\", \"\\u044e\\u043c\\u043e\\u0440\", \"\\u044f\\u0437\\u044b\\u043a\"]}, \"R\": 30, \"lambda.step\": 0.01, \"plot.opts\": {\"xlab\": \"PC1\", \"ylab\": \"PC2\"}, \"topic.order\": [3, 1, 4, 2, 5]};\n",
              "\n",
              "function LDAvis_load_lib(url, callback){\n",
              "  var s = document.createElement('script');\n",
              "  s.src = url;\n",
              "  s.async = true;\n",
              "  s.onreadystatechange = s.onload = callback;\n",
              "  s.onerror = function(){console.warn(\"failed to load library \" + url);};\n",
              "  document.getElementsByTagName(\"head\")[0].appendChild(s);\n",
              "}\n",
              "\n",
              "if(typeof(LDAvis) !== \"undefined\"){\n",
              "   // already loaded: just create the visualization\n",
              "   !function(LDAvis){\n",
              "       new LDAvis(\"#\" + \"ldavis_el11421404743736748645972413778\", ldavis_el11421404743736748645972413778_data);\n",
              "   }(LDAvis);\n",
              "}else if(typeof define === \"function\" && define.amd){\n",
              "   // require.js is available: use it to load d3/LDAvis\n",
              "   require.config({paths: {d3: \"https://cdnjs.cloudflare.com/ajax/libs/d3/3.5.5/d3.min\"}});\n",
              "   require([\"d3\"], function(d3){\n",
              "      window.d3 = d3;\n",
              "      LDAvis_load_lib(\"https://cdn.rawgit.com/bmabey/pyLDAvis/files/ldavis.v1.0.0.js\", function(){\n",
              "        new LDAvis(\"#\" + \"ldavis_el11421404743736748645972413778\", ldavis_el11421404743736748645972413778_data);\n",
              "      });\n",
              "    });\n",
              "}else{\n",
              "    // require.js not available: dynamically load d3 & LDAvis\n",
              "    LDAvis_load_lib(\"https://cdnjs.cloudflare.com/ajax/libs/d3/3.5.5/d3.min.js\", function(){\n",
              "         LDAvis_load_lib(\"https://cdn.rawgit.com/bmabey/pyLDAvis/files/ldavis.v1.0.0.js\", function(){\n",
              "                 new LDAvis(\"#\" + \"ldavis_el11421404743736748645972413778\", ldavis_el11421404743736748645972413778_data);\n",
              "            })\n",
              "         });\n",
              "}\n",
              "</script>"
            ]
          },
          "metadata": {},
          "execution_count": 32
        }
      ]
    },
    {
      "cell_type": "code",
      "source": [
        "topics_list = [1,2,3,4,5]\n",
        "coherences = []\n",
        "\n",
        "for i in topics_list:\n",
        "    lda = ldamodel.LdaModel(corpus, id2word=dictionary, num_topics=i, chunksize=50, update_every=1, passes=5,random_state=1)\n",
        "    coherences.append(CoherenceModel(model=lda, texts=data1['Коммент'], dictionary=dictionary, coherence='c_v').get_coherence())\n",
        "\n",
        "plt.plot(topics_list, coherences)\n",
        "plt.xlabel(\"Число тем\")\n",
        "plt.ylabel(\"Средняя когерентность\")\n",
        "plt.show()"
      ],
      "metadata": {
        "colab": {
          "base_uri": "https://localhost:8080/",
          "height": 449
        },
        "id": "F_TwAWb86rfW",
        "outputId": "65c40576-53c7-4eee-ff84-5d488eef94f4"
      },
      "execution_count": null,
      "outputs": [
        {
          "output_type": "display_data",
          "data": {
            "text/plain": [
              "<Figure size 640x480 with 1 Axes>"
            ],
            "image/png": "[encoded data removed]"
          },
          "metadata": {}
        }
      ]
    },
    {
      "cell_type": "code",
      "source": [
        "lda1 = ldamodel.LdaModel(corpus, id2word=dictionary, num_topics=2, chunksize=50, update_every=1, passes=5)"
      ],
      "metadata": {
        "id": "X8E-EgXbWiOO",
        "colab": {
          "base_uri": "https://localhost:8080/"
        },
        "outputId": "de375b06-27dd-4614-874f-0d8ac758d601"
      },
      "execution_count": null,
      "outputs": [
        {
          "output_type": "stream",
          "name": "stderr",
          "text": [
            "/usr/local/lib/python3.10/dist-packages/ipykernel/ipkernel.py:283: DeprecationWarning: `should_run_async` will not call `transform_cell` automatically in the future. Please pass the result to `transformed_cell` argument and any exception that happen during thetransform in `preprocessing_exc_tuple` in IPython 7.17 and above.\n",
            "  and should_run_async(code)\n"
          ]
        }
      ]
    },
    {
      "cell_type": "code",
      "source": [
        "lda1.show_topics(num_topics=2, num_words=10, formatted=True)"
      ],
      "metadata": {
        "colab": {
          "base_uri": "https://localhost:8080/"
        },
        "id": "cUDzOGOS6rMS",
        "outputId": "10953c95-592c-4f60-e52f-398d62473fe3"
      },
      "execution_count": null,
      "outputs": [
        {
          "output_type": "stream",
          "name": "stderr",
          "text": [
            "/usr/local/lib/python3.10/dist-packages/ipykernel/ipkernel.py:283: DeprecationWarning: `should_run_async` will not call `transform_cell` automatically in the future. Please pass the result to `transformed_cell` argument and any exception that happen during thetransform in `preprocessing_exc_tuple` in IPython 7.17 and above.\n",
            "  and should_run_async(code)\n"
          ]
        },
        {
          "output_type": "execute_result",
          "data": {
            "text/plain": [
              "[(0,\n",
              "  '0.120*\"книга\" + 0.050*\"очень\" + 0.047*\"хороший\" + 0.036*\"читать\" + 0.035*\"понравиться\" + 0.031*\"всё\" + 0.029*\"мотивировать\" + 0.021*\"автор\" + 0.020*\"интересный\" + 0.017*\"рекомендовать\"'),\n",
              " (1,\n",
              "  '0.093*\"книга\" + 0.050*\"это\" + 0.032*\"супер\" + 0.029*\"жизнь\" + 0.025*\"просто\" + 0.025*\"отличный\" + 0.024*\"свой\" + 0.023*\"всё\" + 0.022*\"который\" + 0.019*\"хотеть\"')]"
            ]
          },
          "metadata": {},
          "execution_count": 35
        }
      ]
    },
    {
      "cell_type": "code",
      "source": [
        "vis_data1 = gensimvis.prepare(lda1, corpus, dictionary)\n",
        "pyLDAvis.display(vis_data1)"
      ],
      "metadata": {
        "colab": {
          "base_uri": "https://localhost:8080/",
          "height": 951
        },
        "id": "3ldouH4Z6rSV",
        "outputId": "1f922eed-2453-4b6f-8c39-d2d3293cd1b8"
      },
      "execution_count": null,
      "outputs": [
        {
          "output_type": "stream",
          "name": "stderr",
          "text": [
            "/usr/local/lib/python3.10/dist-packages/ipykernel/ipkernel.py:283: DeprecationWarning: `should_run_async` will not call `transform_cell` automatically in the future. Please pass the result to `transformed_cell` argument and any exception that happen during thetransform in `preprocessing_exc_tuple` in IPython 7.17 and above.\n",
            "  and should_run_async(code)\n",
            "/usr/local/lib/python3.10/dist-packages/pyLDAvis/_prepare.py:232: FutureWarning: In a future version of pandas all arguments of DataFrame.drop except for the argument 'labels' will be keyword-only.\n",
            "  head(R).drop('saliency', 1)\n"
          ]
        },
        {
          "output_type": "execute_result",
          "data": {
            "text/plain": [
              "<IPython.core.display.HTML object>"
            ],
            "text/html": [
              "\n",
              "<link rel=\"stylesheet\" type=\"text/css\" href=\"https://cdn.rawgit.com/bmabey/pyLDAvis/files/ldavis.v1.0.0.css\">\n",
              "\n",
              "\n",
              "<div id=\"ldavis_el1142140474372431696169213327\"></div>\n",
              "<script type=\"text/javascript\">\n",
              "\n",
              "var ldavis_el1142140474372431696169213327_data = {\"mdsDat\": {\"x\": [0.12092202901840209, -0.12092202901840209], \"y\": [0.0, 0.0], \"topics\": [1, 2], \"cluster\": [1, 1], \"Freq\": [56.31598000903056, 43.68401999096944]}, \"tinfo\": {\"Term\": [\"\\u0445\\u043e\\u0440\\u043e\\u0448\\u0438\\u0439\", \"\\u044d\\u0442\\u043e\", \"\\u043e\\u0447\\u0435\\u043d\\u044c\", \"\\u043f\\u043e\\u043d\\u0440\\u0430\\u0432\\u0438\\u0442\\u044c\\u0441\\u044f\", \"\\u043c\\u043e\\u0442\\u0438\\u0432\\u0438\\u0440\\u043e\\u0432\\u0430\\u0442\\u044c\", \"\\u0441\\u0443\\u043f\\u0435\\u0440\", \"\\u0436\\u0438\\u0437\\u043d\\u044c\", \"\\u043e\\u0442\\u043b\\u0438\\u0447\\u043d\\u044b\\u0439\", \"\\u043a\\u043e\\u0442\\u043e\\u0440\\u044b\\u0439\", \"\\u043f\\u0440\\u043e\\u0441\\u0442\\u043e\", \"\\u043f\\u0440\\u043e\\u0447\\u0442\\u0435\\u043d\\u0438\\u0435\", \"\\u0447\\u0438\\u0442\\u0430\\u0442\\u044c\", \"\\u043d\\u0430\\u043f\\u0438\\u0441\\u0430\\u0442\\u044c\", \"\\u0441\\u043f\\u0430\\u0441\\u0438\\u0431\\u043e\", \"\\u0432\\u0435\\u0441\\u044c\", \"\\u0445\\u043e\\u0442\\u0435\\u0442\\u044c\", \"\\u0432\\u043e\\u0434\\u0430\", \"\\u043c\\u043e\\u0442\\u0438\\u0432\\u0430\\u0446\\u0438\\u044f\", \"\\u043d\\u0430\\u0447\\u0430\\u0442\\u044c\", \"\\u043a\\u043d\\u0438\\u0433\\u0430\", \"\\u0441\\u0430\\u043c\\u043e\\u0440\\u0430\\u0437\\u0432\\u0438\\u0442\\u0438\\u0435\", \"\\u0440\\u0435\\u043a\\u043e\\u043c\\u0435\\u043d\\u0434\\u043e\\u0432\\u0430\\u0442\\u044c\", \"\\u0438\\u043d\\u0442\\u0435\\u0440\\u0435\\u0441\\u043d\\u044b\\u0439\", \"\\u043a\\u0440\\u0443\\u0442\\u043e\\u0439\", \"\\u043b\\u044e\\u0431\\u0438\\u0442\\u044c\", \"\\u0446\\u0438\\u0442\\u0430\\u0442\\u0430\", \"\\u0445\\u043e\\u0442\\u0435\\u0442\\u044c\\u0441\\u044f\", \"\\u043c\\u043d\\u043e\\u0433\\u043e\\u0435\", \"\\u0431\\u043e\\u044f\\u0442\\u044c\\u0441\\u044f\", \"\\u0447\\u0438\\u0442\\u0430\\u0442\\u044c\\u0441\\u044f\", \"\\u044d\\u0442\\u043e\", \"\\u0441\\u0443\\u043f\\u0435\\u0440\", \"\\u043e\\u0442\\u043b\\u0438\\u0447\\u043d\\u044b\\u0439\", \"\\u043a\\u043e\\u0442\\u043e\\u0440\\u044b\\u0439\", \"\\u0436\\u0438\\u0437\\u043d\\u044c\", \"\\u0432\\u043e\\u0434\\u0430\", \"\\u0441\\u0430\\u043c\\u043e\\u0440\\u0430\\u0437\\u0432\\u0438\\u0442\\u0438\\u0435\", \"\\u043f\\u0440\\u043e\\u0441\\u0442\\u043e\", \"\\u0432\\u0435\\u0441\\u044c\", \"\\u0431\\u043e\\u044f\\u0442\\u044c\\u0441\\u044f\", \"\\u0445\\u043e\\u0442\\u0435\\u0442\\u044c\", \"\\u0441\\u0442\\u0430\\u0442\\u044c\", \"\\u043f\\u0435\\u0440\\u0432\\u044b\\u0439\", \"\\u043a\\u0440\\u0443\\u0442\\u043e\", \"\\u0438\\u0441\\u0442\\u0438\\u043d\\u0430\", \"\\u0436\\u0435\\u043b\\u0430\\u043d\\u0438\\u0435\", \"\\u0441\\u0434\\u0435\\u043b\\u0430\\u0442\\u044c\", \"\\u0436\\u0430\\u043d\\u0440\", \"\\u0441\\u043e\\u0432\\u0435\\u0442\", \"\\u0441\\u043e\\u0431\\u0441\\u0442\\u0432\\u0435\\u043d\\u043d\\u044b\\u0439\", \"\\u043a\\u043b\\u0430\\u0441\\u0441\\u043d\\u044b\\u0439\", \"\\u043f\\u043e\\u0434\\u043e\\u0431\\u043d\\u044b\\u0439\", \"\\u0432\\u0440\\u0435\\u043c\\u044f\", \"\\u043f\\u043e\\u044d\\u0442\\u043e\\u043c\\u0443\", \"\\u0432\\u043e\\u0437\\u043c\\u043e\\u0436\\u043d\\u043e\", \"\\u043d\\u0430\\u0439\\u0442\\u0438\", \"\\u0441\\u043b\\u043e\\u0432\\u043e\", \"\\u0434\\u0435\\u0439\\u0441\\u0442\\u0432\\u0438\\u0435\", \"\\u043e\\u0433\\u043e\\u043d\\u044c\", \"\\u043d\\u043e\\u0432\\u044b\\u0439\", \"\\u0441\\u0432\\u043e\\u0439\", \"\\u0433\\u043b\\u0430\\u0432\\u0430\", \"\\u043a\\u043d\\u0438\\u0433\\u0430\", \"\\u043f\\u0440\\u043e\\u0441\\u0442\\u043e\\u0439\", \"\\u0432\\u0441\\u0451\", \"\\u043c\\u043e\\u0447\\u044c\", \"\\u043c\\u044b\\u0441\\u043b\\u044c\", \"\\u0447\\u0438\\u0442\\u0430\\u0442\\u044c\", \"\\u0430\\u0432\\u0442\\u043e\\u0440\", \"\\u043a\\u0430\\u0436\\u0434\\u044b\\u0439\", \"\\u043c\\u043e\\u0442\\u0438\\u0432\\u0438\\u0440\\u043e\\u0432\\u0430\\u0442\\u044c\", \"\\u0445\\u043e\\u0440\\u043e\\u0448\\u0438\\u0439\", \"\\u043f\\u043e\\u043d\\u0440\\u0430\\u0432\\u0438\\u0442\\u044c\\u0441\\u044f\", \"\\u0441\\u043f\\u0430\\u0441\\u0438\\u0431\\u043e\", \"\\u043d\\u0430\\u043f\\u0438\\u0441\\u0430\\u0442\\u044c\", \"\\u043d\\u0430\\u0447\\u0430\\u0442\\u044c\", \"\\u043f\\u0440\\u043e\\u0447\\u0442\\u0435\\u043d\\u0438\\u0435\", \"\\u043a\\u0440\\u0443\\u0442\\u043e\\u0439\", \"\\u043c\\u043e\\u0442\\u0438\\u0432\\u0430\\u0446\\u0438\\u044f\", \"\\u0446\\u0438\\u0442\\u0430\\u0442\\u0430\", \"\\u043e\\u0447\\u0435\\u043d\\u044c\", \"\\u0447\\u0438\\u0442\\u0430\\u0442\\u044c\\u0441\\u044f\", \"\\u043b\\u044e\\u0431\\u0438\\u0442\\u044c\", \"\\u0445\\u043e\\u0442\\u0435\\u0442\\u044c\\u0441\\u044f\", \"\\u043b\\u0435\\u0433\\u043a\\u043e\", \"\\u043e\\u0442\\u043b\\u0438\\u0447\\u043d\\u043e\", \"\\u0434\\u044b\\u0445\\u0430\\u043d\\u0438\\u0435\", \"\\u043c\\u043d\\u043e\\u0433\\u043e\\u0435\", \"\\u0437\\u0430\\u0441\\u0442\\u0430\\u0432\\u043b\\u044f\\u0442\\u044c\", \"\\u0437\\u0430\\u0441\\u0442\\u0430\\u0432\\u0438\\u0442\\u044c\", \"\\u0448\\u0438\\u043a\\u0430\\u0440\\u043d\\u044b\\u0439\", \"\\u0432\\u0434\\u043e\\u0445\\u043d\\u043e\\u0432\\u043b\\u044f\\u0442\\u044c\", \"\\u043c\\u043e\\u0442\\u0438\\u0432\\u0430\\u0446\\u0438\\u043e\\u043d\\u043d\\u044b\\u0439\", \"\\u0432\\u0441\\u0442\\u0430\\u0442\\u044c\", \"\\u0434\\u043e\\u0441\\u0442\\u0438\\u0433\\u043d\\u0443\\u0442\\u044c\", \"\\u0447\\u0430\\u0441\\u0442\\u044c\", \"\\u044e\\u043c\\u043e\\u0440\", \"\\u0441\\u043e\\u0432\\u0435\\u0442\\u043e\\u0432\\u0430\\u0442\\u044c\", \"\\u043e\\u0431\\u044f\\u0437\\u0430\\u0442\\u0435\\u043b\\u044c\\u043d\\u043e\", \"\\u0442\\u043e\\u0447\\u043d\\u043e\", \"\\u043f\\u0440\\u043e\\u0447\\u0435\\u0441\\u0442\\u044c\", \"\\u0440\\u0435\\u043a\\u043e\\u043c\\u0435\\u043d\\u0434\\u043e\\u0432\\u0430\\u0442\\u044c\", \"\\u0438\\u043d\\u0442\\u0435\\u0440\\u0435\\u0441\\u043d\\u044b\\u0439\", \"\\u0447\\u0438\\u0442\\u0430\\u0442\\u044c\", \"\\u0437\\u043d\\u0430\\u0442\\u044c\", \"\\u043a\\u043d\\u0438\\u0433\\u0430\", \"\\u0430\\u0432\\u0442\\u043e\\u0440\", \"\\u0432\\u0441\\u0451\", \"\\u044f\\u0437\\u044b\\u043a\", \"\\u0441\\u0430\\u043c\\u044b\\u0439\", \"\\u043c\\u044b\\u0441\\u043b\\u044c\", \"\\u043f\\u0438\\u0441\\u0430\\u0442\\u044c\", \"\\u043f\\u0440\\u043e\\u0447\\u0438\\u0442\\u0430\\u0442\\u044c\"], \"Freq\": [32.0, 42.0, 36.0, 24.0, 19.0, 27.0, 25.0, 21.0, 19.0, 22.0, 11.0, 34.0, 11.0, 10.0, 16.0, 17.0, 14.0, 10.0, 10.0, 156.0, 13.0, 13.0, 16.0, 8.0, 8.0, 7.0, 7.0, 7.0, 9.0, 6.0, 42.06094969276991, 26.756397138447714, 20.7165737414718, 18.735912567834983, 24.57249083700616, 13.922306162541615, 13.094873602521991, 21.302440764794977, 16.04000718825138, 9.263734250028877, 16.303839660878907, 8.927649379670171, 9.491742212957641, 8.897479678359842, 7.888998310016587, 7.72866915274239, 8.515769519673281, 6.20808317389574, 8.117387601775206, 6.265114195835142, 8.368397696341994, 8.898848852862105, 11.34281200073927, 5.510109005417191, 6.1897146583168094, 5.460662974832161, 8.386855267110613, 4.888958472864774, 5.077718597525508, 5.7794507380834785, 20.076664733611153, 6.642699569216031, 78.09315649419196, 7.183208077466809, 19.01508293339674, 8.723238295813651, 11.449107804375437, 11.162642759531417, 9.526694217185618, 7.58881091968828, 18.772631614767935, 30.411052028316877, 22.980483612961685, 9.47293683052737, 10.124110300493726, 9.202127526168834, 10.545704371384536, 7.631558573769734, 9.7119974888586, 6.9536862721324955, 32.35230364735216, 5.827270311815107, 7.788300624009453, 6.641332400080184, 5.527558930278846, 4.624593451287311, 4.591989982521229, 6.450709059543551, 4.629953971950709, 3.925889524246025, 4.08647873328374, 3.9360226276834274, 3.8854481008840605, 3.8758445067259264, 3.870179974700465, 3.8425940628289688, 5.66279438294129, 6.292438735970219, 3.8128968087853092, 3.7938305186278356, 4.231325996627618, 11.019845238982148, 12.74403944044955, 23.52678624859054, 8.202889347998678, 78.73686612406316, 13.95001812608083, 20.550973313407052, 8.945934503812172, 5.20672073713113, 8.332396362343335, 5.359247406602789, 5.612901218944384], \"Total\": [32.0, 42.0, 36.0, 24.0, 19.0, 27.0, 25.0, 21.0, 19.0, 22.0, 11.0, 34.0, 11.0, 10.0, 16.0, 17.0, 14.0, 10.0, 10.0, 156.0, 13.0, 13.0, 16.0, 8.0, 8.0, 7.0, 7.0, 7.0, 9.0, 6.0, 42.785246035756735, 27.341558641795903, 21.34609952550479, 19.344822220003227, 25.421869292225455, 14.472675939164013, 13.738746082905836, 22.42299233376555, 16.96789330632984, 9.80176642240486, 17.292718172589584, 9.483515972340136, 10.102402593219924, 9.516817924488572, 8.451748941751097, 8.319866186966667, 9.228722952245844, 6.732293708583348, 8.803111095740311, 6.795824571044149, 9.11177531703342, 9.71059487058282, 12.495618444867072, 6.0785546387843965, 6.86878672451354, 6.06620061909374, 9.332356165642645, 5.445429056076133, 5.6570273115620955, 6.440159331180476, 24.20482102053984, 7.8143078531773495, 156.8300226182551, 8.661733405660847, 39.5660562468038, 12.135901255444432, 19.781504166718772, 34.689429008121955, 23.47671234326645, 11.944574944416432, 19.71175546751531, 32.290186754886015, 24.401670171060896, 10.277294778969345, 11.130326253890471, 10.129794938770443, 11.73256681549687, 8.512026833914705, 10.843886105529023, 7.789439411527048, 36.36571386506706, 6.593380037069788, 8.86787353410905, 7.581032953835675, 6.322203929301381, 5.365973050565278, 5.331919198379463, 7.500688871262532, 5.431876241339015, 4.636677930277884, 4.83566664843912, 4.670442093110885, 4.650103372465295, 4.653303521471377, 4.655181022459887, 4.664325374336464, 6.879021304677451, 7.683291311434509, 4.674202804837967, 4.680538820990392, 5.230699608335546, 13.924694886196953, 16.98586445030778, 34.689429008121955, 10.761499283191787, 156.8300226182551, 23.47671234326645, 39.5660562468038, 13.73809508556221, 7.733391244314854, 19.781504166718772, 8.197423944104731, 12.985134625072938], \"Category\": [\"Default\", \"Default\", \"Default\", \"Default\", \"Default\", \"Default\", \"Default\", \"Default\", \"Default\", \"Default\", \"Default\", \"Default\", \"Default\", \"Default\", \"Default\", \"Default\", \"Default\", \"Default\", \"Default\", \"Default\", \"Default\", \"Default\", \"Default\", \"Default\", \"Default\", \"Default\", \"Default\", \"Default\", \"Default\", \"Default\", \"Topic1\", \"Topic1\", \"Topic1\", \"Topic1\", \"Topic1\", \"Topic1\", \"Topic1\", \"Topic1\", \"Topic1\", \"Topic1\", \"Topic1\", \"Topic1\", \"Topic1\", \"Topic1\", \"Topic1\", \"Topic1\", \"Topic1\", \"Topic1\", \"Topic1\", \"Topic1\", \"Topic1\", \"Topic1\", \"Topic1\", \"Topic1\", \"Topic1\", \"Topic1\", \"Topic1\", \"Topic1\", \"Topic1\", \"Topic1\", \"Topic1\", \"Topic1\", \"Topic1\", \"Topic1\", \"Topic1\", \"Topic1\", \"Topic1\", \"Topic1\", \"Topic1\", \"Topic1\", \"Topic2\", \"Topic2\", \"Topic2\", \"Topic2\", \"Topic2\", \"Topic2\", \"Topic2\", \"Topic2\", \"Topic2\", \"Topic2\", \"Topic2\", \"Topic2\", \"Topic2\", \"Topic2\", \"Topic2\", \"Topic2\", \"Topic2\", \"Topic2\", \"Topic2\", \"Topic2\", \"Topic2\", \"Topic2\", \"Topic2\", \"Topic2\", \"Topic2\", \"Topic2\", \"Topic2\", \"Topic2\", \"Topic2\", \"Topic2\", \"Topic2\", \"Topic2\", \"Topic2\", \"Topic2\", \"Topic2\", \"Topic2\", \"Topic2\", \"Topic2\", \"Topic2\", \"Topic2\", \"Topic2\", \"Topic2\", \"Topic2\"], \"logprob\": [30.0, 29.0, 28.0, 27.0, 26.0, 25.0, 24.0, 23.0, 22.0, 21.0, 20.0, 19.0, 18.0, 17.0, 16.0, 15.0, 14.0, 13.0, 12.0, 11.0, 10.0, 9.0, 8.0, 7.0, 6.0, 5.0, 4.0, 3.0, 2.0, 1.0, -2.9972000122070312, -3.4495999813079834, -3.705399990081787, -3.8059000968933105, -3.5346999168395996, -4.10290002822876, -4.164100170135498, -3.677500009536743, -3.9612998962402344, -4.510300159454346, -3.944999933242798, -4.5472002029418945, -4.485899925231934, -4.550600051879883, -4.670899868011475, -4.691400051116943, -4.594399929046631, -4.9105000495910645, -4.642300128936768, -4.901400089263916, -4.6118998527526855, -4.5503997802734375, -4.307799816131592, -5.029799938201904, -4.91349983215332, -5.03879976272583, -4.6097002029418945, -5.149400234222412, -5.111499786376953, -4.98199987411499, -3.736799955368042, -4.842800140380859, -2.378499984741211, -4.764599800109863, -3.791100025177002, -4.570400238037109, -4.298399925231934, -4.323800086975098, -4.4822998046875, -4.709700107574463, -3.549999952316284, -3.0676000118255615, -3.3477001190185547, -4.23390007019043, -4.167399883270264, -4.262899875640869, -4.1265997886657715, -4.450099945068359, -4.209000110626221, -4.543099880218506, -3.00570011138916, -4.719799995422363, -4.429699897766113, -4.589000225067139, -4.772600173950195, -4.951000213623047, -4.958000183105469, -4.618199825286865, -4.94980001449585, -5.114799976348877, -5.074699878692627, -5.112199783325195, -5.125100135803223, -5.127600193023682, -5.1290998458862305, -5.136199951171875, -4.7484002113342285, -4.64300012588501, -5.144000053405762, -5.14900016784668, -5.03980016708374, -4.082699775695801, -3.937299966812134, -3.324199914932251, -4.377900123596191, -2.116300106048584, -3.84689998626709, -3.4595000743865967, -4.291200160980225, -4.832399845123291, -4.362199783325195, -4.803500175476074, -4.757299900054932], \"loglift\": [30.0, 29.0, 28.0, 27.0, 26.0, 25.0, 24.0, 23.0, 22.0, 21.0, 20.0, 19.0, 18.0, 17.0, 16.0, 15.0, 14.0, 13.0, 12.0, 11.0, 10.0, 9.0, 8.0, 7.0, 6.0, 5.0, 4.0, 3.0, 2.0, 1.0, 0.5571, 0.5526, 0.5443, 0.5422, 0.5402, 0.5354, 0.5262, 0.5229, 0.518, 0.5177, 0.5153, 0.5138, 0.5118, 0.5069, 0.5053, 0.5005, 0.4938, 0.4931, 0.4931, 0.4929, 0.4891, 0.4869, 0.4774, 0.476, 0.4701, 0.469, 0.4674, 0.4664, 0.4662, 0.4659, 0.3872, 0.4118, -0.1231, 0.387, -0.1585, 0.244, 0.0274, -0.5597, -0.3277, 0.1206, 0.7794, 0.7682, 0.7682, 0.7467, 0.7334, 0.7321, 0.7215, 0.719, 0.7179, 0.7147, 0.7112, 0.7047, 0.6984, 0.6959, 0.6939, 0.6795, 0.6788, 0.6774, 0.6685, 0.6618, 0.6599, 0.6571, 0.6485, 0.6454, 0.6435, 0.6344, 0.6336, 0.6285, 0.6245, 0.6182, 0.6162, 0.5942, 0.5409, 0.4399, 0.5567, 0.1391, 0.3077, 0.1731, 0.3992, 0.4326, -0.0364, 0.4032, -0.0105]}, \"token.table\": {\"Topic\": [1, 2, 1, 2, 1, 2, 1, 2, 1, 2, 1, 2, 1, 2, 1, 2, 1, 2, 1, 2, 1, 2, 1, 2, 1, 2, 1, 2, 1, 2, 1, 2, 1, 2, 1, 2, 1, 2, 1, 2, 1, 2, 1, 2, 1, 2, 1, 2, 1, 2, 1, 2, 1, 2, 1, 2, 1, 2, 1, 2, 1, 2, 1, 2, 1, 2, 1, 2, 1, 2, 1, 2, 1, 2, 1, 2, 1, 2, 1, 2, 1, 2, 1, 2, 1, 2, 1, 2, 1, 2, 1, 2, 1, 2, 1, 2, 1, 2, 1, 2, 1, 2, 1, 2, 1, 2, 1, 2, 1, 2, 1, 2, 1, 2, 1, 2, 1, 2, 1, 2, 1, 2, 1, 2, 1, 2, 1, 2, 1, 2, 1, 2, 1, 2, 1, 2, 1, 2, 1, 2, 1, 2, 1, 2, 1, 2, 1, 2, 1, 2, 1, 2, 1, 2, 1, 2], \"Freq\": [0.4259540200426821, 0.5963356280597549, 0.9182018436419599, 0.10202242707132887, 0.2141124930068281, 0.8564499720273124, 0.942957367254969, 0.058934835453435565, 0.9673401144922398, 0.06909572246373141, 0.8735167127240991, 0.14558611878734987, 0.8803085696425502, 0.0800280517856864, 0.2149010902439047, 0.8596043609756188, 0.4802095988915966, 0.5307579777222909, 0.8957927089030353, 0.1279703869861479, 0.9182012929579694, 0.18364025859159389, 0.21481441756513708, 0.8592576702605483, 0.18754972886759635, 0.9377486443379818, 0.8912267140618495, 0.14853778567697493, 0.9615539264961078, 0.12019424081201348, 0.983405260747113, 0.03933621042988452, 0.21567165436915917, 0.8626866174766367, 0.18409845062182223, 0.9204922531091111, 0.27877156528604263, 0.7433908407627803, 0.23548992821072, 0.76534226668484, 0.9465496496802589, 0.11831870621003236, 0.6697601243432819, 0.33488006217164096, 0.8779847748270215, 0.10974809685337769, 0.4973537508813747, 0.5037300810208795, 0.9821749605097602, 0.0516934189741979, 0.9456942511048044, 0.10507713901164493, 0.11748083265147523, 0.9398466612118018, 0.15817268964788084, 0.9490361378872849, 0.11276660590091167, 0.9021328472072934, 0.13332108785785138, 0.7999265271471082, 0.21504898276483708, 0.8601959310593483, 0.09221786269869851, 0.9221786269869852, 0.0507311488136095, 0.9638918274585806, 0.7416012878287389, 0.2472004292762463, 0.5560750035635237, 0.4044181844098354, 0.8242391430745287, 0.16484782861490574, 0.089844626041439, 0.8984462604143899, 0.09871868147820377, 0.8884681333038339, 0.9316539687070451, 0.1552756614511742, 0.21394022505077534, 0.8557609002031014, 0.883856436362039, 0.17677128727240782, 0.18635948980300138, 0.9317974490150068, 0.983786287275047, 0.046846966060716526, 0.1099937159171899, 0.8799497273375192, 0.8908771865853193, 0.09898635406503548, 0.36596862873701724, 0.6099477145616954, 0.9268227250695538, 0.10298030278550598, 0.04098080143653231, 0.9425584330402431, 0.9870767569837776, 0.1645127928306296, 0.9365386959695499, 0.04459708076045475, 0.8081523261181386, 0.11545033230259123, 0.19117901521364725, 0.764716060854589, 0.5390779689325462, 0.4620668305136111, 0.08523284083745065, 0.9375612492119572, 0.2154445770279528, 0.7899634491024936, 0.9462290023814469, 0.07278684633703437, 0.38792812948723215, 0.6465468824787203, 0.8262816726894328, 0.16525633453788655, 0.9752161860932034, 0.10835735401035593, 0.8572326064292579, 0.10715407580365724, 0.8828950684755722, 0.14714917807926203, 0.9087696284863513, 0.11359620356079392, 0.13015255565173867, 0.7809153339104319, 0.09730186994794798, 0.8757168295315318, 0.9490151148845669, 0.10544612387606299, 0.9875077113828552, 0.03657435968084649, 0.213650615505076, 0.854602462020304, 0.061938322474934845, 0.9290748371240227, 0.9252449406919352, 0.05782780879324595, 0.13190814577504814, 0.923357020425337, 0.12837894322923543, 0.8986526026046481, 0.21439327657158946, 0.8575731062863579, 0.3170994828835186, 0.6918534172004042, 0.1516672775386412, 0.9100036652318473, 0.20679671960489354, 0.8271868784195742, 0.9816468033139161, 0.023372542936045623, 0.14536951634675724, 0.8722170980805434, 0.3639514771778407, 0.6551126589201133], \"Term\": [\"\\u0430\\u0432\\u0442\\u043e\\u0440\", \"\\u0430\\u0432\\u0442\\u043e\\u0440\", \"\\u0431\\u043e\\u044f\\u0442\\u044c\\u0441\\u044f\", \"\\u0431\\u043e\\u044f\\u0442\\u044c\\u0441\\u044f\", \"\\u0432\\u0434\\u043e\\u0445\\u043d\\u043e\\u0432\\u043b\\u044f\\u0442\\u044c\", \"\\u0432\\u0434\\u043e\\u0445\\u043d\\u043e\\u0432\\u043b\\u044f\\u0442\\u044c\", \"\\u0432\\u0435\\u0441\\u044c\", \"\\u0432\\u0435\\u0441\\u044c\", \"\\u0432\\u043e\\u0434\\u0430\", \"\\u0432\\u043e\\u0434\\u0430\", \"\\u0432\\u043e\\u0437\\u043c\\u043e\\u0436\\u043d\\u043e\", \"\\u0432\\u043e\\u0437\\u043c\\u043e\\u0436\\u043d\\u043e\", \"\\u0432\\u0440\\u0435\\u043c\\u044f\", \"\\u0432\\u0440\\u0435\\u043c\\u044f\", \"\\u0432\\u0441\\u0442\\u0430\\u0442\\u044c\", \"\\u0432\\u0441\\u0442\\u0430\\u0442\\u044c\", \"\\u0432\\u0441\\u0451\", \"\\u0432\\u0441\\u0451\", \"\\u0433\\u043b\\u0430\\u0432\\u0430\", \"\\u0433\\u043b\\u0430\\u0432\\u0430\", \"\\u0434\\u0435\\u0439\\u0441\\u0442\\u0432\\u0438\\u0435\", \"\\u0434\\u0435\\u0439\\u0441\\u0442\\u0432\\u0438\\u0435\", \"\\u0434\\u043e\\u0441\\u0442\\u0438\\u0433\\u043d\\u0443\\u0442\\u044c\", \"\\u0434\\u043e\\u0441\\u0442\\u0438\\u0433\\u043d\\u0443\\u0442\\u044c\", \"\\u0434\\u044b\\u0445\\u0430\\u043d\\u0438\\u0435\", \"\\u0434\\u044b\\u0445\\u0430\\u043d\\u0438\\u0435\", \"\\u0436\\u0430\\u043d\\u0440\", \"\\u0436\\u0430\\u043d\\u0440\", \"\\u0436\\u0435\\u043b\\u0430\\u043d\\u0438\\u0435\", \"\\u0436\\u0435\\u043b\\u0430\\u043d\\u0438\\u0435\", \"\\u0436\\u0438\\u0437\\u043d\\u044c\", \"\\u0436\\u0438\\u0437\\u043d\\u044c\", \"\\u0437\\u0430\\u0441\\u0442\\u0430\\u0432\\u0438\\u0442\\u044c\", \"\\u0437\\u0430\\u0441\\u0442\\u0430\\u0432\\u0438\\u0442\\u044c\", \"\\u0437\\u0430\\u0441\\u0442\\u0430\\u0432\\u043b\\u044f\\u0442\\u044c\", \"\\u0437\\u0430\\u0441\\u0442\\u0430\\u0432\\u043b\\u044f\\u0442\\u044c\", \"\\u0437\\u043d\\u0430\\u0442\\u044c\", \"\\u0437\\u043d\\u0430\\u0442\\u044c\", \"\\u0438\\u043d\\u0442\\u0435\\u0440\\u0435\\u0441\\u043d\\u044b\\u0439\", \"\\u0438\\u043d\\u0442\\u0435\\u0440\\u0435\\u0441\\u043d\\u044b\\u0439\", \"\\u0438\\u0441\\u0442\\u0438\\u043d\\u0430\", \"\\u0438\\u0441\\u0442\\u0438\\u043d\\u0430\", \"\\u043a\\u0430\\u0436\\u0434\\u044b\\u0439\", \"\\u043a\\u0430\\u0436\\u0434\\u044b\\u0439\", \"\\u043a\\u043b\\u0430\\u0441\\u0441\\u043d\\u044b\\u0439\", \"\\u043a\\u043b\\u0430\\u0441\\u0441\\u043d\\u044b\\u0439\", \"\\u043a\\u043d\\u0438\\u0433\\u0430\", \"\\u043a\\u043d\\u0438\\u0433\\u0430\", \"\\u043a\\u043e\\u0442\\u043e\\u0440\\u044b\\u0439\", \"\\u043a\\u043e\\u0442\\u043e\\u0440\\u044b\\u0439\", \"\\u043a\\u0440\\u0443\\u0442\\u043e\", \"\\u043a\\u0440\\u0443\\u0442\\u043e\", \"\\u043a\\u0440\\u0443\\u0442\\u043e\\u0439\", \"\\u043a\\u0440\\u0443\\u0442\\u043e\\u0439\", \"\\u043b\\u0435\\u0433\\u043a\\u043e\", \"\\u043b\\u0435\\u0433\\u043a\\u043e\", \"\\u043b\\u044e\\u0431\\u0438\\u0442\\u044c\", \"\\u043b\\u044e\\u0431\\u0438\\u0442\\u044c\", \"\\u043c\\u043d\\u043e\\u0433\\u043e\\u0435\", \"\\u043c\\u043d\\u043e\\u0433\\u043e\\u0435\", \"\\u043c\\u043e\\u0442\\u0438\\u0432\\u0430\\u0446\\u0438\\u043e\\u043d\\u043d\\u044b\\u0439\", \"\\u043c\\u043e\\u0442\\u0438\\u0432\\u0430\\u0446\\u0438\\u043e\\u043d\\u043d\\u044b\\u0439\", \"\\u043c\\u043e\\u0442\\u0438\\u0432\\u0430\\u0446\\u0438\\u044f\", \"\\u043c\\u043e\\u0442\\u0438\\u0432\\u0430\\u0446\\u0438\\u044f\", \"\\u043c\\u043e\\u0442\\u0438\\u0432\\u0438\\u0440\\u043e\\u0432\\u0430\\u0442\\u044c\", \"\\u043c\\u043e\\u0442\\u0438\\u0432\\u0438\\u0440\\u043e\\u0432\\u0430\\u0442\\u044c\", \"\\u043c\\u043e\\u0447\\u044c\", \"\\u043c\\u043e\\u0447\\u044c\", \"\\u043c\\u044b\\u0441\\u043b\\u044c\", \"\\u043c\\u044b\\u0441\\u043b\\u044c\", \"\\u043d\\u0430\\u0439\\u0442\\u0438\", \"\\u043d\\u0430\\u0439\\u0442\\u0438\", \"\\u043d\\u0430\\u043f\\u0438\\u0441\\u0430\\u0442\\u044c\", \"\\u043d\\u0430\\u043f\\u0438\\u0441\\u0430\\u0442\\u044c\", \"\\u043d\\u0430\\u0447\\u0430\\u0442\\u044c\", \"\\u043d\\u0430\\u0447\\u0430\\u0442\\u044c\", \"\\u043d\\u043e\\u0432\\u044b\\u0439\", \"\\u043d\\u043e\\u0432\\u044b\\u0439\", \"\\u043e\\u0431\\u044f\\u0437\\u0430\\u0442\\u0435\\u043b\\u044c\\u043d\\u043e\", \"\\u043e\\u0431\\u044f\\u0437\\u0430\\u0442\\u0435\\u043b\\u044c\\u043d\\u043e\", \"\\u043e\\u0433\\u043e\\u043d\\u044c\", \"\\u043e\\u0433\\u043e\\u043d\\u044c\", \"\\u043e\\u0442\\u043b\\u0438\\u0447\\u043d\\u043e\", \"\\u043e\\u0442\\u043b\\u0438\\u0447\\u043d\\u043e\", \"\\u043e\\u0442\\u043b\\u0438\\u0447\\u043d\\u044b\\u0439\", \"\\u043e\\u0442\\u043b\\u0438\\u0447\\u043d\\u044b\\u0439\", \"\\u043e\\u0447\\u0435\\u043d\\u044c\", \"\\u043e\\u0447\\u0435\\u043d\\u044c\", \"\\u043f\\u0435\\u0440\\u0432\\u044b\\u0439\", \"\\u043f\\u0435\\u0440\\u0432\\u044b\\u0439\", \"\\u043f\\u0438\\u0441\\u0430\\u0442\\u044c\", \"\\u043f\\u0438\\u0441\\u0430\\u0442\\u044c\", \"\\u043f\\u043e\\u0434\\u043e\\u0431\\u043d\\u044b\\u0439\", \"\\u043f\\u043e\\u0434\\u043e\\u0431\\u043d\\u044b\\u0439\", \"\\u043f\\u043e\\u043d\\u0440\\u0430\\u0432\\u0438\\u0442\\u044c\\u0441\\u044f\", \"\\u043f\\u043e\\u043d\\u0440\\u0430\\u0432\\u0438\\u0442\\u044c\\u0441\\u044f\", \"\\u043f\\u043e\\u044d\\u0442\\u043e\\u043c\\u0443\", \"\\u043f\\u043e\\u044d\\u0442\\u043e\\u043c\\u0443\", \"\\u043f\\u0440\\u043e\\u0441\\u0442\\u043e\", \"\\u043f\\u0440\\u043e\\u0441\\u0442\\u043e\", \"\\u043f\\u0440\\u043e\\u0441\\u0442\\u043e\\u0439\", \"\\u043f\\u0440\\u043e\\u0441\\u0442\\u043e\\u0439\", \"\\u043f\\u0440\\u043e\\u0447\\u0435\\u0441\\u0442\\u044c\", \"\\u043f\\u0440\\u043e\\u0447\\u0435\\u0441\\u0442\\u044c\", \"\\u043f\\u0440\\u043e\\u0447\\u0438\\u0442\\u0430\\u0442\\u044c\", \"\\u043f\\u0440\\u043e\\u0447\\u0438\\u0442\\u0430\\u0442\\u044c\", \"\\u043f\\u0440\\u043e\\u0447\\u0442\\u0435\\u043d\\u0438\\u0435\", \"\\u043f\\u0440\\u043e\\u0447\\u0442\\u0435\\u043d\\u0438\\u0435\", \"\\u0440\\u0435\\u043a\\u043e\\u043c\\u0435\\u043d\\u0434\\u043e\\u0432\\u0430\\u0442\\u044c\", \"\\u0440\\u0435\\u043a\\u043e\\u043c\\u0435\\u043d\\u0434\\u043e\\u0432\\u0430\\u0442\\u044c\", \"\\u0441\\u0430\\u043c\\u043e\\u0440\\u0430\\u0437\\u0432\\u0438\\u0442\\u0438\\u0435\", \"\\u0441\\u0430\\u043c\\u043e\\u0440\\u0430\\u0437\\u0432\\u0438\\u0442\\u0438\\u0435\", \"\\u0441\\u0430\\u043c\\u044b\\u0439\", \"\\u0441\\u0430\\u043c\\u044b\\u0439\", \"\\u0441\\u0432\\u043e\\u0439\", \"\\u0441\\u0432\\u043e\\u0439\", \"\\u0441\\u0434\\u0435\\u043b\\u0430\\u0442\\u044c\", \"\\u0441\\u0434\\u0435\\u043b\\u0430\\u0442\\u044c\", \"\\u0441\\u043b\\u043e\\u0432\\u043e\", \"\\u0441\\u043b\\u043e\\u0432\\u043e\", \"\\u0441\\u043e\\u0431\\u0441\\u0442\\u0432\\u0435\\u043d\\u043d\\u044b\\u0439\", \"\\u0441\\u043e\\u0431\\u0441\\u0442\\u0432\\u0435\\u043d\\u043d\\u044b\\u0439\", \"\\u0441\\u043e\\u0432\\u0435\\u0442\", \"\\u0441\\u043e\\u0432\\u0435\\u0442\", \"\\u0441\\u043e\\u0432\\u0435\\u0442\\u043e\\u0432\\u0430\\u0442\\u044c\", \"\\u0441\\u043e\\u0432\\u0435\\u0442\\u043e\\u0432\\u0430\\u0442\\u044c\", \"\\u0441\\u043f\\u0430\\u0441\\u0438\\u0431\\u043e\", \"\\u0441\\u043f\\u0430\\u0441\\u0438\\u0431\\u043e\", \"\\u0441\\u0442\\u0430\\u0442\\u044c\", \"\\u0441\\u0442\\u0430\\u0442\\u044c\", \"\\u0441\\u0443\\u043f\\u0435\\u0440\", \"\\u0441\\u0443\\u043f\\u0435\\u0440\", \"\\u0442\\u043e\\u0447\\u043d\\u043e\", \"\\u0442\\u043e\\u0447\\u043d\\u043e\", \"\\u0445\\u043e\\u0440\\u043e\\u0448\\u0438\\u0439\", \"\\u0445\\u043e\\u0440\\u043e\\u0448\\u0438\\u0439\", \"\\u0445\\u043e\\u0442\\u0435\\u0442\\u044c\", \"\\u0445\\u043e\\u0442\\u0435\\u0442\\u044c\", \"\\u0445\\u043e\\u0442\\u0435\\u0442\\u044c\\u0441\\u044f\", \"\\u0445\\u043e\\u0442\\u0435\\u0442\\u044c\\u0441\\u044f\", \"\\u0446\\u0438\\u0442\\u0430\\u0442\\u0430\", \"\\u0446\\u0438\\u0442\\u0430\\u0442\\u0430\", \"\\u0447\\u0430\\u0441\\u0442\\u044c\", \"\\u0447\\u0430\\u0441\\u0442\\u044c\", \"\\u0447\\u0438\\u0442\\u0430\\u0442\\u044c\", \"\\u0447\\u0438\\u0442\\u0430\\u0442\\u044c\", \"\\u0447\\u0438\\u0442\\u0430\\u0442\\u044c\\u0441\\u044f\", \"\\u0447\\u0438\\u0442\\u0430\\u0442\\u044c\\u0441\\u044f\", \"\\u0448\\u0438\\u043a\\u0430\\u0440\\u043d\\u044b\\u0439\", \"\\u0448\\u0438\\u043a\\u0430\\u0440\\u043d\\u044b\\u0439\", \"\\u044d\\u0442\\u043e\", \"\\u044d\\u0442\\u043e\", \"\\u044e\\u043c\\u043e\\u0440\", \"\\u044e\\u043c\\u043e\\u0440\", \"\\u044f\\u0437\\u044b\\u043a\", \"\\u044f\\u0437\\u044b\\u043a\"]}, \"R\": 30, \"lambda.step\": 0.01, \"plot.opts\": {\"xlab\": \"PC1\", \"ylab\": \"PC2\"}, \"topic.order\": [2, 1]};\n",
              "\n",
              "function LDAvis_load_lib(url, callback){\n",
              "  var s = document.createElement('script');\n",
              "  s.src = url;\n",
              "  s.async = true;\n",
              "  s.onreadystatechange = s.onload = callback;\n",
              "  s.onerror = function(){console.warn(\"failed to load library \" + url);};\n",
              "  document.getElementsByTagName(\"head\")[0].appendChild(s);\n",
              "}\n",
              "\n",
              "if(typeof(LDAvis) !== \"undefined\"){\n",
              "   // already loaded: just create the visualization\n",
              "   !function(LDAvis){\n",
              "       new LDAvis(\"#\" + \"ldavis_el1142140474372431696169213327\", ldavis_el1142140474372431696169213327_data);\n",
              "   }(LDAvis);\n",
              "}else if(typeof define === \"function\" && define.amd){\n",
              "   // require.js is available: use it to load d3/LDAvis\n",
              "   require.config({paths: {d3: \"https://cdnjs.cloudflare.com/ajax/libs/d3/3.5.5/d3.min\"}});\n",
              "   require([\"d3\"], function(d3){\n",
              "      window.d3 = d3;\n",
              "      LDAvis_load_lib(\"https://cdn.rawgit.com/bmabey/pyLDAvis/files/ldavis.v1.0.0.js\", function(){\n",
              "        new LDAvis(\"#\" + \"ldavis_el1142140474372431696169213327\", ldavis_el1142140474372431696169213327_data);\n",
              "      });\n",
              "    });\n",
              "}else{\n",
              "    // require.js not available: dynamically load d3 & LDAvis\n",
              "    LDAvis_load_lib(\"https://cdnjs.cloudflare.com/ajax/libs/d3/3.5.5/d3.min.js\", function(){\n",
              "         LDAvis_load_lib(\"https://cdn.rawgit.com/bmabey/pyLDAvis/files/ldavis.v1.0.0.js\", function(){\n",
              "                 new LDAvis(\"#\" + \"ldavis_el1142140474372431696169213327\", ldavis_el1142140474372431696169213327_data);\n",
              "            })\n",
              "         });\n",
              "}\n",
              "</script>"
            ]
          },
          "metadata": {},
          "execution_count": 36
        }
      ]
    },
    {
      "cell_type": "code",
      "source": [
        "print('Perplexity: ', lda1.log_perplexity(corpus))"
      ],
      "metadata": {
        "colab": {
          "base_uri": "https://localhost:8080/"
        },
        "id": "UqP-M0sq6rVO",
        "outputId": "f2c96522-fbfe-48b7-bd2b-a03a20d4f1cf"
      },
      "execution_count": null,
      "outputs": [
        {
          "output_type": "stream",
          "name": "stdout",
          "text": [
            "Perplexity:  -4.865468695245934\n"
          ]
        }
      ]
    },
    {
      "cell_type": "code",
      "source": [
        "print('Персплексия: ', np.exp(lda1.log_perplexity(corpus)))"
      ],
      "metadata": {
        "colab": {
          "base_uri": "https://localhost:8080/"
        },
        "id": "CGCPhESM6rYo",
        "outputId": "2034739c-a35a-4447-8572-4c4fa15585a2"
      },
      "execution_count": null,
      "outputs": [
        {
          "output_type": "stream",
          "name": "stdout",
          "text": [
            "Персплексия:  0.00770821461213484\n"
          ]
        }
      ]
    },
    {
      "cell_type": "code",
      "source": [
        "lda_model = LatentDirichletAllocation(\n",
        "    n_components=2,\n",
        "    learning_method='online',\n",
        "    random_state=1,\n",
        "    n_jobs=-1,\n",
        ")\n",
        "lda_model.fit(train)"
      ],
      "metadata": {
        "colab": {
          "base_uri": "https://localhost:8080/",
          "height": 92
        },
        "id": "UUIukenfM2IG",
        "outputId": "3b4f3975-2c5f-4c21-f71e-90504a8550ce"
      },
      "execution_count": null,
      "outputs": [
        {
          "output_type": "execute_result",
          "data": {
            "text/plain": [
              "LatentDirichletAllocation(learning_method='online', n_components=2, n_jobs=-1,\n",
              "                          random_state=1)"
            ],
            "text/html": [
              "<style>#sk-container-id-3 {color: black;background-color: white;}#sk-container-id-3 pre{padding: 0;}#sk-container-id-3 div.sk-toggleable {background-color: white;}#sk-container-id-3 label.sk-toggleable__label {cursor: pointer;display: block;width: 100%;margin-bottom: 0;padding: 0.3em;box-sizing: border-box;text-align: center;}#sk-container-id-3 label.sk-toggleable__label-arrow:before {content: \"▸\";float: left;margin-right: 0.25em;color: #696969;}#sk-container-id-3 label.sk-toggleable__label-arrow:hover:before {color: black;}#sk-container-id-3 div.sk-estimator:hover label.sk-toggleable__label-arrow:before {color: black;}#sk-container-id-3 div.sk-toggleable__content {max-height: 0;max-width: 0;overflow: hidden;text-align: left;background-color: #f0f8ff;}#sk-container-id-3 div.sk-toggleable__content pre {margin: 0.2em;color: black;border-radius: 0.25em;background-color: #f0f8ff;}#sk-container-id-3 input.sk-toggleable__control:checked~div.sk-toggleable__content {max-height: 200px;max-width: 100%;overflow: auto;}#sk-container-id-3 input.sk-toggleable__control:checked~label.sk-toggleable__label-arrow:before {content: \"▾\";}#sk-container-id-3 div.sk-estimator input.sk-toggleable__control:checked~label.sk-toggleable__label {background-color: #d4ebff;}#sk-container-id-3 div.sk-label input.sk-toggleable__control:checked~label.sk-toggleable__label {background-color: #d4ebff;}#sk-container-id-3 input.sk-hidden--visually {border: 0;clip: rect(1px 1px 1px 1px);clip: rect(1px, 1px, 1px, 1px);height: 1px;margin: -1px;overflow: hidden;padding: 0;position: absolute;width: 1px;}#sk-container-id-3 div.sk-estimator {font-family: monospace;background-color: #f0f8ff;border: 1px dotted black;border-radius: 0.25em;box-sizing: border-box;margin-bottom: 0.5em;}#sk-container-id-3 div.sk-estimator:hover {background-color: #d4ebff;}#sk-container-id-3 div.sk-parallel-item::after {content: \"\";width: 100%;border-bottom: 1px solid gray;flex-grow: 1;}#sk-container-id-3 div.sk-label:hover label.sk-toggleable__label {background-color: #d4ebff;}#sk-container-id-3 div.sk-serial::before {content: \"\";position: absolute;border-left: 1px solid gray;box-sizing: border-box;top: 0;bottom: 0;left: 50%;z-index: 0;}#sk-container-id-3 div.sk-serial {display: flex;flex-direction: column;align-items: center;background-color: white;padding-right: 0.2em;padding-left: 0.2em;position: relative;}#sk-container-id-3 div.sk-item {position: relative;z-index: 1;}#sk-container-id-3 div.sk-parallel {display: flex;align-items: stretch;justify-content: center;background-color: white;position: relative;}#sk-container-id-3 div.sk-item::before, #sk-container-id-3 div.sk-parallel-item::before {content: \"\";position: absolute;border-left: 1px solid gray;box-sizing: border-box;top: 0;bottom: 0;left: 50%;z-index: -1;}#sk-container-id-3 div.sk-parallel-item {display: flex;flex-direction: column;z-index: 1;position: relative;background-color: white;}#sk-container-id-3 div.sk-parallel-item:first-child::after {align-self: flex-end;width: 50%;}#sk-container-id-3 div.sk-parallel-item:last-child::after {align-self: flex-start;width: 50%;}#sk-container-id-3 div.sk-parallel-item:only-child::after {width: 0;}#sk-container-id-3 div.sk-dashed-wrapped {border: 1px dashed gray;margin: 0 0.4em 0.5em 0.4em;box-sizing: border-box;padding-bottom: 0.4em;background-color: white;}#sk-container-id-3 div.sk-label label {font-family: monospace;font-weight: bold;display: inline-block;line-height: 1.2em;}#sk-container-id-3 div.sk-label-container {text-align: center;}#sk-container-id-3 div.sk-container {/* jupyter's `normalize.less` sets `[hidden] { display: none; }` but bootstrap.min.css set `[hidden] { display: none !important; }` so we also need the `!important` here to be able to override the default hidden behavior on the sphinx rendered scikit-learn.org. See: https://github.com/scikit-learn/scikit-learn/issues/21755 */display: inline-block !important;position: relative;}#sk-container-id-3 div.sk-text-repr-fallback {display: none;}</style><div id=\"sk-container-id-3\" class=\"sk-top-container\"><div class=\"sk-text-repr-fallback\"><pre>LatentDirichletAllocation(learning_method=&#x27;online&#x27;, n_components=2, n_jobs=-1,\n",
              "                          random_state=1)</pre><b>In a Jupyter environment, please rerun this cell to show the HTML representation or trust the notebook. <br />On GitHub, the HTML representation is unable to render, please try loading this page with nbviewer.org.</b></div><div class=\"sk-container\" hidden><div class=\"sk-item\"><div class=\"sk-estimator sk-toggleable\"><input class=\"sk-toggleable__control sk-hidden--visually\" id=\"sk-estimator-id-3\" type=\"checkbox\" checked><label for=\"sk-estimator-id-3\" class=\"sk-toggleable__label sk-toggleable__label-arrow\">LatentDirichletAllocation</label><div class=\"sk-toggleable__content\"><pre>LatentDirichletAllocation(learning_method=&#x27;online&#x27;, n_components=2, n_jobs=-1,\n",
              "                          random_state=1)</pre></div></div></div></div></div>"
            ]
          },
          "metadata": {},
          "execution_count": 84
        }
      ]
    },
    {
      "cell_type": "code",
      "source": [
        "def predict_topic(data, vectorizer=vector, model=lda_model):\n",
        "  transf=final_result(data)\n",
        "  vec_text = vector.transform([transf])\n",
        "  topic_proba = model.transform(vec_text)[0]\n",
        "  return np.argmax(topic_proba)"
      ],
      "metadata": {
        "id": "hf3NzVOH-aRQ"
      },
      "execution_count": null,
      "outputs": []
    },
    {
      "cell_type": "code",
      "source": [
        "data['Top_topic']=data['Коммент'].transform(predict_topic)\n",
        "data['Top_topic']=data['Top_topic'].map({0:1,1:2})"
      ],
      "metadata": {
        "id": "I-vk61-pK42H"
      },
      "execution_count": null,
      "outputs": []
    },
    {
      "cell_type": "code",
      "source": [
        "data.head(10)"
      ],
      "metadata": {
        "colab": {
          "base_uri": "https://localhost:8080/",
          "height": 407
        },
        "id": "Sx4PGHPEN9i3",
        "outputId": "7b5822ed-1e5c-4e62-fecc-4a8fd34aa8c9"
      },
      "execution_count": null,
      "outputs": [
        {
          "output_type": "execute_result",
          "data": {
            "text/plain": [
              "                 Имя                                            Коммент  \\\n",
              "0  Anastasia_Markova  Произведение состоит из нескольких глав, в каж...   \n",
              "1           Arinushk  Введение Бестселлер, популярнейшая книга, силь...   \n",
              "2             Vemnos  Книга на твердую четверку.Она помогает, она ле...   \n",
              "3              vampi  Это книга, как и все книги по поиску себя, гов...   \n",
              "4          Iren-hell  В общем я не знаю, кого она и на что замотивир...   \n",
              "5  Svetlana Sokolova  Прекрасная вдохновляющая книга, написанная с ю...   \n",
              "6  nitsa....@mail.ru  Ждала большего от этой книге, по моему много в...   \n",
              "7              Алина  Это ЛУЧШАЯ КНИГА, из всех мотивационных книг, ...   \n",
              "8                + -           Оказывается нужно просто поверить в Бога   \n",
              "9             Anya 🦋  Замечательная книга! Долгое время не могла взя...   \n",
              "\n",
              "                         Дата  Рейтинг  \\\n",
              "0  2019-10-28T21:20:00.000000        4   \n",
              "1  2022-11-02T17:14:00.000000        5   \n",
              "2  2019-08-09T18:48:00.000000        4   \n",
              "3  2020-05-04T16:03:00.000000        3   \n",
              "4  2021-11-03T13:28:00.000000        2   \n",
              "5  2018-05-13T15:12:17.292127        5   \n",
              "6  2018-03-24T14:21:30.578020        5   \n",
              "7  2018-06-25T16:08:41.835889        5   \n",
              "8  2022-07-06T16:48:02.872073        1   \n",
              "9  2018-07-31T23:01:18.262162        5   \n",
              "\n",
              "                                              Ссылка  Top_topic  \n",
              "0  https://mybook.ru/author/dzhen-sinsero-2/ni-sy...          2  \n",
              "1  https://mybook.ru/author/dzhen-sinsero-2/ni-sy...          1  \n",
              "2  https://mybook.ru/author/dzhen-sinsero-2/ni-sy...          1  \n",
              "3  https://mybook.ru/author/dzhen-sinsero-2/ni-sy...          2  \n",
              "4  https://mybook.ru/author/dzhen-sinsero-2/ni-sy...          1  \n",
              "5  https://mybook.ru/author/dzhen-sinsero-2/ni-sy...          2  \n",
              "6  https://mybook.ru/author/dzhen-sinsero-2/ni-sy...          1  \n",
              "7  https://mybook.ru/author/dzhen-sinsero-2/ni-sy...          2  \n",
              "8  https://mybook.ru/author/dzhen-sinsero-2/ni-sy...          1  \n",
              "9  https://mybook.ru/author/dzhen-sinsero-2/ni-sy...          2  "
            ],
            "text/html": [
              "\n",
              "  <div id=\"df-9c453159-a794-4a3e-aa3f-5b4725fef000\">\n",
              "    <div class=\"colab-df-container\">\n",
              "      <div>\n",
              "<style scoped>\n",
              "    .dataframe tbody tr th:only-of-type {\n",
              "        vertical-align: middle;\n",
              "    }\n",
              "\n",
              "    .dataframe tbody tr th {\n",
              "        vertical-align: top;\n",
              "    }\n",
              "\n",
              "    .dataframe thead th {\n",
              "        text-align: right;\n",
              "    }\n",
              "</style>\n",
              "<table border=\"1\" class=\"dataframe\">\n",
              "  <thead>\n",
              "    <tr style=\"text-align: right;\">\n",
              "      <th></th>\n",
              "      <th>Имя</th>\n",
              "      <th>Коммент</th>\n",
              "      <th>Дата</th>\n",
              "      <th>Рейтинг</th>\n",
              "      <th>Ссылка</th>\n",
              "      <th>Top_topic</th>\n",
              "    </tr>\n",
              "  </thead>\n",
              "  <tbody>\n",
              "    <tr>\n",
              "      <th>0</th>\n",
              "      <td>Anastasia_Markova</td>\n",
              "      <td>Произведение состоит из нескольких глав, в каж...</td>\n",
              "      <td>2019-10-28T21:20:00.000000</td>\n",
              "      <td>4</td>\n",
              "      <td>https://mybook.ru/author/dzhen-sinsero-2/ni-sy...</td>\n",
              "      <td>2</td>\n",
              "    </tr>\n",
              "    <tr>\n",
              "      <th>1</th>\n",
              "      <td>Arinushk</td>\n",
              "      <td>Введение Бестселлер, популярнейшая книга, силь...</td>\n",
              "      <td>2022-11-02T17:14:00.000000</td>\n",
              "      <td>5</td>\n",
              "      <td>https://mybook.ru/author/dzhen-sinsero-2/ni-sy...</td>\n",
              "      <td>1</td>\n",
              "    </tr>\n",
              "    <tr>\n",
              "      <th>2</th>\n",
              "      <td>Vemnos</td>\n",
              "      <td>Книга на твердую четверку.Она помогает, она ле...</td>\n",
              "      <td>2019-08-09T18:48:00.000000</td>\n",
              "      <td>4</td>\n",
              "      <td>https://mybook.ru/author/dzhen-sinsero-2/ni-sy...</td>\n",
              "      <td>1</td>\n",
              "    </tr>\n",
              "    <tr>\n",
              "      <th>3</th>\n",
              "      <td>vampi</td>\n",
              "      <td>Это книга, как и все книги по поиску себя, гов...</td>\n",
              "      <td>2020-05-04T16:03:00.000000</td>\n",
              "      <td>3</td>\n",
              "      <td>https://mybook.ru/author/dzhen-sinsero-2/ni-sy...</td>\n",
              "      <td>2</td>\n",
              "    </tr>\n",
              "    <tr>\n",
              "      <th>4</th>\n",
              "      <td>Iren-hell</td>\n",
              "      <td>В общем я не знаю, кого она и на что замотивир...</td>\n",
              "      <td>2021-11-03T13:28:00.000000</td>\n",
              "      <td>2</td>\n",
              "      <td>https://mybook.ru/author/dzhen-sinsero-2/ni-sy...</td>\n",
              "      <td>1</td>\n",
              "    </tr>\n",
              "    <tr>\n",
              "      <th>5</th>\n",
              "      <td>Svetlana Sokolova</td>\n",
              "      <td>Прекрасная вдохновляющая книга, написанная с ю...</td>\n",
              "      <td>2018-05-13T15:12:17.292127</td>\n",
              "      <td>5</td>\n",
              "      <td>https://mybook.ru/author/dzhen-sinsero-2/ni-sy...</td>\n",
              "      <td>2</td>\n",
              "    </tr>\n",
              "    <tr>\n",
              "      <th>6</th>\n",
              "      <td>nitsa....@mail.ru</td>\n",
              "      <td>Ждала большего от этой книге, по моему много в...</td>\n",
              "      <td>2018-03-24T14:21:30.578020</td>\n",
              "      <td>5</td>\n",
              "      <td>https://mybook.ru/author/dzhen-sinsero-2/ni-sy...</td>\n",
              "      <td>1</td>\n",
              "    </tr>\n",
              "    <tr>\n",
              "      <th>7</th>\n",
              "      <td>Алина</td>\n",
              "      <td>Это ЛУЧШАЯ КНИГА, из всех мотивационных книг, ...</td>\n",
              "      <td>2018-06-25T16:08:41.835889</td>\n",
              "      <td>5</td>\n",
              "      <td>https://mybook.ru/author/dzhen-sinsero-2/ni-sy...</td>\n",
              "      <td>2</td>\n",
              "    </tr>\n",
              "    <tr>\n",
              "      <th>8</th>\n",
              "      <td>+ -</td>\n",
              "      <td>Оказывается нужно просто поверить в Бога</td>\n",
              "      <td>2022-07-06T16:48:02.872073</td>\n",
              "      <td>1</td>\n",
              "      <td>https://mybook.ru/author/dzhen-sinsero-2/ni-sy...</td>\n",
              "      <td>1</td>\n",
              "    </tr>\n",
              "    <tr>\n",
              "      <th>9</th>\n",
              "      <td>Anya 🦋</td>\n",
              "      <td>Замечательная книга! Долгое время не могла взя...</td>\n",
              "      <td>2018-07-31T23:01:18.262162</td>\n",
              "      <td>5</td>\n",
              "      <td>https://mybook.ru/author/dzhen-sinsero-2/ni-sy...</td>\n",
              "      <td>2</td>\n",
              "    </tr>\n",
              "  </tbody>\n",
              "</table>\n",
              "</div>\n",
              "      <button class=\"colab-df-convert\" onclick=\"convertToInteractive('df-9c453159-a794-4a3e-aa3f-5b4725fef000')\"\n",
              "              title=\"Convert this dataframe to an interactive table.\"\n",
              "              style=\"display:none;\">\n",
              "        \n",
              "  <svg xmlns=\"http://www.w3.org/2000/svg\" height=\"24px\"viewBox=\"0 0 24 24\"\n",
              "       width=\"24px\">\n",
              "    <path d=\"M0 0h24v24H0V0z\" fill=\"none\"/>\n",
              "    <path d=\"M18.56 5.44l.94 2.06.94-2.06 2.06-.94-2.06-.94-.94-2.06-.94 2.06-2.06.94zm-11 1L8.5 8.5l.94-2.06 2.06-.94-2.06-.94L8.5 2.5l-.94 2.06-2.06.94zm10 10l.94 2.06.94-2.06 2.06-.94-2.06-.94-.94-2.06-.94 2.06-2.06.94z\"/><path d=\"M17.41 7.96l-1.37-1.37c-.4-.4-.92-.59-1.43-.59-.52 0-1.04.2-1.43.59L10.3 9.45l-7.72 7.72c-.78.78-.78 2.05 0 2.83L4 21.41c.39.39.9.59 1.41.59.51 0 1.02-.2 1.41-.59l7.78-7.78 2.81-2.81c.8-.78.8-2.07 0-2.86zM5.41 20L4 18.59l7.72-7.72 1.47 1.35L5.41 20z\"/>\n",
              "  </svg>\n",
              "      </button>\n",
              "      \n",
              "  <style>\n",
              "    .colab-df-container {\n",
              "      display:flex;\n",
              "      flex-wrap:wrap;\n",
              "      gap: 12px;\n",
              "    }\n",
              "\n",
              "    .colab-df-convert {\n",
              "      background-color: #E8F0FE;\n",
              "      border: none;\n",
              "      border-radius: 50%;\n",
              "      cursor: pointer;\n",
              "      display: none;\n",
              "      fill: #1967D2;\n",
              "      height: 32px;\n",
              "      padding: 0 0 0 0;\n",
              "      width: 32px;\n",
              "    }\n",
              "\n",
              "    .colab-df-convert:hover {\n",
              "      background-color: #E2EBFA;\n",
              "      box-shadow: 0px 1px 2px rgba(60, 64, 67, 0.3), 0px 1px 3px 1px rgba(60, 64, 67, 0.15);\n",
              "      fill: #174EA6;\n",
              "    }\n",
              "\n",
              "    [theme=dark] .colab-df-convert {\n",
              "      background-color: #3B4455;\n",
              "      fill: #D2E3FC;\n",
              "    }\n",
              "\n",
              "    [theme=dark] .colab-df-convert:hover {\n",
              "      background-color: #434B5C;\n",
              "      box-shadow: 0px 1px 3px 1px rgba(0, 0, 0, 0.15);\n",
              "      filter: drop-shadow(0px 1px 2px rgba(0, 0, 0, 0.3));\n",
              "      fill: #FFFFFF;\n",
              "    }\n",
              "  </style>\n",
              "\n",
              "      <script>\n",
              "        const buttonEl =\n",
              "          document.querySelector('#df-9c453159-a794-4a3e-aa3f-5b4725fef000 button.colab-df-convert');\n",
              "        buttonEl.style.display =\n",
              "          google.colab.kernel.accessAllowed ? 'block' : 'none';\n",
              "\n",
              "        async function convertToInteractive(key) {\n",
              "          const element = document.querySelector('#df-9c453159-a794-4a3e-aa3f-5b4725fef000');\n",
              "          const dataTable =\n",
              "            await google.colab.kernel.invokeFunction('convertToInteractive',\n",
              "                                                     [key], {});\n",
              "          if (!dataTable) return;\n",
              "\n",
              "          const docLinkHtml = 'Like what you see? Visit the ' +\n",
              "            '<a target=\"_blank\" href=https://colab.research.google.com/notebooks/data_table.ipynb>data table notebook</a>'\n",
              "            + ' to learn more about interactive tables.';\n",
              "          element.innerHTML = '';\n",
              "          dataTable['output_type'] = 'display_data';\n",
              "          await google.colab.output.renderOutput(dataTable, element);\n",
              "          const docLink = document.createElement('div');\n",
              "          docLink.innerHTML = docLinkHtml;\n",
              "          element.appendChild(docLink);\n",
              "        }\n",
              "      </script>\n",
              "    </div>\n",
              "  </div>\n",
              "  "
            ]
          },
          "metadata": {},
          "execution_count": 103
        }
      ]
    },
    {
      "cell_type": "code",
      "source": [
        "predict_topic('Типичная книга о мотивации, много воды')"
      ],
      "metadata": {
        "colab": {
          "base_uri": "https://localhost:8080/"
        },
        "id": "LafjoQCJImPQ",
        "outputId": "cea42175-ce3c-4966-b9a6-6066b9848509"
      },
      "execution_count": null,
      "outputs": [
        {
          "output_type": "execute_result",
          "data": {
            "text/plain": [
              "0"
            ]
          },
          "metadata": {},
          "execution_count": 117
        }
      ]
    },
    {
      "cell_type": "code",
      "source": [
        "def show_topics(vectorizer, model, n_words=10):\n",
        "  feature_names = np.array(vector.get_feature_names_out())\n",
        "  top_words=[]\n",
        "\n",
        "  for i in model.components_:\n",
        "    top_keys_weight = (-i).argsort()[:n_words]\n",
        "    top_words.append(feature_names.take(top_keys_weight))\n",
        "    return top_words"
      ],
      "metadata": {
        "id": "KMNOWMwBImWA"
      },
      "execution_count": null,
      "outputs": []
    },
    {
      "cell_type": "code",
      "source": [
        "topic_keys = show_topics(vectorizer=vector,\n",
        "                         model = lda_model,\n",
        "                         n_words=10)\n",
        "df_top = pd.DataFrame(topic_keys)\n",
        "df_top.columns=['Слово ' + str(i) for i in range(df_top.shape[1])]\n",
        "df_top.index = ['Тема ' + str(i) for i in range(df_top.shape[0])]\n",
        "df_top"
      ],
      "metadata": {
        "id": "cIhm6i4CImZc",
        "colab": {
          "base_uri": "https://localhost:8080/",
          "height": 142
        },
        "outputId": "420eb347-a040-4480-f56c-228aa4072b08"
      },
      "execution_count": null,
      "outputs": [
        {
          "output_type": "execute_result",
          "data": {
            "text/plain": [
              "              Слово 0      Слово 1             Слово 2         Слово 3  \\\n",
              "Тема 0  хороший книга  книга очень  книга саморазвитие  отличный книга   \n",
              "\n",
              "               Слово 4     Слово 5         Слово 6             Слово 7  \\\n",
              "Тема 0  изменить жизнь  весь книга  легко читаться  книга мотивировать   \n",
              "\n",
              "               Слово 8             Слово 9  \n",
              "Тема 0  классный книга  рекомендовать весь  "
            ],
            "text/html": [
              "\n",
              "  <div id=\"df-31f9ede7-d50d-439b-bdc4-30a325c67000\">\n",
              "    <div class=\"colab-df-container\">\n",
              "      <div>\n",
              "<style scoped>\n",
              "    .dataframe tbody tr th:only-of-type {\n",
              "        vertical-align: middle;\n",
              "    }\n",
              "\n",
              "    .dataframe tbody tr th {\n",
              "        vertical-align: top;\n",
              "    }\n",
              "\n",
              "    .dataframe thead th {\n",
              "        text-align: right;\n",
              "    }\n",
              "</style>\n",
              "<table border=\"1\" class=\"dataframe\">\n",
              "  <thead>\n",
              "    <tr style=\"text-align: right;\">\n",
              "      <th></th>\n",
              "      <th>Слово 0</th>\n",
              "      <th>Слово 1</th>\n",
              "      <th>Слово 2</th>\n",
              "      <th>Слово 3</th>\n",
              "      <th>Слово 4</th>\n",
              "      <th>Слово 5</th>\n",
              "      <th>Слово 6</th>\n",
              "      <th>Слово 7</th>\n",
              "      <th>Слово 8</th>\n",
              "      <th>Слово 9</th>\n",
              "    </tr>\n",
              "  </thead>\n",
              "  <tbody>\n",
              "    <tr>\n",
              "      <th>Тема 0</th>\n",
              "      <td>хороший книга</td>\n",
              "      <td>книга очень</td>\n",
              "      <td>книга саморазвитие</td>\n",
              "      <td>отличный книга</td>\n",
              "      <td>изменить жизнь</td>\n",
              "      <td>весь книга</td>\n",
              "      <td>легко читаться</td>\n",
              "      <td>книга мотивировать</td>\n",
              "      <td>классный книга</td>\n",
              "      <td>рекомендовать весь</td>\n",
              "    </tr>\n",
              "  </tbody>\n",
              "</table>\n",
              "</div>\n",
              "      <button class=\"colab-df-convert\" onclick=\"convertToInteractive('df-31f9ede7-d50d-439b-bdc4-30a325c67000')\"\n",
              "              title=\"Convert this dataframe to an interactive table.\"\n",
              "              style=\"display:none;\">\n",
              "        \n",
              "  <svg xmlns=\"http://www.w3.org/2000/svg\" height=\"24px\"viewBox=\"0 0 24 24\"\n",
              "       width=\"24px\">\n",
              "    <path d=\"M0 0h24v24H0V0z\" fill=\"none\"/>\n",
              "    <path d=\"M18.56 5.44l.94 2.06.94-2.06 2.06-.94-2.06-.94-.94-2.06-.94 2.06-2.06.94zm-11 1L8.5 8.5l.94-2.06 2.06-.94-2.06-.94L8.5 2.5l-.94 2.06-2.06.94zm10 10l.94 2.06.94-2.06 2.06-.94-2.06-.94-.94-2.06-.94 2.06-2.06.94z\"/><path d=\"M17.41 7.96l-1.37-1.37c-.4-.4-.92-.59-1.43-.59-.52 0-1.04.2-1.43.59L10.3 9.45l-7.72 7.72c-.78.78-.78 2.05 0 2.83L4 21.41c.39.39.9.59 1.41.59.51 0 1.02-.2 1.41-.59l7.78-7.78 2.81-2.81c.8-.78.8-2.07 0-2.86zM5.41 20L4 18.59l7.72-7.72 1.47 1.35L5.41 20z\"/>\n",
              "  </svg>\n",
              "      </button>\n",
              "      \n",
              "  <style>\n",
              "    .colab-df-container {\n",
              "      display:flex;\n",
              "      flex-wrap:wrap;\n",
              "      gap: 12px;\n",
              "    }\n",
              "\n",
              "    .colab-df-convert {\n",
              "      background-color: #E8F0FE;\n",
              "      border: none;\n",
              "      border-radius: 50%;\n",
              "      cursor: pointer;\n",
              "      display: none;\n",
              "      fill: #1967D2;\n",
              "      height: 32px;\n",
              "      padding: 0 0 0 0;\n",
              "      width: 32px;\n",
              "    }\n",
              "\n",
              "    .colab-df-convert:hover {\n",
              "      background-color: #E2EBFA;\n",
              "      box-shadow: 0px 1px 2px rgba(60, 64, 67, 0.3), 0px 1px 3px 1px rgba(60, 64, 67, 0.15);\n",
              "      fill: #174EA6;\n",
              "    }\n",
              "\n",
              "    [theme=dark] .colab-df-convert {\n",
              "      background-color: #3B4455;\n",
              "      fill: #D2E3FC;\n",
              "    }\n",
              "\n",
              "    [theme=dark] .colab-df-convert:hover {\n",
              "      background-color: #434B5C;\n",
              "      box-shadow: 0px 1px 3px 1px rgba(0, 0, 0, 0.15);\n",
              "      filter: drop-shadow(0px 1px 2px rgba(0, 0, 0, 0.3));\n",
              "      fill: #FFFFFF;\n",
              "    }\n",
              "  </style>\n",
              "\n",
              "      <script>\n",
              "        const buttonEl =\n",
              "          document.querySelector('#df-31f9ede7-d50d-439b-bdc4-30a325c67000 button.colab-df-convert');\n",
              "        buttonEl.style.display =\n",
              "          google.colab.kernel.accessAllowed ? 'block' : 'none';\n",
              "\n",
              "        async function convertToInteractive(key) {\n",
              "          const element = document.querySelector('#df-31f9ede7-d50d-439b-bdc4-30a325c67000');\n",
              "          const dataTable =\n",
              "            await google.colab.kernel.invokeFunction('convertToInteractive',\n",
              "                                                     [key], {});\n",
              "          if (!dataTable) return;\n",
              "\n",
              "          const docLinkHtml = 'Like what you see? Visit the ' +\n",
              "            '<a target=\"_blank\" href=https://colab.research.google.com/notebooks/data_table.ipynb>data table notebook</a>'\n",
              "            + ' to learn more about interactive tables.';\n",
              "          element.innerHTML = '';\n",
              "          dataTable['output_type'] = 'display_data';\n",
              "          await google.colab.output.renderOutput(dataTable, element);\n",
              "          const docLink = document.createElement('div');\n",
              "          docLink.innerHTML = docLinkHtml;\n",
              "          element.appendChild(docLink);\n",
              "        }\n",
              "      </script>\n",
              "    </div>\n",
              "  </div>\n",
              "  "
            ]
          },
          "metadata": {},
          "execution_count": 116
        }
      ]
    },
    {
      "cell_type": "code",
      "source": [
        "data.groupby(data['Top_topic'])['Рейтинг'].mean()"
      ],
      "metadata": {
        "colab": {
          "base_uri": "https://localhost:8080/"
        },
        "id": "XRL0LPWlYhZN",
        "outputId": "73125152-2f38-4cc3-9e4c-4cbb610afaba"
      },
      "execution_count": null,
      "outputs": [
        {
          "output_type": "execute_result",
          "data": {
            "text/plain": [
              "Top_topic\n",
              "1    4.546448\n",
              "2    4.596154\n",
              "Name: Рейтинг, dtype: float64"
            ]
          },
          "metadata": {},
          "execution_count": 126
        }
      ]
    },
    {
      "cell_type": "markdown",
      "source": [
        "# LSA"
      ],
      "metadata": {
        "id": "amLe8g83fvPt"
      }
    },
    {
      "cell_type": "code",
      "source": [
        "from gensim.models import LsiModel"
      ],
      "metadata": {
        "id": "If1hCaiDYhfV"
      },
      "execution_count": null,
      "outputs": []
    },
    {
      "cell_type": "code",
      "source": [
        "lsi = lsimodel.LsiModel(corpus, id2word=dictionary, num_topics=2, chunksize=50)\n",
        "lsi.show_topics(num_topics=2, num_words=10, formatted=False)"
      ],
      "metadata": {
        "colab": {
          "base_uri": "https://localhost:8080/"
        },
        "id": "a0hUq_8lb_ch",
        "outputId": "398e3ada-786c-4e22-d48a-ba66e0fed98d"
      },
      "execution_count": null,
      "outputs": [
        {
          "output_type": "execute_result",
          "data": {
            "text/plain": [
              "[(0,\n",
              "  [('это', 0.62914947366356),\n",
              "   ('книга', 0.5334732202096003),\n",
              "   ('жизнь', 0.23603445441964274),\n",
              "   ('весь', 0.1925114605485078),\n",
              "   ('всё', 0.13849241050998187),\n",
              "   ('мочь', 0.13616373169248666),\n",
              "   ('саморазвитие', 0.10820174795404439),\n",
              "   ('жанр', 0.10671208701101988),\n",
              "   ('свой', 0.10495740932393095),\n",
              "   ('очень', 0.1001518490064423)]),\n",
              " (1,\n",
              "  [('это', -0.37206946442787847),\n",
              "   ('книга', 0.3384139722331989),\n",
              "   ('свой', 0.2862700721945937),\n",
              "   ('автор', 0.23226397190401304),\n",
              "   ('всё', 0.1975319135485001),\n",
              "   ('знать', 0.18253263111499746),\n",
              "   ('глава', 0.18055424920232552),\n",
              "   ('жанр', -0.17272009484761972),\n",
              "   ('должный', 0.16815837839669598),\n",
              "   ('саморазвитие', -0.1587174904002542)])]"
            ]
          },
          "metadata": {},
          "execution_count": 128
        }
      ]
    },
    {
      "cell_type": "code",
      "source": [
        "!pip install bertopic[visualization] --quiet"
      ],
      "metadata": {
        "colab": {
          "base_uri": "https://localhost:8080/"
        },
        "id": "XTNc1dLzkni9",
        "outputId": "6eee8448-2814-44ef-c79d-bb57668e61ed"
      },
      "execution_count": null,
      "outputs": [
        {
          "output_type": "stream",
          "name": "stdout",
          "text": [
            "\u001b[33mWARNING: bertopic 0.14.1 does not provide the extra 'visualization'\u001b[0m\u001b[33m\n",
            "\u001b[0m\u001b[33mWARNING: Running pip as the 'root' user can result in broken permissions and conflicting behaviour with the system package manager. It is recommended to use a virtual environment instead: https://pip.pypa.io/warnings/venv\u001b[0m\u001b[33m\n",
            "\u001b[0m"
          ]
        }
      ]
    },
    {
      "cell_type": "code",
      "source": [
        "!pip install bertopic"
      ],
      "metadata": {
        "colab": {
          "base_uri": "https://localhost:8080/"
        },
        "id": "Gz0NNLo04e1A",
        "outputId": "fec4b7de-0386-495d-fe05-c77bcda9943d"
      },
      "execution_count": null,
      "outputs": [
        {
          "output_type": "stream",
          "name": "stdout",
          "text": [
            "Looking in indexes: https://pypi.org/simple, https://us-python.pkg.dev/colab-wheels/public/simple/\n",
            "Requirement already satisfied: bertopic in /usr/local/lib/python3.10/dist-packages (0.14.1)\n",
            "Requirement already satisfied: numpy>=1.20.0 in /usr/local/lib/python3.10/dist-packages (from bertopic) (1.22.4)\n",
            "Requirement already satisfied: hdbscan>=0.8.29 in /usr/local/lib/python3.10/dist-packages (from bertopic) (0.8.29)\n",
            "Requirement already satisfied: umap-learn>=0.5.0 in /usr/local/lib/python3.10/dist-packages (from bertopic) (0.5.3)\n",
            "Requirement already satisfied: pandas>=1.1.5 in /usr/local/lib/python3.10/dist-packages (from bertopic) (1.5.3)\n",
            "Requirement already satisfied: scikit-learn>=0.22.2.post1 in /usr/local/lib/python3.10/dist-packages (from bertopic) (1.2.2)\n",
            "Requirement already satisfied: tqdm>=4.41.1 in /usr/local/lib/python3.10/dist-packages (from bertopic) (4.65.0)\n",
            "Requirement already satisfied: sentence-transformers>=0.4.1 in /usr/local/lib/python3.10/dist-packages (from bertopic) (2.2.2)\n",
            "Requirement already satisfied: plotly>=4.7.0 in /usr/local/lib/python3.10/dist-packages (from bertopic) (5.13.1)\n",
            "Requirement already satisfied: cython>=0.27 in /usr/local/lib/python3.10/dist-packages (from hdbscan>=0.8.29->bertopic) (0.29.34)\n",
            "Requirement already satisfied: scipy>=1.0 in /usr/local/lib/python3.10/dist-packages (from hdbscan>=0.8.29->bertopic) (1.10.1)\n",
            "Requirement already satisfied: joblib>=1.0 in /usr/local/lib/python3.10/dist-packages (from hdbscan>=0.8.29->bertopic) (1.2.0)\n",
            "Requirement already satisfied: python-dateutil>=2.8.1 in /usr/local/lib/python3.10/dist-packages (from pandas>=1.1.5->bertopic) (2.8.2)\n",
            "Requirement already satisfied: pytz>=2020.1 in /usr/local/lib/python3.10/dist-packages (from pandas>=1.1.5->bertopic) (2022.7.1)\n",
            "Requirement already satisfied: tenacity>=6.2.0 in /usr/local/lib/python3.10/dist-packages (from plotly>=4.7.0->bertopic) (8.2.2)\n",
            "Requirement already satisfied: threadpoolctl>=2.0.0 in /usr/local/lib/python3.10/dist-packages (from scikit-learn>=0.22.2.post1->bertopic) (3.1.0)\n",
            "Requirement already satisfied: transformers<5.0.0,>=4.6.0 in /usr/local/lib/python3.10/dist-packages (from sentence-transformers>=0.4.1->bertopic) (4.29.2)\n",
            "Requirement already satisfied: torch>=1.6.0 in /usr/local/lib/python3.10/dist-packages (from sentence-transformers>=0.4.1->bertopic) (2.0.1+cu118)\n",
            "Requirement already satisfied: torchvision in /usr/local/lib/python3.10/dist-packages (from sentence-transformers>=0.4.1->bertopic) (0.15.2+cu118)\n",
            "Requirement already satisfied: nltk in /usr/local/lib/python3.10/dist-packages (from sentence-transformers>=0.4.1->bertopic) (3.8.1)\n",
            "Requirement already satisfied: sentencepiece in /usr/local/lib/python3.10/dist-packages (from sentence-transformers>=0.4.1->bertopic) (0.1.99)\n",
            "Requirement already satisfied: huggingface-hub>=0.4.0 in /usr/local/lib/python3.10/dist-packages (from sentence-transformers>=0.4.1->bertopic) (0.14.1)\n",
            "Requirement already satisfied: numba>=0.49 in /usr/local/lib/python3.10/dist-packages (from umap-learn>=0.5.0->bertopic) (0.56.4)\n",
            "Requirement already satisfied: pynndescent>=0.5 in /usr/local/lib/python3.10/dist-packages (from umap-learn>=0.5.0->bertopic) (0.5.10)\n",
            "Requirement already satisfied: filelock in /usr/local/lib/python3.10/dist-packages (from huggingface-hub>=0.4.0->sentence-transformers>=0.4.1->bertopic) (3.12.0)\n",
            "Requirement already satisfied: fsspec in /usr/local/lib/python3.10/dist-packages (from huggingface-hub>=0.4.0->sentence-transformers>=0.4.1->bertopic) (2023.4.0)\n",
            "Requirement already satisfied: requests in /usr/local/lib/python3.10/dist-packages (from huggingface-hub>=0.4.0->sentence-transformers>=0.4.1->bertopic) (2.27.1)\n",
            "Requirement already satisfied: pyyaml>=5.1 in /usr/local/lib/python3.10/dist-packages (from huggingface-hub>=0.4.0->sentence-transformers>=0.4.1->bertopic) (6.0)\n",
            "Requirement already satisfied: typing-extensions>=3.7.4.3 in /usr/local/lib/python3.10/dist-packages (from huggingface-hub>=0.4.0->sentence-transformers>=0.4.1->bertopic) (4.5.0)\n",
            "Requirement already satisfied: packaging>=20.9 in /usr/local/lib/python3.10/dist-packages (from huggingface-hub>=0.4.0->sentence-transformers>=0.4.1->bertopic) (23.1)\n",
            "Requirement already satisfied: llvmlite<0.40,>=0.39.0dev0 in /usr/local/lib/python3.10/dist-packages (from numba>=0.49->umap-learn>=0.5.0->bertopic) (0.39.1)\n",
            "Requirement already satisfied: setuptools in /usr/local/lib/python3.10/dist-packages (from numba>=0.49->umap-learn>=0.5.0->bertopic) (67.7.2)\n",
            "Requirement already satisfied: six>=1.5 in /usr/local/lib/python3.10/dist-packages (from python-dateutil>=2.8.1->pandas>=1.1.5->bertopic) (1.16.0)\n",
            "Requirement already satisfied: sympy in /usr/local/lib/python3.10/dist-packages (from torch>=1.6.0->sentence-transformers>=0.4.1->bertopic) (1.11.1)\n",
            "Requirement already satisfied: networkx in /usr/local/lib/python3.10/dist-packages (from torch>=1.6.0->sentence-transformers>=0.4.1->bertopic) (3.1)\n",
            "Requirement already satisfied: jinja2 in /usr/local/lib/python3.10/dist-packages (from torch>=1.6.0->sentence-transformers>=0.4.1->bertopic) (3.1.2)\n",
            "Requirement already satisfied: triton==2.0.0 in /usr/local/lib/python3.10/dist-packages (from torch>=1.6.0->sentence-transformers>=0.4.1->bertopic) (2.0.0)\n",
            "Requirement already satisfied: cmake in /usr/local/lib/python3.10/dist-packages (from triton==2.0.0->torch>=1.6.0->sentence-transformers>=0.4.1->bertopic) (3.25.2)\n",
            "Requirement already satisfied: lit in /usr/local/lib/python3.10/dist-packages (from triton==2.0.0->torch>=1.6.0->sentence-transformers>=0.4.1->bertopic) (16.0.5)\n",
            "Requirement already satisfied: regex!=2019.12.17 in /usr/local/lib/python3.10/dist-packages (from transformers<5.0.0,>=4.6.0->sentence-transformers>=0.4.1->bertopic) (2022.10.31)\n",
            "Requirement already satisfied: tokenizers!=0.11.3,<0.14,>=0.11.1 in /usr/local/lib/python3.10/dist-packages (from transformers<5.0.0,>=4.6.0->sentence-transformers>=0.4.1->bertopic) (0.13.3)\n",
            "Requirement already satisfied: click in /usr/local/lib/python3.10/dist-packages (from nltk->sentence-transformers>=0.4.1->bertopic) (8.1.3)\n",
            "Requirement already satisfied: pillow!=8.3.*,>=5.3.0 in /usr/local/lib/python3.10/dist-packages (from torchvision->sentence-transformers>=0.4.1->bertopic) (8.4.0)\n",
            "Requirement already satisfied: MarkupSafe>=2.0 in /usr/local/lib/python3.10/dist-packages (from jinja2->torch>=1.6.0->sentence-transformers>=0.4.1->bertopic) (2.1.2)\n",
            "Requirement already satisfied: urllib3<1.27,>=1.21.1 in /usr/local/lib/python3.10/dist-packages (from requests->huggingface-hub>=0.4.0->sentence-transformers>=0.4.1->bertopic) (1.26.15)\n",
            "Requirement already satisfied: certifi>=2017.4.17 in /usr/local/lib/python3.10/dist-packages (from requests->huggingface-hub>=0.4.0->sentence-transformers>=0.4.1->bertopic) (2022.12.7)\n",
            "Requirement already satisfied: charset-normalizer~=2.0.0 in /usr/local/lib/python3.10/dist-packages (from requests->huggingface-hub>=0.4.0->sentence-transformers>=0.4.1->bertopic) (2.0.12)\n",
            "Requirement already satisfied: idna<4,>=2.5 in /usr/local/lib/python3.10/dist-packages (from requests->huggingface-hub>=0.4.0->sentence-transformers>=0.4.1->bertopic) (3.4)\n",
            "Requirement already satisfied: mpmath>=0.19 in /usr/local/lib/python3.10/dist-packages (from sympy->torch>=1.6.0->sentence-transformers>=0.4.1->bertopic) (1.3.0)\n",
            "\u001b[33mWARNING: Running pip as the 'root' user can result in broken permissions and conflicting behaviour with the system package manager. It is recommended to use a virtual environment instead: https://pip.pypa.io/warnings/venv\u001b[0m\u001b[33m\n",
            "\u001b[0m"
          ]
        }
      ]
    },
    {
      "cell_type": "code",
      "source": [
        "from bertopic import BERTopic"
      ],
      "metadata": {
        "id": "mWbxKCrJknme"
      },
      "execution_count": null,
      "outputs": []
    },
    {
      "cell_type": "code",
      "source": [
        "data1.head()"
      ],
      "metadata": {
        "colab": {
          "base_uri": "https://localhost:8080/",
          "height": 206
        },
        "id": "GcNC5OrCy0pl",
        "outputId": "5baeacff-bd8f-4252-bed8-ee3c2ad5ce5a"
      },
      "execution_count": null,
      "outputs": [
        {
          "output_type": "execute_result",
          "data": {
            "text/plain": [
              "                 Имя                                            Коммент  \\\n",
              "0  Anastasia_Markova  произведение состоять несколько глава каждый р...   \n",
              "1           Arinushk  введение бестселлер популярный книга сильный м...   \n",
              "2             Vemnos  книга твёрдый четвёрка помогать лечить эмоцион...   \n",
              "3              vampi  это книга всё книга поиск говорить должный боя...   \n",
              "4          Iren-hell  общий знать замотивировать лично кроме смешанн...   \n",
              "\n",
              "   Рейтинг  \n",
              "0        4  \n",
              "1        5  \n",
              "2        4  \n",
              "3        3  \n",
              "4        2  "
            ],
            "text/html": [
              "\n",
              "  <div id=\"df-30a04f9e-d94f-4d18-9ea6-66cace64bf4e\">\n",
              "    <div class=\"colab-df-container\">\n",
              "      <div>\n",
              "<style scoped>\n",
              "    .dataframe tbody tr th:only-of-type {\n",
              "        vertical-align: middle;\n",
              "    }\n",
              "\n",
              "    .dataframe tbody tr th {\n",
              "        vertical-align: top;\n",
              "    }\n",
              "\n",
              "    .dataframe thead th {\n",
              "        text-align: right;\n",
              "    }\n",
              "</style>\n",
              "<table border=\"1\" class=\"dataframe\">\n",
              "  <thead>\n",
              "    <tr style=\"text-align: right;\">\n",
              "      <th></th>\n",
              "      <th>Имя</th>\n",
              "      <th>Коммент</th>\n",
              "      <th>Рейтинг</th>\n",
              "    </tr>\n",
              "  </thead>\n",
              "  <tbody>\n",
              "    <tr>\n",
              "      <th>0</th>\n",
              "      <td>Anastasia_Markova</td>\n",
              "      <td>произведение состоять несколько глава каждый р...</td>\n",
              "      <td>4</td>\n",
              "    </tr>\n",
              "    <tr>\n",
              "      <th>1</th>\n",
              "      <td>Arinushk</td>\n",
              "      <td>введение бестселлер популярный книга сильный м...</td>\n",
              "      <td>5</td>\n",
              "    </tr>\n",
              "    <tr>\n",
              "      <th>2</th>\n",
              "      <td>Vemnos</td>\n",
              "      <td>книга твёрдый четвёрка помогать лечить эмоцион...</td>\n",
              "      <td>4</td>\n",
              "    </tr>\n",
              "    <tr>\n",
              "      <th>3</th>\n",
              "      <td>vampi</td>\n",
              "      <td>это книга всё книга поиск говорить должный боя...</td>\n",
              "      <td>3</td>\n",
              "    </tr>\n",
              "    <tr>\n",
              "      <th>4</th>\n",
              "      <td>Iren-hell</td>\n",
              "      <td>общий знать замотивировать лично кроме смешанн...</td>\n",
              "      <td>2</td>\n",
              "    </tr>\n",
              "  </tbody>\n",
              "</table>\n",
              "</div>\n",
              "      <button class=\"colab-df-convert\" onclick=\"convertToInteractive('df-30a04f9e-d94f-4d18-9ea6-66cace64bf4e')\"\n",
              "              title=\"Convert this dataframe to an interactive table.\"\n",
              "              style=\"display:none;\">\n",
              "        \n",
              "  <svg xmlns=\"http://www.w3.org/2000/svg\" height=\"24px\"viewBox=\"0 0 24 24\"\n",
              "       width=\"24px\">\n",
              "    <path d=\"M0 0h24v24H0V0z\" fill=\"none\"/>\n",
              "    <path d=\"M18.56 5.44l.94 2.06.94-2.06 2.06-.94-2.06-.94-.94-2.06-.94 2.06-2.06.94zm-11 1L8.5 8.5l.94-2.06 2.06-.94-2.06-.94L8.5 2.5l-.94 2.06-2.06.94zm10 10l.94 2.06.94-2.06 2.06-.94-2.06-.94-.94-2.06-.94 2.06-2.06.94z\"/><path d=\"M17.41 7.96l-1.37-1.37c-.4-.4-.92-.59-1.43-.59-.52 0-1.04.2-1.43.59L10.3 9.45l-7.72 7.72c-.78.78-.78 2.05 0 2.83L4 21.41c.39.39.9.59 1.41.59.51 0 1.02-.2 1.41-.59l7.78-7.78 2.81-2.81c.8-.78.8-2.07 0-2.86zM5.41 20L4 18.59l7.72-7.72 1.47 1.35L5.41 20z\"/>\n",
              "  </svg>\n",
              "      </button>\n",
              "      \n",
              "  <style>\n",
              "    .colab-df-container {\n",
              "      display:flex;\n",
              "      flex-wrap:wrap;\n",
              "      gap: 12px;\n",
              "    }\n",
              "\n",
              "    .colab-df-convert {\n",
              "      background-color: #E8F0FE;\n",
              "      border: none;\n",
              "      border-radius: 50%;\n",
              "      cursor: pointer;\n",
              "      display: none;\n",
              "      fill: #1967D2;\n",
              "      height: 32px;\n",
              "      padding: 0 0 0 0;\n",
              "      width: 32px;\n",
              "    }\n",
              "\n",
              "    .colab-df-convert:hover {\n",
              "      background-color: #E2EBFA;\n",
              "      box-shadow: 0px 1px 2px rgba(60, 64, 67, 0.3), 0px 1px 3px 1px rgba(60, 64, 67, 0.15);\n",
              "      fill: #174EA6;\n",
              "    }\n",
              "\n",
              "    [theme=dark] .colab-df-convert {\n",
              "      background-color: #3B4455;\n",
              "      fill: #D2E3FC;\n",
              "    }\n",
              "\n",
              "    [theme=dark] .colab-df-convert:hover {\n",
              "      background-color: #434B5C;\n",
              "      box-shadow: 0px 1px 3px 1px rgba(0, 0, 0, 0.15);\n",
              "      filter: drop-shadow(0px 1px 2px rgba(0, 0, 0, 0.3));\n",
              "      fill: #FFFFFF;\n",
              "    }\n",
              "  </style>\n",
              "\n",
              "      <script>\n",
              "        const buttonEl =\n",
              "          document.querySelector('#df-30a04f9e-d94f-4d18-9ea6-66cace64bf4e button.colab-df-convert');\n",
              "        buttonEl.style.display =\n",
              "          google.colab.kernel.accessAllowed ? 'block' : 'none';\n",
              "\n",
              "        async function convertToInteractive(key) {\n",
              "          const element = document.querySelector('#df-30a04f9e-d94f-4d18-9ea6-66cace64bf4e');\n",
              "          const dataTable =\n",
              "            await google.colab.kernel.invokeFunction('convertToInteractive',\n",
              "                                                     [key], {});\n",
              "          if (!dataTable) return;\n",
              "\n",
              "          const docLinkHtml = 'Like what you see? Visit the ' +\n",
              "            '<a target=\"_blank\" href=https://colab.research.google.com/notebooks/data_table.ipynb>data table notebook</a>'\n",
              "            + ' to learn more about interactive tables.';\n",
              "          element.innerHTML = '';\n",
              "          dataTable['output_type'] = 'display_data';\n",
              "          await google.colab.output.renderOutput(dataTable, element);\n",
              "          const docLink = document.createElement('div');\n",
              "          docLink.innerHTML = docLinkHtml;\n",
              "          element.appendChild(docLink);\n",
              "        }\n",
              "      </script>\n",
              "    </div>\n",
              "  </div>\n",
              "  "
            ]
          },
          "metadata": {},
          "execution_count": 27
        }
      ]
    },
    {
      "cell_type": "code",
      "source": [
        "model = BERTopic(language='russian')"
      ],
      "metadata": {
        "id": "R8e5woqdrSia"
      },
      "execution_count": null,
      "outputs": []
    },
    {
      "cell_type": "code",
      "source": [
        "docs = list(data1.loc[:,'Коммент'].values)"
      ],
      "metadata": {
        "id": "kRNdfv79xTSS"
      },
      "execution_count": null,
      "outputs": []
    },
    {
      "cell_type": "code",
      "source": [
        "topics, probs = model.fit_transform(docs)"
      ],
      "metadata": {
        "id": "RmUHbobLxTU-"
      },
      "execution_count": null,
      "outputs": []
    },
    {
      "cell_type": "code",
      "source": [
        "model.get_topic_freq()"
      ],
      "metadata": {
        "colab": {
          "base_uri": "https://localhost:8080/",
          "height": 112
        },
        "id": "QPDLOJ82xTXs",
        "outputId": "23a49cbf-5913-4c2c-9551-7bc6a5f400cd"
      },
      "execution_count": null,
      "outputs": [
        {
          "output_type": "execute_result",
          "data": {
            "text/plain": [
              "   Topic  Count\n",
              "0      0    171\n",
              "1      1     64"
            ],
            "text/html": [
              "\n",
              "  <div id=\"df-3a0b0671-7c35-4d88-b70e-018c2dbeaef0\">\n",
              "    <div class=\"colab-df-container\">\n",
              "      <div>\n",
              "<style scoped>\n",
              "    .dataframe tbody tr th:only-of-type {\n",
              "        vertical-align: middle;\n",
              "    }\n",
              "\n",
              "    .dataframe tbody tr th {\n",
              "        vertical-align: top;\n",
              "    }\n",
              "\n",
              "    .dataframe thead th {\n",
              "        text-align: right;\n",
              "    }\n",
              "</style>\n",
              "<table border=\"1\" class=\"dataframe\">\n",
              "  <thead>\n",
              "    <tr style=\"text-align: right;\">\n",
              "      <th></th>\n",
              "      <th>Topic</th>\n",
              "      <th>Count</th>\n",
              "    </tr>\n",
              "  </thead>\n",
              "  <tbody>\n",
              "    <tr>\n",
              "      <th>0</th>\n",
              "      <td>0</td>\n",
              "      <td>171</td>\n",
              "    </tr>\n",
              "    <tr>\n",
              "      <th>1</th>\n",
              "      <td>1</td>\n",
              "      <td>64</td>\n",
              "    </tr>\n",
              "  </tbody>\n",
              "</table>\n",
              "</div>\n",
              "      <button class=\"colab-df-convert\" onclick=\"convertToInteractive('df-3a0b0671-7c35-4d88-b70e-018c2dbeaef0')\"\n",
              "              title=\"Convert this dataframe to an interactive table.\"\n",
              "              style=\"display:none;\">\n",
              "        \n",
              "  <svg xmlns=\"http://www.w3.org/2000/svg\" height=\"24px\"viewBox=\"0 0 24 24\"\n",
              "       width=\"24px\">\n",
              "    <path d=\"M0 0h24v24H0V0z\" fill=\"none\"/>\n",
              "    <path d=\"M18.56 5.44l.94 2.06.94-2.06 2.06-.94-2.06-.94-.94-2.06-.94 2.06-2.06.94zm-11 1L8.5 8.5l.94-2.06 2.06-.94-2.06-.94L8.5 2.5l-.94 2.06-2.06.94zm10 10l.94 2.06.94-2.06 2.06-.94-2.06-.94-.94-2.06-.94 2.06-2.06.94z\"/><path d=\"M17.41 7.96l-1.37-1.37c-.4-.4-.92-.59-1.43-.59-.52 0-1.04.2-1.43.59L10.3 9.45l-7.72 7.72c-.78.78-.78 2.05 0 2.83L4 21.41c.39.39.9.59 1.41.59.51 0 1.02-.2 1.41-.59l7.78-7.78 2.81-2.81c.8-.78.8-2.07 0-2.86zM5.41 20L4 18.59l7.72-7.72 1.47 1.35L5.41 20z\"/>\n",
              "  </svg>\n",
              "      </button>\n",
              "      \n",
              "  <style>\n",
              "    .colab-df-container {\n",
              "      display:flex;\n",
              "      flex-wrap:wrap;\n",
              "      gap: 12px;\n",
              "    }\n",
              "\n",
              "    .colab-df-convert {\n",
              "      background-color: #E8F0FE;\n",
              "      border: none;\n",
              "      border-radius: 50%;\n",
              "      cursor: pointer;\n",
              "      display: none;\n",
              "      fill: #1967D2;\n",
              "      height: 32px;\n",
              "      padding: 0 0 0 0;\n",
              "      width: 32px;\n",
              "    }\n",
              "\n",
              "    .colab-df-convert:hover {\n",
              "      background-color: #E2EBFA;\n",
              "      box-shadow: 0px 1px 2px rgba(60, 64, 67, 0.3), 0px 1px 3px 1px rgba(60, 64, 67, 0.15);\n",
              "      fill: #174EA6;\n",
              "    }\n",
              "\n",
              "    [theme=dark] .colab-df-convert {\n",
              "      background-color: #3B4455;\n",
              "      fill: #D2E3FC;\n",
              "    }\n",
              "\n",
              "    [theme=dark] .colab-df-convert:hover {\n",
              "      background-color: #434B5C;\n",
              "      box-shadow: 0px 1px 3px 1px rgba(0, 0, 0, 0.15);\n",
              "      filter: drop-shadow(0px 1px 2px rgba(0, 0, 0, 0.3));\n",
              "      fill: #FFFFFF;\n",
              "    }\n",
              "  </style>\n",
              "\n",
              "      <script>\n",
              "        const buttonEl =\n",
              "          document.querySelector('#df-3a0b0671-7c35-4d88-b70e-018c2dbeaef0 button.colab-df-convert');\n",
              "        buttonEl.style.display =\n",
              "          google.colab.kernel.accessAllowed ? 'block' : 'none';\n",
              "\n",
              "        async function convertToInteractive(key) {\n",
              "          const element = document.querySelector('#df-3a0b0671-7c35-4d88-b70e-018c2dbeaef0');\n",
              "          const dataTable =\n",
              "            await google.colab.kernel.invokeFunction('convertToInteractive',\n",
              "                                                     [key], {});\n",
              "          if (!dataTable) return;\n",
              "\n",
              "          const docLinkHtml = 'Like what you see? Visit the ' +\n",
              "            '<a target=\"_blank\" href=https://colab.research.google.com/notebooks/data_table.ipynb>data table notebook</a>'\n",
              "            + ' to learn more about interactive tables.';\n",
              "          element.innerHTML = '';\n",
              "          dataTable['output_type'] = 'display_data';\n",
              "          await google.colab.output.renderOutput(dataTable, element);\n",
              "          const docLink = document.createElement('div');\n",
              "          docLink.innerHTML = docLinkHtml;\n",
              "          element.appendChild(docLink);\n",
              "        }\n",
              "      </script>\n",
              "    </div>\n",
              "  </div>\n",
              "  "
            ]
          },
          "metadata": {},
          "execution_count": 31
        }
      ]
    },
    {
      "cell_type": "code",
      "source": [
        "model.get_topic(0)"
      ],
      "metadata": {
        "colab": {
          "base_uri": "https://localhost:8080/"
        },
        "id": "pCEm4FJ1x9t7",
        "outputId": "1f577f51-4afc-4699-8724-574ae7ab1db4"
      },
      "execution_count": null,
      "outputs": [
        {
          "output_type": "execute_result",
          "data": {
            "text/plain": [
              "[('книга', 0.15128216461929228),\n",
              " ('это', 0.07318967202389447),\n",
              " ('очень', 0.056997033969241225),\n",
              " ('жизнь', 0.05089997730933775),\n",
              " ('всё', 0.04488137638668523),\n",
              " ('свой', 0.0442961709666944),\n",
              " ('автор', 0.04315199220979002),\n",
              " ('хороший', 0.042768716795429075),\n",
              " ('читать', 0.04199416548411143),\n",
              " ('весь', 0.03925208067033787)]"
            ]
          },
          "metadata": {},
          "execution_count": 32
        }
      ]
    },
    {
      "cell_type": "code",
      "source": [
        "model.get_topic(1)"
      ],
      "metadata": {
        "colab": {
          "base_uri": "https://localhost:8080/"
        },
        "id": "Pmj3m2CJx9wR",
        "outputId": "c861b2b3-9baa-4062-b953-83ad324c1ec1"
      },
      "execution_count": null,
      "outputs": [
        {
          "output_type": "execute_result",
          "data": {
            "text/plain": [
              "[('супер', 0.35015325189717794),\n",
              " ('понравиться', 0.2899780788749685),\n",
              " ('всё', 0.2513557440941813),\n",
              " ('круто', 0.24875687643650735),\n",
              " ('спасибо', 0.16509670738047924),\n",
              " ('огонь', 0.16289618532950054),\n",
              " ('вода', 0.14439087435688946),\n",
              " ('отлично', 0.10347387210579759),\n",
              " ('очень', 0.09120252438062897),\n",
              " ('крутой', 0.08719289147475662)]"
            ]
          },
          "metadata": {},
          "execution_count": 33
        }
      ]
    },
    {
      "cell_type": "code",
      "source": [],
      "metadata": {
        "id": "E00OCX-nrSoO"
      },
      "execution_count": null,
      "outputs": []
    }
  ]
}